{
  "cells": [
    {
      "cell_type": "markdown",
      "metadata": {
        "id": "df1ae4b1-d5df-4629-b96e-ceec79f2a613"
      },
      "source": [
        "<div style=\"text-align: center;\">\n",
        "  <a href=\"https://cognitiveclass.ai/?utm_medium=Exinfluencer&utm_source=Exinfluencer&utm_content=000026UJ&utm_term=10006555&utm_id=NA-SkillsNetwork-Channel-SkillsNetworkCoursesIBMDeveloperSkillsNetworkDL0321ENSkillsNetwork951-2022-01-01\">\n",
        "    <img src=\"https://cf-courses-data.s3.us.cloud-object-storage.appdomain.cloud/IBMDeveloperSkillsNetwork-DL0321EN-SkillsNetwork/image/IDSN-logo.png\" width=\"400\">\n",
        "  </a>\n",
        "</div>\n",
        "\n"
      ]
    },
    {
      "cell_type": "markdown",
      "metadata": {
        "id": "8a1f6de3-13bd-424a-bf58-f02187a98f91"
      },
      "source": [
        "<h1 align=left><font size = 6>Lab: Data Loading and Augmentation Using PyTorch</font></h1>\n",
        "\n",
        "<h1 align=left><font size = 5.5>Building efficient data loaders with PyTorch</font></h1>\n"
      ]
    },
    {
      "cell_type": "markdown",
      "metadata": {
        "id": "568d1df9-36c2-4e98-8727-178a2bde071c"
      },
      "source": [
        "<h5>Estimated time: 60 minutes</h5>\n"
      ]
    },
    {
      "cell_type": "markdown",
      "metadata": {
        "id": "cc074df0-340e-40b4-b27a-a14daf7139c3"
      },
      "source": [
        "<h2>Objective</h2>\n",
        "After completing this lab, you'll be able to:\n",
        "\n",
        "- Load the data using Pytorch data loader\n",
        "- Augment the image dataset using PyTorch\n",
        "- Visualize the augmented data\n"
      ]
    },
    {
      "cell_type": "markdown",
      "metadata": {
        "id": "923540ba-1ffe-41b8-8e26-bed56670c4e4"
      },
      "source": [
        "## Introduction\n",
        "\n",
        "Welcome to the PyTorch version of the data loading lab! You have explored the core concept of sequential loading by manually handling file paths and opening images one by one. This memory-efficient method is the foundation for how all modern deep learning frameworks handle large datasets.\n",
        "\n",
        "In this notebook, you will implement the **PyTorch** utilities for the same. You will discover PyTorch's modular approach, which separates *data representation* from *data iteration*:\n",
        "\n",
        "1.  **Custom `Dataset` Class:** You'll build our own dataset class from scratch by inheriting from `torch.utils.data.Dataset`. This gives you full control and a deep understanding of the data pipeline.\n",
        "2.  **In-built `ImageFolder` Utility:** You'll use the convenient `torchvision.datasets.ImageFolder` class, which automatically handles data from a standard directory structure.\n",
        "3.  **The `DataLoader`:** You'll wrap both of our datasets in a `DataLoader`, PyTorch's engine for efficient batching, shuffling, and parallelized data loading.\n",
        "\n",
        "Finally, you'll compare these methods to understand why this modular design is so powerful.\n"
      ]
    },
    {
      "cell_type": "markdown",
      "metadata": {
        "id": "c98a6d9e-e7c8-4122-9fea-2d65ab7e28ad"
      },
      "source": [
        "## Table of contents\n",
        "\n",
        "\n",
        "<div>\n",
        "<font size = 3>    \n",
        "\n",
        "0.  [Setup](#Setup)\n",
        "1.  [Custom PyTorch `Dataset`](#Custom-PyTorch-Dataset)\n",
        "2.  [In-built `ImageFolder` utility](#In-built-ImageFolder-utility)\n",
        "3.  [The `DataLoader` - Bringing it all together](#The-DataLoader---Bringing-it-all-together)\n",
        "4.  [Comparison and analysis](#Comparison-and-analysis)\n",
        "\n",
        "</font>\n",
        "</div>\n"
      ]
    },
    {
      "cell_type": "markdown",
      "metadata": {
        "id": "483a4b18-830a-45a3-b30e-8b95ff87e38d"
      },
      "source": [
        "## Setup\n",
        "\n",
        "Let's begin by importing our libraries and defining the data directories.\n"
      ]
    },
    {
      "cell_type": "markdown",
      "metadata": {
        "id": "1c9d684c-3c4a-4f03-a2ff-04a49f3fc872"
      },
      "source": [
        "### Install required libraries\n",
        "\n",
        "Some of the required libraries are __not__ pre-installed in the Skills Network Labs environment. You must run the following __cell__ to install them; it might take a few minutes for the installation.\n"
      ]
    },
    {
      "cell_type": "code",
      "metadata": {
        "colab": {
          "base_uri": "https://localhost:8080/"
        },
        "id": "64537cc1-f021-4c95-b00c-f1e381710a95",
        "outputId": "199cd05f-0de7-4504-b3d8-14a009fecefd"
      },
      "outputs": [
        {
          "output_type": "stream",
          "name": "stdout",
          "text": [
            "CPU times: user 6.94 s, sys: 1 s, total: 7.95 s\n",
            "Wall time: 19.8 s\n"
          ]
        }
      ],
      "source": [
        "%%time\n",
        "%%capture captured_output\n",
        "%pip install numpy==1.26\n",
        "%pip install matplotlib==3.9.2\n",
        "%pip install skillsnetwork\n",
        "%pip install pandas==2.2.3"
      ],
      "execution_count": 1
    },
    {
      "cell_type": "markdown",
      "metadata": {
        "id": "3b625492-9d90-4487-aceb-774d2ede95d1"
      },
      "source": [
        "Now let's check if the above libraries are installed properly.\n"
      ]
    },
    {
      "cell_type": "code",
      "metadata": {
        "colab": {
          "base_uri": "https://localhost:8080/"
        },
        "id": "b548c693-99a8-4821-9534-69f038d44ed5",
        "outputId": "349e03c2-7f30-4ac1-dde4-971c68535174"
      },
      "outputs": [
        {
          "output_type": "stream",
          "name": "stdout",
          "text": [
            "✅ Library installation was successful, let's proceed ahead\n"
          ]
        }
      ],
      "source": [
        "# define a function to check for successful installation of the libraries\n",
        "def lib_installation_check(captured_data, n_lines_print):\n",
        "    \"\"\"\n",
        "    A function to use the %%capture output from the cells where we try to install the libraries.\n",
        "    It would print last \"n_lines_print\" if there is an error in library installation\n",
        "    \"\"\"\n",
        "    output_text = captured_data.stdout\n",
        "    lines = output_text.splitlines()\n",
        "    output_last_n_lines = '\\n'.join(lines[-n_lines_print:])\n",
        "    if \"error\" in output_last_n_lines.lower():\n",
        "        print(\"❌ Library installation failed!\")\n",
        "        print(\"--- Error Details ---\")\n",
        "        print(output_last_n_lines)\n",
        "    else:\n",
        "        print(\"✅ Library installation was successful, let's proceed ahead\")\n",
        "\n",
        "lib_installation_check(captured_data = captured_output, n_lines_print = 5)"
      ],
      "execution_count": 2
    },
    {
      "cell_type": "markdown",
      "metadata": {
        "id": "ca5417ab-e997-4f85-b785-f2d094bc794f"
      },
      "source": [
        "### `PyTorch (torch)` library installation\n",
        "\n",
        "Next, install the `PyTorch (torch)` library using the code below.\n"
      ]
    },
    {
      "cell_type": "code",
      "source": [
        "%pip install torch==2.7.0 torchvision==0.22"
      ],
      "metadata": {
        "colab": {
          "base_uri": "https://localhost:8080/"
        },
        "id": "97igC3QdLdeu",
        "outputId": "b25e4fe6-cc3e-41c0-f08b-6d58cda3c791"
      },
      "execution_count": 3,
      "outputs": [
        {
          "output_type": "stream",
          "name": "stdout",
          "text": [
            "Requirement already satisfied: torch==2.7.0 in /usr/local/lib/python3.12/dist-packages (2.7.0)\n",
            "Requirement already satisfied: torchvision==0.22 in /usr/local/lib/python3.12/dist-packages (0.22.0)\n",
            "Requirement already satisfied: filelock in /usr/local/lib/python3.12/dist-packages (from torch==2.7.0) (3.19.1)\n",
            "Requirement already satisfied: typing-extensions>=4.10.0 in /usr/local/lib/python3.12/dist-packages (from torch==2.7.0) (4.15.0)\n",
            "Requirement already satisfied: setuptools in /usr/local/lib/python3.12/dist-packages (from torch==2.7.0) (75.2.0)\n",
            "Requirement already satisfied: sympy>=1.13.3 in /usr/local/lib/python3.12/dist-packages (from torch==2.7.0) (1.13.3)\n",
            "Requirement already satisfied: networkx in /usr/local/lib/python3.12/dist-packages (from torch==2.7.0) (3.5)\n",
            "Requirement already satisfied: jinja2 in /usr/local/lib/python3.12/dist-packages (from torch==2.7.0) (3.1.6)\n",
            "Requirement already satisfied: fsspec in /usr/local/lib/python3.12/dist-packages (from torch==2.7.0) (2025.3.0)\n",
            "Requirement already satisfied: nvidia-cuda-nvrtc-cu12==12.6.77 in /usr/local/lib/python3.12/dist-packages (from torch==2.7.0) (12.6.77)\n",
            "Requirement already satisfied: nvidia-cuda-runtime-cu12==12.6.77 in /usr/local/lib/python3.12/dist-packages (from torch==2.7.0) (12.6.77)\n",
            "Requirement already satisfied: nvidia-cuda-cupti-cu12==12.6.80 in /usr/local/lib/python3.12/dist-packages (from torch==2.7.0) (12.6.80)\n",
            "Requirement already satisfied: nvidia-cudnn-cu12==9.5.1.17 in /usr/local/lib/python3.12/dist-packages (from torch==2.7.0) (9.5.1.17)\n",
            "Requirement already satisfied: nvidia-cublas-cu12==12.6.4.1 in /usr/local/lib/python3.12/dist-packages (from torch==2.7.0) (12.6.4.1)\n",
            "Requirement already satisfied: nvidia-cufft-cu12==11.3.0.4 in /usr/local/lib/python3.12/dist-packages (from torch==2.7.0) (11.3.0.4)\n",
            "Requirement already satisfied: nvidia-curand-cu12==10.3.7.77 in /usr/local/lib/python3.12/dist-packages (from torch==2.7.0) (10.3.7.77)\n",
            "Requirement already satisfied: nvidia-cusolver-cu12==11.7.1.2 in /usr/local/lib/python3.12/dist-packages (from torch==2.7.0) (11.7.1.2)\n",
            "Requirement already satisfied: nvidia-cusparse-cu12==12.5.4.2 in /usr/local/lib/python3.12/dist-packages (from torch==2.7.0) (12.5.4.2)\n",
            "Requirement already satisfied: nvidia-cusparselt-cu12==0.6.3 in /usr/local/lib/python3.12/dist-packages (from torch==2.7.0) (0.6.3)\n",
            "Requirement already satisfied: nvidia-nccl-cu12==2.26.2 in /usr/local/lib/python3.12/dist-packages (from torch==2.7.0) (2.26.2)\n",
            "Requirement already satisfied: nvidia-nvtx-cu12==12.6.77 in /usr/local/lib/python3.12/dist-packages (from torch==2.7.0) (12.6.77)\n",
            "Requirement already satisfied: nvidia-nvjitlink-cu12==12.6.85 in /usr/local/lib/python3.12/dist-packages (from torch==2.7.0) (12.6.85)\n",
            "Requirement already satisfied: nvidia-cufile-cu12==1.11.1.6 in /usr/local/lib/python3.12/dist-packages (from torch==2.7.0) (1.11.1.6)\n",
            "Requirement already satisfied: triton==3.3.0 in /usr/local/lib/python3.12/dist-packages (from torch==2.7.0) (3.3.0)\n",
            "Requirement already satisfied: numpy in /usr/local/lib/python3.12/dist-packages (from torchvision==0.22) (1.26.0)\n",
            "Requirement already satisfied: pillow!=8.3.*,>=5.3.0 in /usr/local/lib/python3.12/dist-packages (from torchvision==0.22) (11.3.0)\n",
            "Requirement already satisfied: mpmath<1.4,>=1.1.0 in /usr/local/lib/python3.12/dist-packages (from sympy>=1.13.3->torch==2.7.0) (1.3.0)\n",
            "Requirement already satisfied: MarkupSafe>=2.0 in /usr/local/lib/python3.12/dist-packages (from jinja2->torch==2.7.0) (3.0.2)\n"
          ]
        }
      ]
    },
    {
      "cell_type": "code",
      "metadata": {
        "id": "78f53e63-eb49-4868-8153-177acce4feee"
      },
      "outputs": [],
      "source": [
        "import os\n",
        "import numpy as np\n",
        "import matplotlib.pyplot as plt\n",
        "import skillsnetwork\n",
        "from PIL import Image\n",
        "import torch\n",
        "from torch.utils.data import Dataset, DataLoader\n",
        "from torchvision import datasets, transforms"
      ],
      "execution_count": 4
    },
    {
      "cell_type": "markdown",
      "metadata": {
        "id": "af48ef0d-348c-4827-85e0-c29d88c2d968"
      },
      "source": [
        "## Download data\n",
        "1. Download and extract data from the cloud using `skillsnetwork.prepare` method.\n",
        "2. Use a fallback method if the `skillsnetwork.prepare` command fails to download and extract the dataset.\n"
      ]
    },
    {
      "cell_type": "markdown",
      "metadata": {
        "id": "bee56b85-c3a7-4144-a7e0-6eccbb5a0314"
      },
      "source": [
        "First, set up the data extraction directory.\n"
      ]
    },
    {
      "cell_type": "code",
      "metadata": {
        "id": "37b5bc7f-9973-4ca0-9e1e-0b137ac32b6c"
      },
      "outputs": [],
      "source": [
        "extract_dir = \".\""
      ],
      "execution_count": 5
    },
    {
      "cell_type": "markdown",
      "metadata": {
        "id": "2cd07f48-1634-494c-8fd9-f2f6ef50af86"
      },
      "source": [
        "### Data acquisition and preparation\n"
      ]
    },
    {
      "cell_type": "markdown",
      "metadata": {
        "id": "c073d337-8d56-4d3d-8e2d-7586e9cf8a59"
      },
      "source": [
        "### Define the dataset URL\n",
        "We define the `url` that holds the link to the dataset. The dataset is a `.tar` archive hosted on a cloud object storage service. Cloud object storage (such as S3) is a highly scalable and durable way to store and retrieve large amounts of unstructured data.\n"
      ]
    },
    {
      "cell_type": "code",
      "metadata": {
        "id": "60aa1111-6dac-472d-b7ef-23dd9762e2c6"
      },
      "outputs": [],
      "source": [
        "url = \"https://cf-courses-data.s3.us.cloud-object-storage.appdomain.cloud/4Z1fwRR295-1O3PMQBH6Dg/images-dataSAT.tar\""
      ],
      "execution_count": 6
    },
    {
      "cell_type": "markdown",
      "metadata": {
        "id": "41932d28-3052-40e6-b0d4-250f2370015e"
      },
      "source": [
        "### Download the data\n",
        "\n",
        "1. Download and extract data from the cloud using `skillsnetwork.prepare` method.\n",
        "2. Use a fallback method if the `skillsnetwork.prepare` command fails to download and extract the dataset. The fallback involves asynchronously downloading the `.tar` file using `httpx` and then extracting its contents using the `tarfile` library.\n",
        "3. The `tarfile` module provides an interface to tar archives, supporting various compression formats such as gzip and bzip2 (handled by `r:*` mode).\n"
      ]
    },
    {
      "cell_type": "code",
      "metadata": {
        "id": "c3b47041-3b7b-40ab-9aa8-75a9f87ec781"
      },
      "outputs": [],
      "source": [
        "def check_skillnetwork_extraction(extract_dir):\n",
        "    \"\"\" function to check whether data download and extraction method\n",
        "    `skillsnetwork.prepare` would execute successfully, without downloading any data.\n",
        "    This helps in early detection and fast fallback to explicit download and extraction\n",
        "    using default libraries\n",
        "    ###This is a hack for the code to run on non-cloud computing environment without errors\n",
        "    \"\"\"\n",
        "    symlink_test = os.path.join(extract_dir, \"symlink_test\")\n",
        "    if not os.path.exists(symlink_test):\n",
        "        os.symlink(os.path.join(os.sep, \"tmp\"), symlink_test)\n",
        "        print(\"Write permissions available for downloading and extracting the dataset tar file\")\n",
        "    os.unlink(symlink_test)\n",
        "\n",
        "async def download_tar_dataset(url, tar_path, extract_dir):\n",
        "    \"\"\"function to explicitly download and extract the dataset tar file from cloud using native python libraries\n",
        "    \"\"\"\n",
        "    if not os.path.exists(tar_path): # download only if file not downloaded already\n",
        "        try:\n",
        "            print(f\"Downloading from {url}...\")\n",
        "            async with httpx.AsyncClient() as client:\n",
        "                response = await client.get(url, follow_redirects=True)# Download the file asynchronously\n",
        "                response.raise_for_status() # Raise an exception for bad status codes (4xx or 5xx)\n",
        "\n",
        "                with open(tar_path , \"wb\") as f:\n",
        "                    f.write(response.content) # Save the downloaded file\n",
        "                print(f\"Successfully downloaded '{file_name}'.\")\n",
        "        except httpx.HTTPStatusError as http_err:\n",
        "            print(f\"HTTP error occurred during download: {http_err}\")\n",
        "        except Exception as download_err:\n",
        "            print(f\"An error occurred during the fallback process: {download_err}\")\n",
        "    else:\n",
        "        print(f\"dataset tar file already downloaded at: {tar_path}\")\n",
        "    with tarfile.open(tar_path, 'r:*') as tar_ref:\n",
        "        tar_ref.extractall(path=extract_dir)\n",
        "    print(f\"✅ Successfully extracted to '{extract_dir}'.\")\n",
        ""
      ],
      "execution_count": 7
    },
    {
      "cell_type": "code",
      "metadata": {
        "colab": {
          "base_uri": "https://localhost:8080/",
          "height": 116,
          "referenced_widgets": [
            "b1555f10374649d9a2f006c7a73fb6d5",
            "4a3e49f08ba847cbb97acd9ed2f6333d",
            "96d82f3e204545249442cc1ec7c74fd8",
            "4d46889af18d4456a1c836c861592a25",
            "1767a29a7309427584c88010165b7c42",
            "55500cf934e542cea17ed9afc68c3631",
            "4a1cd939bc614d9fbbe8e9db665ce4ee",
            "ad5f0db2591a4b959c38ad0714356b4a",
            "d40923a3dc524538974a1050248a4f20",
            "3a1c63f5c0b74d07a8581a0d09f80fda",
            "bab255a86485450993a5a2283b6871fe",
            "bcf73a64f16c43d1aedd0d26e1ecf32e",
            "8bf396a0257647fb92c9537d83a95821",
            "f71b95f15cd14f17837a025105c06022",
            "637bf8fde99645cf9705b60dce45b3ec",
            "aba2cd01c1d34cfb95bbd5fd7950b3c8",
            "3a42eaf238be43b8b2559c83fd82bf10",
            "e9b27ff19641477f84d991b3b556b1b3",
            "0197d994c8674c86a204d7222b7e5578",
            "964c3987141e4ab584a7604181880d66",
            "0b51de5daf7b474283aef6bb0290526e",
            "c17bb4eafe3248b59192e7b2562e89f9"
          ]
        },
        "id": "a858b758-cef8-429b-bda5-8e85f22c9a18",
        "outputId": "b0e1377f-e836-4e86-e0c9-f3d6ee6b7f11"
      },
      "outputs": [
        {
          "output_type": "stream",
          "name": "stdout",
          "text": [
            "Write permissions available for downloading and extracting the dataset tar file\n"
          ]
        },
        {
          "output_type": "display_data",
          "data": {
            "text/plain": [
              "Downloading images-dataSAT.tar:   0%|          | 0/20243456 [00:00<?, ?it/s]"
            ],
            "application/vnd.jupyter.widget-view+json": {
              "version_major": 2,
              "version_minor": 0,
              "model_id": "b1555f10374649d9a2f006c7a73fb6d5"
            }
          },
          "metadata": {}
        },
        {
          "output_type": "display_data",
          "data": {
            "text/plain": [
              "  0%|          | 0/6003 [00:00<?, ?it/s]"
            ],
            "application/vnd.jupyter.widget-view+json": {
              "version_major": 2,
              "version_minor": 0,
              "model_id": "bcf73a64f16c43d1aedd0d26e1ecf32e"
            }
          },
          "metadata": {}
        },
        {
          "output_type": "stream",
          "name": "stdout",
          "text": [
            "Saved to '.'\n"
          ]
        }
      ],
      "source": [
        "try:\n",
        "    check_skillnetwork_extraction(extract_dir)\n",
        "    await skillsnetwork.prepare(url = url, path = extract_dir, overwrite = True)\n",
        "except Exception as e:\n",
        "    print(e)\n",
        "    # --- FALLBACK METHOD FOR DOWNLOADING THE DATA ---\n",
        "    print(\"❌ Primary download/extration method failed.\")\n",
        "    print(\"Falling back to manual download and extraction...\")\n",
        "\n",
        "    # import libraries required for downloading and extraction\n",
        "    import tarfile\n",
        "    import httpx\n",
        "    from pathlib import Path\n",
        "\n",
        "    file_name = Path(url).name\n",
        "    tar_path = os.path.join(extract_dir, file_name)\n",
        "    print(f\"tar_path: {os.path.exists(tar_path)} ___ {tar_path}\")\n",
        "    await download_tar_dataset(url, tar_path, extract_dir)"
      ],
      "execution_count": 8
    },
    {
      "cell_type": "markdown",
      "metadata": {
        "id": "8f937823-b3d7-495d-8d7d-82bc6a382f5d"
      },
      "source": [
        "### Define the directories\n"
      ]
    },
    {
      "cell_type": "code",
      "metadata": {
        "id": "4f0c146d-26b4-4f12-9718-589df6de1435"
      },
      "outputs": [],
      "source": [
        "# Define directories\n",
        "base_dir = os.path.join(extract_dir, 'images_dataSAT')\n",
        "dir_non_agri = os.path.join(base_dir, 'class_0_non_agri')\n",
        "dir_agri = os.path.join(base_dir, 'class_1_agri')"
      ],
      "execution_count": 9
    },
    {
      "cell_type": "markdown",
      "metadata": {
        "id": "41b7cf9a-036e-40fb-ba87-1359b478f464"
      },
      "source": [
        "## Custom PyTorch `Dataset`\n",
        "\n",
        "In PyTorch,\n",
        "- A `Dataset` object is an iterable (gives one sample at a time).\n",
        "\n",
        "- A `DataLoader` is an iterator that returns batches (adds a batch dimension: `[B, C, H, W]`).\n",
        "\n",
        "- To create a custom dataset, we will create a class that inherits from `torch.utils.data.Dataset` and implements three essential methods:\n",
        "- `__init__(self)`: This method is run once when the dataset is instantiated. It's where you perform initial setup, such as loading file paths and labels.\n",
        "- `__len__(self)`: This returns the total number of samples in the dataset.\n",
        "- `__getitem__(self, idx)`: This method is responsible for loading and returning a *single* sample from the dataset at the given index `idx`. This is the core of sequential loading; it fetches one data point from storage \"just-in-time\".\n"
      ]
    },
    {
      "cell_type": "code",
      "metadata": {
        "id": "4ae5d0c7-c419-4e01-8e1c-f7ef19b31e18"
      },
      "outputs": [],
      "source": [
        "class CustomBinaryClassDataset(Dataset):\n",
        "    \"\"\"A custom dataset for our agricultural land classification task.\"\"\"\n",
        "    def __init__(self, non_agri_dir, agri_dir, transform=None):\n",
        "        \"\"\"\n",
        "        Args:\n",
        "            non_agri_dir (string): Directory with all the non-agricultural images.\n",
        "            agri_dir (string): Directory with all the agricultural images.\n",
        "            transform (callable, optional): Optional transform to be applied on a sample.\n",
        "        \"\"\"\n",
        "        self.transform = transform\n",
        "        self.image_paths = []\n",
        "        self.labels = []\n",
        "\n",
        "        # Load non-agri paths and assign label 0\n",
        "        for fname in os.listdir(non_agri_dir):\n",
        "            self.image_paths.append(os.path.join(non_agri_dir, fname))\n",
        "            self.labels.append(0)\n",
        "\n",
        "        # Load agri paths and assign label 1\n",
        "        for fname in os.listdir(agri_dir):\n",
        "            self.image_paths.append(os.path.join(agri_dir, fname))\n",
        "            self.labels.append(1)\n",
        "\n",
        "        temp = list(zip(self.image_paths, self.labels))\n",
        "        np.random.shuffle(temp)\n",
        "        self.image_paths, self.labels = zip(*temp)\n",
        "\n",
        "    def __len__(self):\n",
        "        return len(self.image_paths)\n",
        "\n",
        "    def __getitem__(self, idx):\n",
        "        image_path = self.image_paths[idx]\n",
        "        image = Image.open(image_path).convert(\"RGB\") # Ensure image is in RGB format\n",
        "\n",
        "        label = self.labels[idx]\n",
        "\n",
        "        # Apply transformations if they exist\n",
        "        if self.transform:\n",
        "            image = self.transform(image)\n",
        "\n",
        "        return image, label"
      ],
      "execution_count": 10
    },
    {
      "cell_type": "markdown",
      "metadata": {
        "id": "8a45e299-4729-441f-ba97-404512f4567d"
      },
      "source": [
        "### Define transformations\n",
        "\n",
        "- `torchvision.transforms` provides a suite of common image transformations. These are used for preprocessing (such as `resizing` and `converting to a tensor`) and data augmentation (such as `random flips` and `rotations`).\n",
        "- `transforms.Compose` chains these operations together into a single, callable pipeline. Data augmentation is a crucial regularization technique that helps prevent overfitting by showing the model slightly different versions of the same image at each epoch.\n",
        "- Transforms like `RandomFlip` and `Rotation` work on PIL images and must be applied before `ToTensor()`, which converts images to tensors.\n",
        "- `Normalize()` scales tensor values (e.g., from `[0, 1]` to `[-1, 1]`) using `(x - mean) / std`  or can be based on model you are fine tuining\n"
      ]
    },
    {
      "cell_type": "code",
      "metadata": {
        "id": "e8f89cf9-5813-489d-9cbd-372a7d4f7428"
      },
      "outputs": [],
      "source": [
        "test_transform = transforms.Compose([transforms.Resize((128, 128)),\n",
        "                                     transforms.RandomHorizontalFlip(),\n",
        "                                     transforms.RandomRotation(20),\n",
        "                                     transforms.ToTensor(), # Converts PIL Image to a tensor and scales values to [0, 1]\n",
        "                                     transforms.Normalize(mean = [0.5, 0.5, 0.5], std = [0.5, 0.5, 0.5]) # Normalize to [-1, 1]\n",
        "])"
      ],
      "execution_count": 11
    },
    {
      "cell_type": "markdown",
      "metadata": {
        "id": "2dd5fc23-470a-42b1-a9c9-fafdddba8cc7"
      },
      "source": [
        "Now that you know how a data augmentation pipeline works in PyTorch, let’s create a transformation pipeline `custom_transform`for the given specifications.\n"
      ]
    },
    {
      "cell_type": "markdown",
      "metadata": {
        "id": "dd0d379e-3524-4d33-be79-56e4fd761446"
      },
      "source": [
        "### **Task 1**: Create a transformation pipeline `custom_transform` for:\n",
        "    1. image size = 64 x 64 pixels\n",
        "    2. RandomHorizontalFlip probability 0.5\n",
        "    3. RandomVerticalFlip probability 0.2\n",
        "    4. RandomRotation of 45 degrees\n",
        "\n",
        "Then, transform it to tensor and normalize it to [-1, 1]\n"
      ]
    },
    {
      "cell_type": "code",
      "metadata": {
        "id": "1c5cd6dc-fe1d-489c-b481-69764d4a49eb"
      },
      "outputs": [],
      "source": [
        "## You can use this cell to type the code to complete the task.\n",
        "custom_transform = transforms.Compose([transforms.Resize((64, 64)),\n",
        "                                       transforms.RandomHorizontalFlip(p=0.5),\n",
        "                                       transforms.RandomVerticalFlip(p=0.2),\n",
        "                                       transforms.RandomRotation(45),\n",
        "                                       transforms.ToTensor(),\n",
        "                                       transforms.Normalize(mean=[0.5, 0.5, 0.5], std=[0.5, 0.5, 0.5]) # Normalize to [-1, 1]\n",
        "                                      ])\n"
      ],
      "execution_count": 12
    },
    {
      "cell_type": "markdown",
      "metadata": {
        "id": "34a56bd0-67e8-4239-9489-fa394f602306"
      },
      "source": [
        "Double-click **here** for the solution.\n",
        "<!-- The correct answer is:\n",
        "\n",
        "custom_transform = transforms.Compose([transforms.Resize((64, 64)),\n",
        "                                       transforms.RandomHorizontalFlip(p=0.5),\n",
        "                                       transforms.RandomVerticalFlip(p=0.2),\n",
        "                                       transforms.RandomRotation(45),\n",
        "                                       transforms.ToTensor(),\n",
        "                                       transforms.Normalize(mean=[0.5, 0.5, 0.5], std=[0.5, 0.5, 0.5]) # Normalize to [-1, 1]\n",
        "                                      ])\n",
        "\n",
        "-->\n"
      ]
    },
    {
      "cell_type": "markdown",
      "metadata": {
        "id": "26fa7987-6232-46aa-92f3-026cd2e53813"
      },
      "source": [
        "## In-built `ImageFolder` utility\n",
        "\n",
        "For datasets that follow a standard `root/class_name/xxx.ext` directory structure, PyTorch provides `torchvision.datasets.ImageFolder`. This is a specialized `Dataset` class that does all the work of finding image paths and inferring class labels for you. It's the most convenient way to load image datasets organized in folders, where each subfolder represents a different class.\n",
        "\n",
        "**ImageFolder** acts as a quick bridge between raw image files and PyTorch models. You can point the `root` argument at the top-level dataset folder, and the class automatically walks through every subfolder, using each subfolder’s name as a label. You can attach a `transform pipeline` with common choices including `transforms.Resize`, `transforms.CenterCrop`, `transforms.ToTensor`, and `transforms.Normalize` to pre-process every image on the fly. Calling `len(dataset)` reveals total images, while indexing `dataset[i]` returns an `(image, label)` pair. You can then combine it with `DataLoader` to batch, shuffle, and parallel-load data effortlessly.\n",
        "\n",
        "**ImageFolder** works on the `dataset folder` structured as represented below:\n",
        "\n",
        "    dataset/\n",
        "    ├── class1/\n",
        "    │   ├── image1.jpg\n",
        "    │   └── image2.jpg\n",
        "    └── class2/\n",
        "        ├── image3.jpg\n",
        "        └── image4.jpg\n",
        "    \n",
        "\n",
        "From this dataset, you can create a `dataset object` like this:\n",
        "\n",
        "```\n",
        "# Define transformations\n",
        "transform = transforms.Compose([\n",
        "    transforms.Resize((224, 224)),\n",
        "    transforms.ToTensor()\n",
        "])\n",
        "\n",
        "# Load dataset\n",
        "dataset = datasets.ImageFolder(\n",
        "    root='path/to/dataset',\n",
        "    transform=transform\n",
        "\n",
        "```\n",
        "\n",
        "Then, you can use this `dataset object` to create a `dataloader` like this:\n",
        "```\n",
        "dataloader = DataLoader(dataset, batch_size=32, shuffle=True)\n",
        "\n",
        "for images, labels in dataloader:\n",
        "    # Your training code here\n",
        "    .\n",
        "    .\n",
        "    ...\n",
        "\n",
        "```\n",
        "This `dataloader` can then be used for creating batches of images for training / testing of the model.\n",
        "\n",
        "**`ImageFolder`** automatically assigns numerical labels to classes based on folder names alphabetically. Access class names via `dataset.classes` and class-to-index mapping via `dataset.class_to_idx`\n"
      ]
    },
    {
      "cell_type": "markdown",
      "metadata": {
        "id": "c45b9692-bd3d-4661-9cca-2994adc33c35"
      },
      "source": [
        "Your task is to get the dataset and apply custom_transform.\n"
      ]
    },
    {
      "cell_type": "markdown",
      "metadata": {
        "id": "54e2cd75-5b49-4549-abf9-cad6da93a828"
      },
      "source": [
        "### **Task 2**: Get the dataset **imagefolder_dataset** using `datasets.Imagefolder` method and applying **custom_transform**\n"
      ]
    },
    {
      "cell_type": "code",
      "metadata": {
        "id": "24bc3e2c-c229-4ff2-9b73-05a79cdc5814"
      },
      "outputs": [],
      "source": [
        "## You can use this cell to type the code to complete the task.\n",
        "imagefolder_dataset = datasets.ImageFolder(root=base_dir, transform=custom_transform)\n"
      ],
      "execution_count": 13
    },
    {
      "cell_type": "markdown",
      "metadata": {
        "id": "1cf6515c-9519-40ba-b550-fd12527d0501"
      },
      "source": [
        "Next, print the name and the class index.\n"
      ]
    },
    {
      "cell_type": "markdown",
      "metadata": {
        "id": "5d1e3d89-7450-4ea3-9844-ce3a64738b37"
      },
      "source": [
        "### **Task 3**: Print the name and the class index from the **imagefolder_dataset**\n"
      ]
    },
    {
      "cell_type": "code",
      "metadata": {
        "colab": {
          "base_uri": "https://localhost:8080/"
        },
        "id": "ec37fa5f-84f6-4ee8-9fc3-975f22b4a64c",
        "outputId": "d2b790e7-1e9f-4047-cfc2-2f60bcc2f858"
      },
      "outputs": [
        {
          "output_type": "stream",
          "name": "stdout",
          "text": [
            "Classes found by ImageFolder: ['class_0_non_agri', 'class_1_agri']\n",
            "Class to index mapping: {'class_0_non_agri': 0, 'class_1_agri': 1}\n"
          ]
        }
      ],
      "source": [
        "## You can use this cell to type the code to complete the task.\n",
        "\n",
        "print(f\"Classes found by ImageFolder: {imagefolder_dataset.classes}\")\n",
        "print(f\"Class to index mapping: {imagefolder_dataset.class_to_idx}\")"
      ],
      "execution_count": 14
    },
    {
      "cell_type": "markdown",
      "metadata": {
        "id": "d84233c7-d339-438c-a7db-6e17ce9f6de9"
      },
      "source": [
        "## The `DataLoader` - Bringing it all together\n",
        "\n",
        "The `DataLoader` is an iterator that returns batches, based on the `batch_size`. It wraps a `Dataset` object and provides an iterable to access the data. Its key responsibilities are:\n",
        "- **Batching:** This involves grouping individual samples into mini-batches.\n",
        "- **Shuffling:** This involves randomly shuffling the data every epoch to prevent the model from learning the order of samples. The data loading process is parallelized, preventing the CPU from becoming a bottleneck for the GPU.\n",
        "\n",
        "We can use the `DataLoader` with **both** our `CustomBinaryClassDataset` and the `ImageFolder` dataset.\n",
        "\n",
        "Linear and convolution layers in a neural network can work **with or without** the batch dimension\n",
        "- e.g., with shapes `[C, H, W]` or  `[B, C, H, W]`, where:\n",
        "    - `B`: `batch_size`\n",
        "    - `C`: `number of channels`\n",
        "    - `H`: `image height`\n",
        "    - `W`: `image width`\n"
      ]
    },
    {
      "cell_type": "code",
      "metadata": {
        "colab": {
          "base_uri": "https://localhost:8080/"
        },
        "id": "bdd8115b-51da-4445-ba86-a05fb9f08f65",
        "outputId": "a277cdcf-dde3-4f3f-9389-d73edafc56aa"
      },
      "outputs": [
        {
          "output_type": "stream",
          "name": "stdout",
          "text": [
            "DataLoaders created successfully!\n"
          ]
        }
      ],
      "source": [
        "BATCH_SIZE = 8 #  the number of images in a batch (batch size)\n",
        "\n",
        "# --- Using your Custom Dataset ---\n",
        "custom_dataset = CustomBinaryClassDataset(dir_non_agri, dir_agri, transform=custom_transform)\n",
        "custom_loader = DataLoader(custom_dataset, batch_size=BATCH_SIZE, shuffle=True, num_workers=2)\n",
        "\n",
        "# --- Using the ImageFolder Dataset ---\n",
        "imagefolder_loader = DataLoader(imagefolder_dataset, batch_size=BATCH_SIZE, shuffle=True, num_workers=2)\n",
        "\n",
        "print(\"DataLoaders created successfully!\")"
      ],
      "execution_count": 15
    },
    {
      "cell_type": "markdown",
      "metadata": {
        "id": "10177393-f4a3-4b57-9032-141b20f50237"
      },
      "source": [
        "### Visualize a batch\n",
        "\n",
        "Let's inspect a batch from our `DataLoader`. You can use `iter()` and `next()` to pull a single batch. This is exactly what a training loop does under the hood. Visualizing the images and their labels confirms that our entire pipeline (from path loading and transformation to batching) is working correctly.\n"
      ]
    },
    {
      "cell_type": "code",
      "metadata": {
        "colab": {
          "base_uri": "https://localhost:8080/"
        },
        "id": "38479e21-ae9d-4b43-8ffd-784862738caa",
        "outputId": "7c19d40d-c685-42cd-c747-40580ec694dc"
      },
      "outputs": [
        {
          "output_type": "stream",
          "name": "stdout",
          "text": [
            "Images batch shape (Custom loader): torch.Size([8, 3, 64, 64])\n",
            "Labels batch shape (Custom loader): torch.Size([8])\n"
          ]
        }
      ],
      "source": [
        "# Get one batch from the Custom loader\n",
        "images_custom, labels_custom = next(iter(custom_loader))\n",
        "\n",
        "print(f\"Images batch shape (Custom loader): {images_custom.shape}\")\n",
        "print(f\"Labels batch shape (Custom loader): {labels_custom.shape}\")\n"
      ],
      "execution_count": 16
    },
    {
      "cell_type": "markdown",
      "metadata": {
        "id": "f87c9ce7-0b1f-488c-9c5c-6a02bf7cf4c6"
      },
      "source": [
        "Your next task is to get the images and labels from the loader.\n"
      ]
    },
    {
      "cell_type": "markdown",
      "metadata": {
        "id": "135cba78-6a1f-48e2-8c45-d89888f23034"
      },
      "source": [
        "### **Task 4**: Get a batch of images and labels from the `imagefolder_loader` and print their shape\n"
      ]
    },
    {
      "cell_type": "code",
      "metadata": {
        "colab": {
          "base_uri": "https://localhost:8080/"
        },
        "id": "6722786d-cc5b-44d4-a03a-9a937dfdf54f",
        "outputId": "96acd30e-6dd4-4653-9306-852156abfe52"
      },
      "outputs": [
        {
          "output_type": "stream",
          "name": "stdout",
          "text": [
            "Images batch shape (PyTorch in-built loader): torch.Size([8, 3, 64, 64])\n",
            "Labels batch shape (PyTorch in-built loader): torch.Size([8])\n"
          ]
        }
      ],
      "source": [
        "## You can use this cell to type the code to complete the task.\n",
        "images_inbuilt, labels_inbuilt = next(iter(imagefolder_loader))\n",
        "\n",
        "print(f\"Images batch shape (PyTorch in-built loader): {images_inbuilt.shape}\")\n",
        "print(f\"Labels batch shape (PyTorch in-built loader): {labels_inbuilt.shape}\")\n",
        "\n"
      ],
      "execution_count": 17
    },
    {
      "cell_type": "markdown",
      "metadata": {
        "id": "368cff37-381c-42a4-a245-b948461be848"
      },
      "source": [
        "Next, define a function to display an image from the batch.\n"
      ]
    },
    {
      "cell_type": "code",
      "metadata": {
        "id": "78c46ea2-5379-4161-a945-7792b4b0559d"
      },
      "outputs": [],
      "source": [
        "def imshow(img):\n",
        "    \"\"\"Helper function to un-normalize and display an image\"\"\"\n",
        "    img = img / 2 + 0.5  # Un-normalize from [-1, 1] to [0, 1]\n",
        "    npimg = img.numpy()\n",
        "    plt.imshow(np.transpose(npimg, (1, 2, 0))) # Convert from C,H,W to H,W,C"
      ],
      "execution_count": 18
    },
    {
      "cell_type": "markdown",
      "metadata": {
        "id": "c1207992-a935-45cf-9931-69c0fc2ea381"
      },
      "source": [
        "Then, display the images in the PyTorch in-built loader batch.\n"
      ]
    },
    {
      "cell_type": "code",
      "metadata": {
        "colab": {
          "base_uri": "https://localhost:8080/",
          "height": 513
        },
        "id": "16118489-7046-4413-bbe8-09cbeec416b4",
        "outputId": "1f421844-c95f-4eca-ff25-55b5f11f4d53"
      },
      "outputs": [
        {
          "output_type": "display_data",
          "data": {
            "text/plain": [
              "<Figure size 1200x600 with 8 Axes>"
            ],
            "image/png": "[encoded data removed]"
          },
          "metadata": {}
        }
      ],
      "source": [
        "plt.figure(figsize = (12, 6))\n",
        "for i in range(BATCH_SIZE):\n",
        "    ax = plt.subplot(2, 4, i + 1)\n",
        "    imshow(images_inbuilt[i])\n",
        "    plt.title(f\"PyTorch_loader Label:{labels_inbuilt[i].item()}\")\n",
        "    plt.axis(\"off\")"
      ],
      "execution_count": 19
    },
    {
      "cell_type": "markdown",
      "metadata": {
        "id": "2dffc7ec-a2b8-42a3-9220-959ed24378c2"
      },
      "source": [
        "### **Task 5**: Display the images in the Custom loader batch\n",
        "Similar to the code cell above, display the images stored in `images_custom` generated using `custom_loader`.\n",
        "\n",
        "The title of the images should be **`Custom_loader Label: `** similar to the images seen in the above cell\n"
      ]
    },
    {
      "cell_type": "code",
      "metadata": {
        "colab": {
          "base_uri": "https://localhost:8080/",
          "height": 513
        },
        "id": "8e33cfc9-55ea-40d2-8331-1c06851b3e71",
        "outputId": "f40158d9-f881-440f-ffe9-1e4711e11040"
      },
      "outputs": [
        {
          "output_type": "display_data",
          "data": {
            "text/plain": [
              "<Figure size 1200x600 with 8 Axes>"
            ],
            "image/png": "[encoded data removed]"
          },
          "metadata": {}
        }
      ],
      "source": [
        "## You can use this cell to type the code to complete the task.\n",
        "plt.figure(figsize=(12, 6))\n",
        "for i in range(BATCH_SIZE):\n",
        "    ax = plt.subplot(2, 4, i + 1)\n",
        "    imshow(images_custom[i])\n",
        "    plt.title(f\"Custom_loader Label:{labels_custom[i].item()}\")\n",
        "    plt.axis(\"off\")\n"
      ],
      "execution_count": 20
    },
    {
      "cell_type": "markdown",
      "metadata": {
        "id": "c5e60a3d-2d62-43f4-94fc-9b02e7a608e3"
      },
      "source": [
        "## Comparison and analysis\n",
        "\n",
        "In PyTorch, both methods lead to a `DataLoader`. The key difference lies in how the underlying `Dataset` is created.\n"
      ]
    },
    {
      "cell_type": "markdown",
      "metadata": {
        "id": "9b664890-d00f-4e68-9dc2-19e1d7fb4ccc"
      },
      "source": [
        "| Feature                  | Custom `Dataset`                                       | In-built `ImageFolder`     |\n",
        "|--------------------------|-------------------------------------------------------------|-------------------------------------------------------------|\n",
        "| **Ease of use**          | Low. It requires writing a custom class with three specific methods. | High. It requires only a single, intuitive class instantiation. |\n",
        "| **Code complexity**      | High. You manually manage file paths, labels, and the loading logic inside `__getitem__`. | Low. The class handles all path and label discovery automatically.          |\n",
        "| **Flexibility**          | Very high. It is essential for non-standard directory structures, loading labels from a CSV/JSON, or complex loading logic (for example, from a database). | Moderate. It strictly requires the `root/class/image.ext` directory structure. |\n",
        "| **Performance**          | Potentially high. Performance depends on the efficiency of your `__getitem__` method. When wrapped in a `DataLoader` with `num_workers`, it can be highly performant. | High. `ImageFolder` is optimized and, when wrapped in a `DataLoader`, provides excellent performance out-of-the-box. |\n",
        "| **Recommended for**      | It is recommended for complex, non-standard datasets or when you need fine-grained control over every aspect of data loading. | It is recommended for almost all standard image classification tasks.        |\n"
      ]
    },
    {
      "cell_type": "markdown",
      "metadata": {
        "id": "7ad9963e-852b-4d66-bbb4-3639a49c7a69"
      },
      "source": [
        "## Save and download the notebook for **final project** submission and evaluation\n",
        "\n",
        "You will need to save and download the completed notebook for final project submission and evaluation.\n",
        "<br>For saving and downloading the completed ntoebook, please follow the steps given below:</br>\n",
        "\n",
        "<font size = 4>  \n",
        "\n",
        "1) **Complete** all the tasks and questions given in the notebook.\n",
        "\n",
        "<img src=\"https://cf-courses-data.s3.us.cloud-object-storage.appdomain.cloud/nv4jHlPU5_R1q7ZJrZ69eg/DL0321EN-M1L1-Save-IPYNB-Screenshot-1.png\" style=\"width:600px; border:0px solid black;\">\n",
        "\n",
        "2) **Save** the notebook.</style>\n",
        "<img src=\"https://cf-courses-data.s3.us.cloud-object-storage.appdomain.cloud/9-WPWD4mW1d-RV5Il5otTg/DL0321EN-M1L1-Save-IPYNB-Screenshot-2.png\" style=\"width:600px; border:0px solid black;\">\n",
        "\n",
        "3) Identify and right click on the **correct notebook file** in the left pane.</style>\n",
        "<img src=\"https://cf-courses-data.s3.us.cloud-object-storage.appdomain.cloud/RUSRPw7NT6Sof94B7-9naQ/DL0321EN-M1L1-Save-IPYNB-Screenshot-3.png\" style=\"width:600px; border:0px solid black;\">\n",
        "\n",
        "4) Click on **Download**.</style>\n",
        "<img src=\"https://cf-courses-data.s3.us.cloud-object-storage.appdomain.cloud/HHry4GT-vhLEcRi1T_LHGg/DL0321EN-M1L1-Save-IPYNB-Screenshot-4.png\" style=\"width:600px; border:0px solid black;\">\n",
        "\n",
        "5) Download and **Save** the Jupyter notebook file on your computer **for final submission**.</style>\n",
        "<img src=\"https://cf-courses-data.s3.us.cloud-object-storage.appdomain.cloud/hhsJbxc6R-T8_pXQGjMjvg/DL0321EN-M1L1-Save-IPYNB-Screenshot-5.png\" style=\"width:600px; border:0px solid black;\">\n",
        "  </font>\n"
      ]
    },
    {
      "cell_type": "markdown",
      "metadata": {
        "id": "cd78ff93-b5a9-4fe8-8aab-391a95cbeb25"
      },
      "source": [
        "## Conclusion\n",
        "\n",
        "This lab has demonstrated the power and elegance of PyTorch's data loading API. The key takeaway is the **separation of concerns**:\n",
        "- The `Dataset` class defines *what* the data is and *how to get a single item*.\n",
        "- The `DataLoader` class defines *how to iterate over* the data, handling batching, shuffling, and performance optimization.\n",
        "\n",
        "While building a custom `Dataset` is an excellent way to understand the underlying mechanics and is necessary for complex scenarios, `ImageFolder` provides a simple and robust solution for the vast majority of image classification problems. In either case, the `DataLoader` is the essential tool that makes the entire pipeline efficient and ready for training a deep learning model.\n",
        "\n",
        "You are now equipped with standard, production-ready methods for loading image data in PyTorch!\n"
      ]
    },
    {
      "cell_type": "markdown",
      "metadata": {
        "id": "75c7be9a-0f60-4d0c-a503-840de4183da1"
      },
      "source": [
        "<h2>Author</h2>\n",
        "\n",
        "[Aman Aggarwal](https://www.linkedin.com/in/aggarwal-aman)\n",
        "\n",
        "Aman Aggarwal is a PhD working at the intersection of neuroscience, AI, and drug discovery. He specializes in quantitative microscopy and image processing.\n",
        "\n",
        "\n"
      ]
    },
    {
      "cell_type": "markdown",
      "metadata": {
        "id": "56a4d3d9-7b91-44d5-87c1-2aed10dd9ea5"
      },
      "source": [
        "\n",
        "<!--\n",
        "## Change Log\n",
        "\n",
        "'''|  Date (YYYY-MM-DD) |  Version | Changed By  |  Change Description |\n",
        "```\n",
        "```|---|---|---|---|\n",
        "```\n",
        "```| 2025-06-21  | 1.0  | Aman  |  Created the lab |\n",
        "```\n",
        "```| 2025-06-28  | 2.0  | Sangeeta |  ID review |\n",
        "```\n",
        "-->\n"
      ]
    },
    {
      "cell_type": "markdown",
      "metadata": {
        "id": "4f63ea35-a374-4216-be6c-4e0720c928fa"
      },
      "source": [
        "© Copyright IBM Corporation. All rights reserved.\n"
      ]
    }
  ],
  "metadata": {
    "kernelspec": {
      "display_name": "Python 3",
      "name": "python3"
    },
    "language_info": {
      "codemirror_mode": {
        "name": "ipython",
        "version": 3
      },
      "file_extension": ".py",
      "mimetype": "text/x-python",
      "name": "python",
      "nbconvert_exporter": "python",
      "pygments_lexer": "ipython3",
      "version": "3.12.8"
    },
    "prev_pub_hash": "017effb9f4acffb3b145a3533aac36aee79c9dfdee4ec6a43e504aca99352785",
    "colab": {
      "provenance": [],
      "gpuType": "T4"
    },
    "accelerator": "GPU",
    "widgets": {
      "application/vnd.jupyter.widget-state+json": {
        "b1555f10374649d9a2f006c7a73fb6d5": {
          "model_module": "@jupyter-widgets/controls",
          "model_name": "HBoxModel",
          "model_module_version": "1.5.0",
          "state": {
            "_dom_classes": [],
            "_model_module": "@jupyter-widgets/controls",
            "_model_module_version": "1.5.0",
            "_model_name": "HBoxModel",
            "_view_count": null,
            "_view_module": "@jupyter-widgets/controls",
            "_view_module_version": "1.5.0",
            "_view_name": "HBoxView",
            "box_style": "",
            "children": [
              "IPY_MODEL_4a3e49f08ba847cbb97acd9ed2f6333d",
              "IPY_MODEL_96d82f3e204545249442cc1ec7c74fd8",
              "IPY_MODEL_4d46889af18d4456a1c836c861592a25"
            ],
            "layout": "IPY_MODEL_1767a29a7309427584c88010165b7c42"
          }
        },
        "4a3e49f08ba847cbb97acd9ed2f6333d": {
          "model_module": "@jupyter-widgets/controls",
          "model_name": "HTMLModel",
          "model_module_version": "1.5.0",
          "state": {
            "_dom_classes": [],
            "_model_module": "@jupyter-widgets/controls",
            "_model_module_version": "1.5.0",
            "_model_name": "HTMLModel",
            "_view_count": null,
            "_view_module": "@jupyter-widgets/controls",
            "_view_module_version": "1.5.0",
            "_view_name": "HTMLView",
            "description": "",
            "description_tooltip": null,
            "layout": "IPY_MODEL_55500cf934e542cea17ed9afc68c3631",
            "placeholder": "​",
            "style": "IPY_MODEL_4a1cd939bc614d9fbbe8e9db665ce4ee",
            "value": "Downloading images-dataSAT.tar: 100%"
          }
        },
        "96d82f3e204545249442cc1ec7c74fd8": {
          "model_module": "@jupyter-widgets/controls",
          "model_name": "FloatProgressModel",
          "model_module_version": "1.5.0",
          "state": {
            "_dom_classes": [],
            "_model_module": "@jupyter-widgets/controls",
            "_model_module_version": "1.5.0",
            "_model_name": "FloatProgressModel",
            "_view_count": null,
            "_view_module": "@jupyter-widgets/controls",
            "_view_module_version": "1.5.0",
            "_view_name": "ProgressView",
            "bar_style": "success",
            "description": "",
            "description_tooltip": null,
            "layout": "IPY_MODEL_ad5f0db2591a4b959c38ad0714356b4a",
            "max": 20243456,
            "min": 0,
            "orientation": "horizontal",
            "style": "IPY_MODEL_d40923a3dc524538974a1050248a4f20",
            "value": 20243456
          }
        },
        "4d46889af18d4456a1c836c861592a25": {
          "model_module": "@jupyter-widgets/controls",
          "model_name": "HTMLModel",
          "model_module_version": "1.5.0",
          "state": {
            "_dom_classes": [],
            "_model_module": "@jupyter-widgets/controls",
            "_model_module_version": "1.5.0",
            "_model_name": "HTMLModel",
            "_view_count": null,
            "_view_module": "@jupyter-widgets/controls",
            "_view_module_version": "1.5.0",
            "_view_name": "HTMLView",
            "description": "",
            "description_tooltip": null,
            "layout": "IPY_MODEL_3a1c63f5c0b74d07a8581a0d09f80fda",
            "placeholder": "​",
            "style": "IPY_MODEL_bab255a86485450993a5a2283b6871fe",
            "value": " 20243456/20243456 [00:00&lt;00:00, 91698575.32it/s]"
          }
        },
        "1767a29a7309427584c88010165b7c42": {
          "model_module": "@jupyter-widgets/base",
          "model_name": "LayoutModel",
          "model_module_version": "1.2.0",
          "state": {
            "_model_module": "@jupyter-widgets/base",
            "_model_module_version": "1.2.0",
            "_model_name": "LayoutModel",
            "_view_count": null,
            "_view_module": "@jupyter-widgets/base",
            "_view_module_version": "1.2.0",
            "_view_name": "LayoutView",
            "align_content": null,
            "align_items": null,
            "align_self": null,
            "border": null,
            "bottom": null,
            "display": null,
            "flex": null,
            "flex_flow": null,
            "grid_area": null,
            "grid_auto_columns": null,
            "grid_auto_flow": null,
            "grid_auto_rows": null,
            "grid_column": null,
            "grid_gap": null,
            "grid_row": null,
            "grid_template_areas": null,
            "grid_template_columns": null,
            "grid_template_rows": null,
            "height": null,
            "justify_content": null,
            "justify_items": null,
            "left": null,
            "margin": null,
            "max_height": null,
            "max_width": null,
            "min_height": null,
            "min_width": null,
            "object_fit": null,
            "object_position": null,
            "order": null,
            "overflow": null,
            "overflow_x": null,
            "overflow_y": null,
            "padding": null,
            "right": null,
            "top": null,
            "visibility": null,
            "width": null
          }
        },
        "55500cf934e542cea17ed9afc68c3631": {
          "model_module": "@jupyter-widgets/base",
          "model_name": "LayoutModel",
          "model_module_version": "1.2.0",
          "state": {
            "_model_module": "@jupyter-widgets/base",
            "_model_module_version": "1.2.0",
            "_model_name": "LayoutModel",
            "_view_count": null,
            "_view_module": "@jupyter-widgets/base",
            "_view_module_version": "1.2.0",
            "_view_name": "LayoutView",
            "align_content": null,
            "align_items": null,
            "align_self": null,
            "border": null,
            "bottom": null,
            "display": null,
            "flex": null,
            "flex_flow": null,
            "grid_area": null,
            "grid_auto_columns": null,
            "grid_auto_flow": null,
            "grid_auto_rows": null,
            "grid_column": null,
            "grid_gap": null,
            "grid_row": null,
            "grid_template_areas": null,
            "grid_template_columns": null,
            "grid_template_rows": null,
            "height": null,
            "justify_content": null,
            "justify_items": null,
            "left": null,
            "margin": null,
            "max_height": null,
            "max_width": null,
            "min_height": null,
            "min_width": null,
            "object_fit": null,
            "object_position": null,
            "order": null,
            "overflow": null,
            "overflow_x": null,
            "overflow_y": null,
            "padding": null,
            "right": null,
            "top": null,
            "visibility": null,
            "width": null
          }
        },
        "4a1cd939bc614d9fbbe8e9db665ce4ee": {
          "model_module": "@jupyter-widgets/controls",
          "model_name": "DescriptionStyleModel",
          "model_module_version": "1.5.0",
          "state": {
            "_model_module": "@jupyter-widgets/controls",
            "_model_module_version": "1.5.0",
            "_model_name": "DescriptionStyleModel",
            "_view_count": null,
            "_view_module": "@jupyter-widgets/base",
            "_view_module_version": "1.2.0",
            "_view_name": "StyleView",
            "description_width": ""
          }
        },
        "ad5f0db2591a4b959c38ad0714356b4a": {
          "model_module": "@jupyter-widgets/base",
          "model_name": "LayoutModel",
          "model_module_version": "1.2.0",
          "state": {
            "_model_module": "@jupyter-widgets/base",
            "_model_module_version": "1.2.0",
            "_model_name": "LayoutModel",
            "_view_count": null,
            "_view_module": "@jupyter-widgets/base",
            "_view_module_version": "1.2.0",
            "_view_name": "LayoutView",
            "align_content": null,
            "align_items": null,
            "align_self": null,
            "border": null,
            "bottom": null,
            "display": null,
            "flex": null,
            "flex_flow": null,
            "grid_area": null,
            "grid_auto_columns": null,
            "grid_auto_flow": null,
            "grid_auto_rows": null,
            "grid_column": null,
            "grid_gap": null,
            "grid_row": null,
            "grid_template_areas": null,
            "grid_template_columns": null,
            "grid_template_rows": null,
            "height": null,
            "justify_content": null,
            "justify_items": null,
            "left": null,
            "margin": null,
            "max_height": null,
            "max_width": null,
            "min_height": null,
            "min_width": null,
            "object_fit": null,
            "object_position": null,
            "order": null,
            "overflow": null,
            "overflow_x": null,
            "overflow_y": null,
            "padding": null,
            "right": null,
            "top": null,
            "visibility": null,
            "width": null
          }
        },
        "d40923a3dc524538974a1050248a4f20": {
          "model_module": "@jupyter-widgets/controls",
          "model_name": "ProgressStyleModel",
          "model_module_version": "1.5.0",
          "state": {
            "_model_module": "@jupyter-widgets/controls",
            "_model_module_version": "1.5.0",
            "_model_name": "ProgressStyleModel",
            "_view_count": null,
            "_view_module": "@jupyter-widgets/base",
            "_view_module_version": "1.2.0",
            "_view_name": "StyleView",
            "bar_color": null,
            "description_width": ""
          }
        },
        "3a1c63f5c0b74d07a8581a0d09f80fda": {
          "model_module": "@jupyter-widgets/base",
          "model_name": "LayoutModel",
          "model_module_version": "1.2.0",
          "state": {
            "_model_module": "@jupyter-widgets/base",
            "_model_module_version": "1.2.0",
            "_model_name": "LayoutModel",
            "_view_count": null,
            "_view_module": "@jupyter-widgets/base",
            "_view_module_version": "1.2.0",
            "_view_name": "LayoutView",
            "align_content": null,
            "align_items": null,
            "align_self": null,
            "border": null,
            "bottom": null,
            "display": null,
            "flex": null,
            "flex_flow": null,
            "grid_area": null,
            "grid_auto_columns": null,
            "grid_auto_flow": null,
            "grid_auto_rows": null,
            "grid_column": null,
            "grid_gap": null,
            "grid_row": null,
            "grid_template_areas": null,
            "grid_template_columns": null,
            "grid_template_rows": null,
            "height": null,
            "justify_content": null,
            "justify_items": null,
            "left": null,
            "margin": null,
            "max_height": null,
            "max_width": null,
            "min_height": null,
            "min_width": null,
            "object_fit": null,
            "object_position": null,
            "order": null,
            "overflow": null,
            "overflow_x": null,
            "overflow_y": null,
            "padding": null,
            "right": null,
            "top": null,
            "visibility": null,
            "width": null
          }
        },
        "bab255a86485450993a5a2283b6871fe": {
          "model_module": "@jupyter-widgets/controls",
          "model_name": "DescriptionStyleModel",
          "model_module_version": "1.5.0",
          "state": {
            "_model_module": "@jupyter-widgets/controls",
            "_model_module_version": "1.5.0",
            "_model_name": "DescriptionStyleModel",
            "_view_count": null,
            "_view_module": "@jupyter-widgets/base",
            "_view_module_version": "1.2.0",
            "_view_name": "StyleView",
            "description_width": ""
          }
        },
        "bcf73a64f16c43d1aedd0d26e1ecf32e": {
          "model_module": "@jupyter-widgets/controls",
          "model_name": "HBoxModel",
          "model_module_version": "1.5.0",
          "state": {
            "_dom_classes": [],
            "_model_module": "@jupyter-widgets/controls",
            "_model_module_version": "1.5.0",
            "_model_name": "HBoxModel",
            "_view_count": null,
            "_view_module": "@jupyter-widgets/controls",
            "_view_module_version": "1.5.0",
            "_view_name": "HBoxView",
            "box_style": "",
            "children": [
              "IPY_MODEL_8bf396a0257647fb92c9537d83a95821",
              "IPY_MODEL_f71b95f15cd14f17837a025105c06022",
              "IPY_MODEL_637bf8fde99645cf9705b60dce45b3ec"
            ],
            "layout": "IPY_MODEL_aba2cd01c1d34cfb95bbd5fd7950b3c8"
          }
        },
        "8bf396a0257647fb92c9537d83a95821": {
          "model_module": "@jupyter-widgets/controls",
          "model_name": "HTMLModel",
          "model_module_version": "1.5.0",
          "state": {
            "_dom_classes": [],
            "_model_module": "@jupyter-widgets/controls",
            "_model_module_version": "1.5.0",
            "_model_name": "HTMLModel",
            "_view_count": null,
            "_view_module": "@jupyter-widgets/controls",
            "_view_module_version": "1.5.0",
            "_view_name": "HTMLView",
            "description": "",
            "description_tooltip": null,
            "layout": "IPY_MODEL_3a42eaf238be43b8b2559c83fd82bf10",
            "placeholder": "​",
            "style": "IPY_MODEL_e9b27ff19641477f84d991b3b556b1b3",
            "value": "Extracting images-dataSAT.tar: 100%"
          }
        },
        "f71b95f15cd14f17837a025105c06022": {
          "model_module": "@jupyter-widgets/controls",
          "model_name": "FloatProgressModel",
          "model_module_version": "1.5.0",
          "state": {
            "_dom_classes": [],
            "_model_module": "@jupyter-widgets/controls",
            "_model_module_version": "1.5.0",
            "_model_name": "FloatProgressModel",
            "_view_count": null,
            "_view_module": "@jupyter-widgets/controls",
            "_view_module_version": "1.5.0",
            "_view_name": "ProgressView",
            "bar_style": "success",
            "description": "",
            "description_tooltip": null,
            "layout": "IPY_MODEL_0197d994c8674c86a204d7222b7e5578",
            "max": 6003,
            "min": 0,
            "orientation": "horizontal",
            "style": "IPY_MODEL_964c3987141e4ab584a7604181880d66",
            "value": 6003
          }
        },
        "637bf8fde99645cf9705b60dce45b3ec": {
          "model_module": "@jupyter-widgets/controls",
          "model_name": "HTMLModel",
          "model_module_version": "1.5.0",
          "state": {
            "_dom_classes": [],
            "_model_module": "@jupyter-widgets/controls",
            "_model_module_version": "1.5.0",
            "_model_name": "HTMLModel",
            "_view_count": null,
            "_view_module": "@jupyter-widgets/controls",
            "_view_module_version": "1.5.0",
            "_view_name": "HTMLView",
            "description": "",
            "description_tooltip": null,
            "layout": "IPY_MODEL_0b51de5daf7b474283aef6bb0290526e",
            "placeholder": "​",
            "style": "IPY_MODEL_c17bb4eafe3248b59192e7b2562e89f9",
            "value": " 6003/6003 [00:00&lt;00:00, 7918.19it/s]"
          }
        },
        "aba2cd01c1d34cfb95bbd5fd7950b3c8": {
          "model_module": "@jupyter-widgets/base",
          "model_name": "LayoutModel",
          "model_module_version": "1.2.0",
          "state": {
            "_model_module": "@jupyter-widgets/base",
            "_model_module_version": "1.2.0",
            "_model_name": "LayoutModel",
            "_view_count": null,
            "_view_module": "@jupyter-widgets/base",
            "_view_module_version": "1.2.0",
            "_view_name": "LayoutView",
            "align_content": null,
            "align_items": null,
            "align_self": null,
            "border": null,
            "bottom": null,
            "display": null,
            "flex": null,
            "flex_flow": null,
            "grid_area": null,
            "grid_auto_columns": null,
            "grid_auto_flow": null,
            "grid_auto_rows": null,
            "grid_column": null,
            "grid_gap": null,
            "grid_row": null,
            "grid_template_areas": null,
            "grid_template_columns": null,
            "grid_template_rows": null,
            "height": null,
            "justify_content": null,
            "justify_items": null,
            "left": null,
            "margin": null,
            "max_height": null,
            "max_width": null,
            "min_height": null,
            "min_width": null,
            "object_fit": null,
            "object_position": null,
            "order": null,
            "overflow": null,
            "overflow_x": null,
            "overflow_y": null,
            "padding": null,
            "right": null,
            "top": null,
            "visibility": null,
            "width": null
          }
        },
        "3a42eaf238be43b8b2559c83fd82bf10": {
          "model_module": "@jupyter-widgets/base",
          "model_name": "LayoutModel",
          "model_module_version": "1.2.0",
          "state": {
            "_model_module": "@jupyter-widgets/base",
            "_model_module_version": "1.2.0",
            "_model_name": "LayoutModel",
            "_view_count": null,
            "_view_module": "@jupyter-widgets/base",
            "_view_module_version": "1.2.0",
            "_view_name": "LayoutView",
            "align_content": null,
            "align_items": null,
            "align_self": null,
            "border": null,
            "bottom": null,
            "display": null,
            "flex": null,
            "flex_flow": null,
            "grid_area": null,
            "grid_auto_columns": null,
            "grid_auto_flow": null,
            "grid_auto_rows": null,
            "grid_column": null,
            "grid_gap": null,
            "grid_row": null,
            "grid_template_areas": null,
            "grid_template_columns": null,
            "grid_template_rows": null,
            "height": null,
            "justify_content": null,
            "justify_items": null,
            "left": null,
            "margin": null,
            "max_height": null,
            "max_width": null,
            "min_height": null,
            "min_width": null,
            "object_fit": null,
            "object_position": null,
            "order": null,
            "overflow": null,
            "overflow_x": null,
            "overflow_y": null,
            "padding": null,
            "right": null,
            "top": null,
            "visibility": null,
            "width": null
          }
        },
        "e9b27ff19641477f84d991b3b556b1b3": {
          "model_module": "@jupyter-widgets/controls",
          "model_name": "DescriptionStyleModel",
          "model_module_version": "1.5.0",
          "state": {
            "_model_module": "@jupyter-widgets/controls",
            "_model_module_version": "1.5.0",
            "_model_name": "DescriptionStyleModel",
            "_view_count": null,
            "_view_module": "@jupyter-widgets/base",
            "_view_module_version": "1.2.0",
            "_view_name": "StyleView",
            "description_width": ""
          }
        },
        "0197d994c8674c86a204d7222b7e5578": {
          "model_module": "@jupyter-widgets/base",
          "model_name": "LayoutModel",
          "model_module_version": "1.2.0",
          "state": {
            "_model_module": "@jupyter-widgets/base",
            "_model_module_version": "1.2.0",
            "_model_name": "LayoutModel",
            "_view_count": null,
            "_view_module": "@jupyter-widgets/base",
            "_view_module_version": "1.2.0",
            "_view_name": "LayoutView",
            "align_content": null,
            "align_items": null,
            "align_self": null,
            "border": null,
            "bottom": null,
            "display": null,
            "flex": null,
            "flex_flow": null,
            "grid_area": null,
            "grid_auto_columns": null,
            "grid_auto_flow": null,
            "grid_auto_rows": null,
            "grid_column": null,
            "grid_gap": null,
            "grid_row": null,
            "grid_template_areas": null,
            "grid_template_columns": null,
            "grid_template_rows": null,
            "height": null,
            "justify_content": null,
            "justify_items": null,
            "left": null,
            "margin": null,
            "max_height": null,
            "max_width": null,
            "min_height": null,
            "min_width": null,
            "object_fit": null,
            "object_position": null,
            "order": null,
            "overflow": null,
            "overflow_x": null,
            "overflow_y": null,
            "padding": null,
            "right": null,
            "top": null,
            "visibility": null,
            "width": null
          }
        },
        "964c3987141e4ab584a7604181880d66": {
          "model_module": "@jupyter-widgets/controls",
          "model_name": "ProgressStyleModel",
          "model_module_version": "1.5.0",
          "state": {
            "_model_module": "@jupyter-widgets/controls",
            "_model_module_version": "1.5.0",
            "_model_name": "ProgressStyleModel",
            "_view_count": null,
            "_view_module": "@jupyter-widgets/base",
            "_view_module_version": "1.2.0",
            "_view_name": "StyleView",
            "bar_color": null,
            "description_width": ""
          }
        },
        "0b51de5daf7b474283aef6bb0290526e": {
          "model_module": "@jupyter-widgets/base",
          "model_name": "LayoutModel",
          "model_module_version": "1.2.0",
          "state": {
            "_model_module": "@jupyter-widgets/base",
            "_model_module_version": "1.2.0",
            "_model_name": "LayoutModel",
            "_view_count": null,
            "_view_module": "@jupyter-widgets/base",
            "_view_module_version": "1.2.0",
            "_view_name": "LayoutView",
            "align_content": null,
            "align_items": null,
            "align_self": null,
            "border": null,
            "bottom": null,
            "display": null,
            "flex": null,
            "flex_flow": null,
            "grid_area": null,
            "grid_auto_columns": null,
            "grid_auto_flow": null,
            "grid_auto_rows": null,
            "grid_column": null,
            "grid_gap": null,
            "grid_row": null,
            "grid_template_areas": null,
            "grid_template_columns": null,
            "grid_template_rows": null,
            "height": null,
            "justify_content": null,
            "justify_items": null,
            "left": null,
            "margin": null,
            "max_height": null,
            "max_width": null,
            "min_height": null,
            "min_width": null,
            "object_fit": null,
            "object_position": null,
            "order": null,
            "overflow": null,
            "overflow_x": null,
            "overflow_y": null,
            "padding": null,
            "right": null,
            "top": null,
            "visibility": null,
            "width": null
          }
        },
        "c17bb4eafe3248b59192e7b2562e89f9": {
          "model_module": "@jupyter-widgets/controls",
          "model_name": "DescriptionStyleModel",
          "model_module_version": "1.5.0",
          "state": {
            "_model_module": "@jupyter-widgets/controls",
            "_model_module_version": "1.5.0",
            "_model_name": "DescriptionStyleModel",
            "_view_count": null,
            "_view_module": "@jupyter-widgets/base",
            "_view_module_version": "1.2.0",
            "_view_name": "StyleView",
            "description_width": ""
          }
        }
      }
    }
  },
  "nbformat": 4,
  "nbformat_minor": 0
}