{
  "cells": [
    {
      "cell_type": "markdown",
      "metadata": {
        "id": "61e9cece-f4d2-4e6b-ada2-07a29e34c3c1"
      },
      "source": [
        "<div style=\"text-align: center;\">\n",
        "  <a href=\"https://cognitiveclass.ai/?utm_medium=Exinfluencer&utm_source=Exinfluencer&utm_content=000026UJ&utm_term=10006555&utm_id=NA-SkillsNetwork-Channel-SkillsNetworkCoursesIBMDeveloperSkillsNetworkDL0321ENSkillsNetwork951-2022-01-01\">\n",
        "    <img src=\"https://cf-courses-data.s3.us.cloud-object-storage.appdomain.cloud/IBMDeveloperSkillsNetwork-DL0321EN-SkillsNetwork/image/IDSN-logo.png\" width=\"400\">\n",
        "  </a>\n",
        "</div>\n"
      ]
    },
    {
      "cell_type": "markdown",
      "metadata": {
        "id": "f85476ec-729f-4d1e-a79a-7192cb2be533"
      },
      "source": [
        "<h1 align=left><font size = 6>Lab: Implement and Test a PyTorch-Based Classifier</font></h1>\n"
      ]
    },
    {
      "cell_type": "markdown",
      "metadata": {
        "id": "d78a2441-8523-4e8f-a195-7520974b8432"
      },
      "source": [
        "<h5>Estimated time: 90 minutes</h5>\n"
      ]
    },
    {
      "cell_type": "markdown",
      "metadata": {
        "id": "268758e7-9c73-4fd6-b8bc-5d918c877120"
      },
      "source": [
        "<h2>Objective</h2><ul>\n",
        "After completing this lab, you'll be able to:\n",
        "\n",
        "1. Create a PyTorch-based CNN model for classification.\n",
        "2. Train this model for the classification of agricultural and non-agricultural land.\n",
        "3. Evaluate the performance of this CNN model.\n",
        "\n",
        "</ul>\n"
      ]
    },
    {
      "cell_type": "markdown",
      "metadata": {
        "id": "16ef537d-bd42-498e-82a8-f827abe1baa9"
      },
      "source": [
        "## Introduction\n",
        "\n",
        "This notebook demonstrates the process of building, training, and evaluating a **PyTorch-based Convolutional Neural Network (CNN)** for image classification, for agricultural images in your case. You will cover the following:\n",
        "1. *Data preparation*\n",
        "2. *Model architecture* definition\n",
        "3. *Training*, and\n",
        "4.  Model *performance analysis*\n",
        "\n",
        "The goal is to classify satellite images into two categories: 'agricultural' and 'non-agricultural'.\n"
      ]
    },
    {
      "cell_type": "markdown",
      "metadata": {
        "id": "e5d170da-2f5f-4c63-aa06-869d38d25f68"
      },
      "source": [
        "## Table of Contents\n",
        "<font size = 3>\n",
        "\n",
        "1. [Configuration and library imports](#Configuration-and-library-imports)\n",
        "2. [Data acquisition and preparation](#Data-acquisition-and-preparation)\n",
        "3. [Ensuring repeatability in PyTorch](#Ensuring-repeatability-in-PyTorch)\n",
        "4. [Defining hyperparameters and device](#Defining-hyperparameters-and-device)\n",
        "5. [The data pipeline](#The-data-pipeline)\n",
        "6. [Defining the model](#Defining-the-model)\n",
        "7. [Training and validation](#Training-and-validation)\n",
        "8. [Save and download the trained model weights](#Save-and-download-the-trained-model-weights)\n",
        "9. [Visualizing training history](#Visualizing-training-history)\n",
        "10. [Final model evaluation](#Final-model-evaluation)\n",
        "</font>\n",
        "\n"
      ]
    },
    {
      "cell_type": "markdown",
      "metadata": {
        "id": "aec951e6-3ddc-45ca-9284-4a86feb4c9d6"
      },
      "source": [
        "## Configuration and library imports\n"
      ]
    },
    {
      "cell_type": "markdown",
      "metadata": {
        "id": "1eb44f20-7562-474d-9521-e9fd37c3371d"
      },
      "source": [
        "### Installing required libraries\n",
        "\n",
        "Some of the required libraries are __not__ pre-installed in the Skills Network Labs environment. __You must run the following cell__ to install them, it might take a few minutes for the installation.\n"
      ]
    },
    {
      "cell_type": "code",
      "metadata": {
        "id": "d4095a72-243e-4d98-8f1a-4274f949b64c"
      },
      "outputs": [],
      "source": [
        "# define a function to check for successful installation of the libraries\n",
        "def lib_installation_check(captured_data, n_lines_print):\n",
        "    \"\"\"\n",
        "    A function to use the %%capture output from the cells where you try to install the libraries.\n",
        "    It would print last \"n_lines_print\" if there is an error in library installation\n",
        "    \"\"\"\n",
        "    output_text = captured_data.stdout\n",
        "    lines = output_text.splitlines()\n",
        "    output_last_n_lines = '\\n'.join(lines[-n_lines_print:])\n",
        "    if \"error\" in output_last_n_lines.lower():\n",
        "        print(\"Library installation failed!\")\n",
        "        print(\"--- Error Details ---\")\n",
        "        print(output_last_n_lines)\n",
        "    else:\n",
        "        print(\"Library installation was successful, let's proceed ahead\")"
      ],
      "execution_count": 1
    },
    {
      "cell_type": "markdown",
      "metadata": {
        "id": "58c9fd0d-34f4-41f4-8407-94be63d81140"
      },
      "source": [
        "### library installation - 1\n"
      ]
    },
    {
      "cell_type": "code",
      "metadata": {
        "colab": {
          "base_uri": "https://localhost:8080/"
        },
        "id": "f9b36cb0-3243-4181-a7c6-7d7eb640db7d",
        "outputId": "46bb81e8-db07-447a-e8c6-866c8583f299"
      },
      "outputs": [
        {
          "output_type": "stream",
          "name": "stdout",
          "text": [
            "CPU times: user 5.67 s, sys: 807 ms, total: 6.48 s\n",
            "Wall time: 16.6 s\n"
          ]
        }
      ],
      "source": [
        "%%time\n",
        "%%capture captured_output\n",
        "%pip install numpy==1.26\n",
        "%pip install matplotlib==3.9.2\n",
        "%pip install skillsnetwork"
      ],
      "execution_count": 2
    },
    {
      "cell_type": "markdown",
      "metadata": {
        "id": "36e0088d-bed7-48a8-801a-d7760d44462f"
      },
      "source": [
        "#### Check if the above libraries installed properly\n"
      ]
    },
    {
      "cell_type": "code",
      "metadata": {
        "colab": {
          "base_uri": "https://localhost:8080/"
        },
        "id": "89a89d0a-2639-4e62-849c-823f2c8e5d95",
        "outputId": "50c33f04-cdf2-4024-ca40-d32fb3de3ac6"
      },
      "outputs": [
        {
          "output_type": "stream",
          "name": "stdout",
          "text": [
            "Library installation was successful, let's proceed ahead\n"
          ]
        }
      ],
      "source": [
        "lib_installation_check(captured_data = captured_output, n_lines_print = 5)"
      ],
      "execution_count": 3
    },
    {
      "cell_type": "markdown",
      "metadata": {
        "id": "0f6f7b7d-a6a5-4672-a93a-46f49da84293"
      },
      "source": [
        "### Installing the `PyTorch` library\n"
      ]
    },
    {
      "cell_type": "code",
      "metadata": {
        "colab": {
          "base_uri": "https://localhost:8080/"
        },
        "id": "3594140a-0b30-42b7-9d26-867b5718a441",
        "outputId": "5dfe0285-e930-431d-853e-6cf9836853c4"
      },
      "outputs": [
        {
          "output_type": "stream",
          "name": "stdout",
          "text": [
            "Requirement already satisfied: torch==2.7.0 in /usr/local/lib/python3.12/dist-packages (2.7.0)\n",
            "Requirement already satisfied: torchvision==0.22 in /usr/local/lib/python3.12/dist-packages (0.22.0)\n",
            "Requirement already satisfied: filelock in /usr/local/lib/python3.12/dist-packages (from torch==2.7.0) (3.19.1)\n",
            "Requirement already satisfied: typing-extensions>=4.10.0 in /usr/local/lib/python3.12/dist-packages (from torch==2.7.0) (4.15.0)\n",
            "Requirement already satisfied: setuptools in /usr/local/lib/python3.12/dist-packages (from torch==2.7.0) (80.9.0)\n",
            "Requirement already satisfied: sympy>=1.13.3 in /usr/local/lib/python3.12/dist-packages (from torch==2.7.0) (1.14.0)\n",
            "Requirement already satisfied: networkx in /usr/local/lib/python3.12/dist-packages (from torch==2.7.0) (3.5)\n",
            "Requirement already satisfied: jinja2 in /usr/local/lib/python3.12/dist-packages (from torch==2.7.0) (3.1.6)\n",
            "Requirement already satisfied: fsspec in /usr/local/lib/python3.12/dist-packages (from torch==2.7.0) (2025.9.0)\n",
            "Requirement already satisfied: nvidia-cuda-nvrtc-cu12==12.6.77 in /usr/local/lib/python3.12/dist-packages (from torch==2.7.0) (12.6.77)\n",
            "Requirement already satisfied: nvidia-cuda-runtime-cu12==12.6.77 in /usr/local/lib/python3.12/dist-packages (from torch==2.7.0) (12.6.77)\n",
            "Requirement already satisfied: nvidia-cuda-cupti-cu12==12.6.80 in /usr/local/lib/python3.12/dist-packages (from torch==2.7.0) (12.6.80)\n",
            "Requirement already satisfied: nvidia-cudnn-cu12==9.5.1.17 in /usr/local/lib/python3.12/dist-packages (from torch==2.7.0) (9.5.1.17)\n",
            "Requirement already satisfied: nvidia-cublas-cu12==12.6.4.1 in /usr/local/lib/python3.12/dist-packages (from torch==2.7.0) (12.6.4.1)\n",
            "Requirement already satisfied: nvidia-cufft-cu12==11.3.0.4 in /usr/local/lib/python3.12/dist-packages (from torch==2.7.0) (11.3.0.4)\n",
            "Requirement already satisfied: nvidia-curand-cu12==10.3.7.77 in /usr/local/lib/python3.12/dist-packages (from torch==2.7.0) (10.3.7.77)\n",
            "Requirement already satisfied: nvidia-cusolver-cu12==11.7.1.2 in /usr/local/lib/python3.12/dist-packages (from torch==2.7.0) (11.7.1.2)\n",
            "Requirement already satisfied: nvidia-cusparse-cu12==12.5.4.2 in /usr/local/lib/python3.12/dist-packages (from torch==2.7.0) (12.5.4.2)\n",
            "Requirement already satisfied: nvidia-cusparselt-cu12==0.6.3 in /usr/local/lib/python3.12/dist-packages (from torch==2.7.0) (0.6.3)\n",
            "Requirement already satisfied: nvidia-nccl-cu12==2.26.2 in /usr/local/lib/python3.12/dist-packages (from torch==2.7.0) (2.26.2)\n",
            "Requirement already satisfied: nvidia-nvtx-cu12==12.6.77 in /usr/local/lib/python3.12/dist-packages (from torch==2.7.0) (12.6.77)\n",
            "Requirement already satisfied: nvidia-nvjitlink-cu12==12.6.85 in /usr/local/lib/python3.12/dist-packages (from torch==2.7.0) (12.6.85)\n",
            "Requirement already satisfied: nvidia-cufile-cu12==1.11.1.6 in /usr/local/lib/python3.12/dist-packages (from torch==2.7.0) (1.11.1.6)\n",
            "Requirement already satisfied: triton==3.3.0 in /usr/local/lib/python3.12/dist-packages (from torch==2.7.0) (3.3.0)\n",
            "Requirement already satisfied: numpy in /usr/local/lib/python3.12/dist-packages (from torchvision==0.22) (1.26.0)\n",
            "Requirement already satisfied: pillow!=8.3.*,>=5.3.0 in /usr/local/lib/python3.12/dist-packages (from torchvision==0.22) (11.3.0)\n",
            "Requirement already satisfied: mpmath<1.4,>=1.1.0 in /usr/local/lib/python3.12/dist-packages (from sympy>=1.13.3->torch==2.7.0) (1.3.0)\n",
            "Requirement already satisfied: MarkupSafe>=2.0 in /usr/local/lib/python3.12/dist-packages (from jinja2->torch==2.7.0) (3.0.3)\n",
            "CPU times: user 3.16 s, sys: 421 ms, total: 3.58 s\n",
            "Wall time: 14.6 s\n"
          ]
        }
      ],
      "source": [
        "%%time\n",
        "%pip install torch==2.7.0 torchvision==0.22"
      ],
      "execution_count": 4
    },
    {
      "cell_type": "markdown",
      "metadata": {
        "id": "e5e9643a-b183-489a-b9bd-91c82c5dc6ae"
      },
      "source": [
        "### `torchvision` library installation\n",
        "\n",
        "Install the `torchvision` library.\n"
      ]
    },
    {
      "cell_type": "markdown",
      "metadata": {
        "id": "9f352f58-ca70-428c-bcf6-a6fb9b83763d"
      },
      "source": [
        "### `scikit-learn` library installation\n"
      ]
    },
    {
      "cell_type": "code",
      "metadata": {
        "colab": {
          "base_uri": "https://localhost:8080/"
        },
        "id": "fdc3038a-358c-46d0-b15e-b1a156b2bf46",
        "outputId": "b66209ad-6c50-44db-cc91-7bba13c1ffd1"
      },
      "outputs": [
        {
          "output_type": "stream",
          "name": "stdout",
          "text": [
            "Requirement already satisfied: scikit-learn==1.7.0 in /usr/local/lib/python3.12/dist-packages (1.7.0)\n",
            "Requirement already satisfied: numpy>=1.22.0 in /usr/local/lib/python3.12/dist-packages (from scikit-learn==1.7.0) (1.26.0)\n",
            "Requirement already satisfied: scipy>=1.8.0 in /usr/local/lib/python3.12/dist-packages (from scikit-learn==1.7.0) (1.16.2)\n",
            "Requirement already satisfied: joblib>=1.2.0 in /usr/local/lib/python3.12/dist-packages (from scikit-learn==1.7.0) (1.5.2)\n",
            "Requirement already satisfied: threadpoolctl>=3.1.0 in /usr/local/lib/python3.12/dist-packages (from scikit-learn==1.7.0) (3.6.0)\n",
            "CPU times: user 2.89 s, sys: 412 ms, total: 3.3 s\n",
            "Wall time: 11.6 s\n"
          ]
        }
      ],
      "source": [
        "%%time\n",
        "%pip install scikit-learn==1.7.0"
      ],
      "execution_count": 5
    },
    {
      "cell_type": "markdown",
      "metadata": {
        "id": "5a6298cf-698f-4cdd-850b-9d56163a4fc1"
      },
      "source": [
        "### Import libraries\n"
      ]
    },
    {
      "cell_type": "code",
      "metadata": {
        "id": "98a345d6-9499-463d-a5e0-4faa0b10641c"
      },
      "outputs": [],
      "source": [
        "import warnings\n",
        "warnings.filterwarnings('ignore')"
      ],
      "execution_count": 6
    },
    {
      "cell_type": "code",
      "metadata": {
        "id": "998d3532-c61a-4831-b7e7-742d5410634c"
      },
      "outputs": [],
      "source": [
        "import os\n",
        "import sys\n",
        "import time\n",
        "import shutil\n",
        "import random\n",
        "import numpy as np\n",
        "import skillsnetwork\n",
        "from tqdm import tqdm\n",
        "import matplotlib.pyplot as plt"
      ],
      "execution_count": 7
    },
    {
      "cell_type": "code",
      "metadata": {
        "colab": {
          "base_uri": "https://localhost:8080/"
        },
        "id": "cded5ac3-c9ac-42e5-97e6-935227b0b207",
        "outputId": "0978482e-2276-4fa8-d4cd-a76413877480"
      },
      "outputs": [
        {
          "output_type": "stream",
          "name": "stdout",
          "text": [
            "Imported libraries\n",
            "CPU times: user 6.92 s, sys: 1.59 s, total: 8.51 s\n",
            "Wall time: 20.2 s\n"
          ]
        }
      ],
      "source": [
        "%%time\n",
        "# --- AI LIBRARY IMPORTS ---\n",
        "import torch\n",
        "import torch.nn as nn\n",
        "import torch.optim as optim\n",
        "from torchvision import transforms, datasets\n",
        "from torch.utils.data import DataLoader, random_split\n",
        "from sklearn.metrics import classification_report, confusion_matrix, accuracy_score\n",
        "print(\"Imported libraries\")"
      ],
      "execution_count": 8
    },
    {
      "cell_type": "markdown",
      "metadata": {
        "id": "9c741122-b069-4560-aed6-0a4307380aa9"
      },
      "source": [
        "#### Setting Up Data Extraction Directory\n"
      ]
    },
    {
      "cell_type": "code",
      "metadata": {
        "id": "ab2c0244-853e-4063-b1ab-1fd9bd2aeabf"
      },
      "outputs": [],
      "source": [
        "extract_dir = \".\"\n"
      ],
      "execution_count": 9
    },
    {
      "cell_type": "markdown",
      "metadata": {
        "id": "487538cb-1d87-45ea-9001-7830691ba0cd"
      },
      "source": [
        "## Data acquisition and preparation\n",
        "\n",
        "### Defining dataset URL\n",
        "\n",
        "\n",
        "Let's define the `url` that holds the link to the dataset. The dataset is a `.tar` archive hosted on a cloud object storage service. Cloud object storage (like S3) is a highly scalable and durable way to store and retrieve large amounts of unstructured data.\n"
      ]
    },
    {
      "cell_type": "code",
      "metadata": {
        "id": "6ff6aab5-19bd-4a89-9daf-955023514463"
      },
      "outputs": [],
      "source": [
        "url = \"https://cf-courses-data.s3.us.cloud-object-storage.appdomain.cloud/4Z1fwRR295-1O3PMQBH6Dg/images-dataSAT.tar\""
      ],
      "execution_count": 10
    },
    {
      "cell_type": "markdown",
      "metadata": {
        "id": "476bbc97-c5be-454c-ae82-e5e642cf9be9"
      },
      "source": [
        "## Download data\n",
        "1. Download and extract data from the cloud using the `skillsnetwork.prepare` method\n",
        "2. Use a fallback method if the `skillsnetwork.prepare` command fails to download and extract the dataset. The fallback involves asynchronously downloading the `.tar` file using `httpx` and then extracting its contents using the `tarfile` library.\n",
        "3. The `tarfile` module provides an interface to tar archives, supporting various compression formats like gzip and bzip2 (handled by `r:*` mode).\n"
      ]
    },
    {
      "cell_type": "code",
      "metadata": {
        "id": "64f9c500-b1ab-4d41-8a74-07cb8a2191f0"
      },
      "outputs": [],
      "source": [
        "def check_skillnetwork_extraction(extract_dir):\n",
        "    \"\"\" function to check whether data download and extraction method\n",
        "    `skillsnetwork.prepare` would execute successfully, without downloading any data.\n",
        "    This helps in early detection and fast fallback to explicit download and extraction\n",
        "    using default libraries\n",
        "    ###This is a hack for the code to run on non-cloud computing environment without errors\n",
        "    \"\"\"\n",
        "    symlink_test = os.path.join(extract_dir, \"symlink_test\")\n",
        "    if not os.path.exists(symlink_test):\n",
        "        os.symlink(os.path.join(os.sep, \"tmp\"), symlink_test)\n",
        "        print(\"Write permissions available for downloading and extracting the dataset tar file\")\n",
        "    os.unlink(symlink_test)\n",
        "\n",
        "async def download_tar_dataset(url, tar_path, extract_dir):\n",
        "    \"\"\"function to explicitly download and extract the dataset tar file from cloud using native python libraries\n",
        "    \"\"\"\n",
        "    if not os.path.exists(tar_path): # download only if file not downloaded already\n",
        "        try:\n",
        "            print(f\"Downloading from {url}...\")\n",
        "            async with httpx.AsyncClient() as client:\n",
        "                response = await client.get(url, follow_redirects=True)# Download the file asynchronously\n",
        "                response.raise_for_status() # Raise an exception for bad status codes (4xx or 5xx)\n",
        "\n",
        "                with open(tar_path , \"wb\") as f:\n",
        "                    f.write(response.content) # Save the downloaded file\n",
        "                print(f\"Successfully downloaded '{file_name}'.\")\n",
        "        except httpx.HTTPStatusError as http_err:\n",
        "            print(f\"HTTP error occurred during download: {http_err}\")\n",
        "        except Exception as download_err:\n",
        "            print(f\"An error occurred during the fallback process: {download_err}\")\n",
        "    else:\n",
        "        print(f\"dataset tar file already downloaded at: {tar_path}\")\n",
        "    with tarfile.open(tar_path, 'r:*') as tar_ref:\n",
        "        tar_ref.extractall(path=extract_dir)\n",
        "    print(f\"Successfully extracted to '{extract_dir}'.\")\n",
        "\n"
      ],
      "execution_count": 11
    },
    {
      "cell_type": "code",
      "metadata": {
        "colab": {
          "base_uri": "https://localhost:8080/",
          "height": 116,
          "referenced_widgets": [
            "7c418688715f4a7f8e5af2b7ffab4eb6",
            "94fcd90a255145a6b8a687a79767d3ef",
            "8f00b51d24044365957cd4d5b3dc7e91",
            "10f0200e70c64c298fd307efe955cfed",
            "d250db8e17cc4bdfb0141012bd56d3af",
            "2e0816772db44f9d9599ce3e07246fbc",
            "772947b4ba0344a48606e73724eb1552",
            "898bd888503047f18065c95242420cc8",
            "13d6efa29eb8472fb0e2a255e2fd5108",
            "7ff52d8521f043319d35fc11155de685",
            "1d9a6023a356420a8e7f338646ce55f3",
            "520e3f0338bf447d8eebde7b235d9a25",
            "d13b2d19a5b549d39e1862b60f1007f3",
            "5caac9ccb8374b3d929d629312b6fffb",
            "c02d435cd570490a82d83b8d4c63ea47",
            "fc0633f43a444aeb8048beff843a2f05",
            "8799ef8f17e642a7a76df3afb95187d4",
            "46238b71f6ba497896adc7e84068739f",
            "7518769574b3476a8a3c9e6ab267870c",
            "1803268384d3469490ca6df559173f97",
            "bedc8cf8f6bb4bb790492313dd39c756",
            "3e7cfda200f54c4bb96610833699c302"
          ]
        },
        "id": "f0164eda-9fe9-468d-b62f-748ba37f9d67",
        "outputId": "7822c414-061e-472c-a1e0-da0896a62f3a"
      },
      "outputs": [
        {
          "output_type": "stream",
          "name": "stdout",
          "text": [
            "Write permissions available for downloading and extracting the dataset tar file\n"
          ]
        },
        {
          "output_type": "display_data",
          "data": {
            "text/plain": [
              "Downloading images-dataSAT.tar:   0%|          | 0/20243456 [00:00<?, ?it/s]"
            ],
            "application/vnd.jupyter.widget-view+json": {
              "version_major": 2,
              "version_minor": 0,
              "model_id": "7c418688715f4a7f8e5af2b7ffab4eb6"
            }
          },
          "metadata": {}
        },
        {
          "output_type": "display_data",
          "data": {
            "text/plain": [
              "  0%|          | 0/6003 [00:00<?, ?it/s]"
            ],
            "application/vnd.jupyter.widget-view+json": {
              "version_major": 2,
              "version_minor": 0,
              "model_id": "520e3f0338bf447d8eebde7b235d9a25"
            }
          },
          "metadata": {}
        },
        {
          "output_type": "stream",
          "name": "stdout",
          "text": [
            "Saved to '.'\n"
          ]
        }
      ],
      "source": [
        "try:\n",
        "    check_skillnetwork_extraction(extract_dir)\n",
        "    await skillsnetwork.prepare(url = url, path = extract_dir, overwrite = True)\n",
        "except Exception as e:\n",
        "    print(e)\n",
        "    # --- FALLBACK METHOD FOR DOWNLOADING THE DATA ---\n",
        "    print(\"Primary download/extration method failed.\")\n",
        "    print(\"Falling back to manual download and extraction...\")\n",
        "\n",
        "    # import libraries required for downloading and extraction\n",
        "    import tarfile\n",
        "    import httpx\n",
        "    from pathlib import Path\n",
        "\n",
        "    file_name = Path(url).name# Get the filename from the URL (e.g., 'data.tar')\n",
        "    tar_path = os.path.join(extract_dir, file_name)\n",
        "    print(f\"tar_path: {os.path.exists(tar_path)} ___ {tar_path}\")\n",
        "    await download_tar_dataset(url, tar_path, extract_dir)"
      ],
      "execution_count": 12
    },
    {
      "cell_type": "markdown",
      "metadata": {
        "id": "65ce6ca5-19bb-4dd6-9981-902b46907d58"
      },
      "source": [
        "## Ensuring repeatability in PyTorch\n",
        "\n",
        "To achieve reproducible results when you train a CNN in PyTorch, you must follow three steps:\n",
        "\n",
        "1.  Define a helper called `set_seed` that seeds every random-number generator and configures cuDNN for deterministic kernels.\n",
        "2.  Call `set_seed()` *once* at the top of your script/notebook to lock in the seed for the main process.\n",
        "3.  Provide a `worker_init_fn` so each `DataLoader` worker starts from a reproducible seed as well.\n"
      ]
    },
    {
      "cell_type": "markdown",
      "metadata": {
        "id": "d5a758b9-4421-435d-bd1a-3f1716337fec"
      },
      "source": [
        "### Define the `set_seed` function\n",
        "What the `set_seed` function does\n",
        "\n",
        "* **Python & NumPy** – Many data-pipeline utilities (shuffling lists, image augmentations) rely on these random-number generators. Seeding them first removes one entire layer of randomness.\n",
        "* **PyTorch CPU / GPU** – `torch.manual_seed` covers every op executed on the CPU, while `torch.cuda.manual_seed_all` applies the same seed to each GPU stream so that multi-GPU jobs stay in sync.\n",
        "* **cuDNN flags** – By default cuDNN picks the fastest convolution algorithm, which can vary run-to-run. Setting `deterministic=True` forces repeatable kernels and turning `benchmark` *off* prevents the auto-tuner from replacing those kernels mid-training.\n"
      ]
    },
    {
      "cell_type": "code",
      "metadata": {
        "id": "af549121-24f8-4454-b218-9c9294aae1b1"
      },
      "outputs": [],
      "source": [
        "\n",
        "def set_seed(seed: int = 42) -> None:\n",
        "    \"\"\"Seed Python, NumPy, and PyTorch (CPU & all GPUs) and\n",
        "    make cuDNN run in deterministic mode.\"\"\"\n",
        "    # ---- Python and NumPy -------------------------------------------\n",
        "    random.seed(seed)\n",
        "    np.random.seed(seed)\n",
        "\n",
        "    # ---- PyTorch (CPU  &  GPU) --------------------------------------\n",
        "    torch.manual_seed(seed)\n",
        "    torch.cuda.manual_seed_all(seed)\n",
        "\n",
        "    # ---- cuDNN: force repeatable convolutions -----------------------\n",
        "    torch.backends.cudnn.deterministic = True\n",
        "    torch.backends.cudnn.benchmark     = False"
      ],
      "execution_count": 13
    },
    {
      "cell_type": "markdown",
      "metadata": {
        "id": "bb44860d-ab37-4e8c-832c-abf1b1a21879"
      },
      "source": [
        "### Call `set_seed()`\n",
        "\n",
        "Running the command *before* you build models, create datasets, or start data-loader workers guarantees that every downstream object inherits the same seed.  If you call it later, some layers or tensors may already have been initialised with non-deterministic values, breaking repeatability.\n"
      ]
    },
    {
      "cell_type": "code",
      "metadata": {
        "colab": {
          "base_uri": "https://localhost:8080/"
        },
        "id": "c4ef6cb3-bfcd-41ff-ba00-1cae2b983208",
        "outputId": "cf75e2cc-21d2-4bf7-cb85-39f1a3ab3d30"
      },
      "outputs": [
        {
          "output_type": "stream",
          "name": "stdout",
          "text": [
            "Global seed set to 42 — main process is now deterministic.\n"
          ]
        }
      ],
      "source": [
        "SEED = 42\n",
        "set_seed(SEED)\n",
        "print(f\"Global seed set to {SEED} — main process is now deterministic.\")"
      ],
      "execution_count": 14
    },
    {
      "cell_type": "markdown",
      "metadata": {
        "id": "e45c5529-ea3a-4324-a53f-306ee6cc409b"
      },
      "source": [
        "#### You now know how to fix the seed for reproducibility. Now, let's answer the following question\n"
      ]
    },
    {
      "cell_type": "markdown",
      "metadata": {
        "id": "77200e6d-b5f6-4554-9180-137bcf59f368"
      },
      "source": [
        "### Question: Why is random initialization useful for the model?\n"
      ]
    },
    {
      "cell_type": "code",
      "metadata": {
        "id": "d1463b69-0c76-469d-a904-1a4d9409c29f"
      },
      "outputs": [],
      "source": [
        "## You can use this cell to type the answer to the question.\n",
        "\"\"\"\n",
        "Random initialization, each neuron starts differently, enabling effective learning and convergence.\n",
        "\"\"\"\n"
      ],
      "execution_count": null
    },
    {
      "cell_type": "markdown",
      "metadata": {
        "id": "a59c8956-336a-48ae-b965-8e2390c22660"
      },
      "source": [
        "### Define `worker_init_fn` function\n",
        "\n",
        "PyTorch offsets each worker’s seed by default, injecting new randomness. For reproducible results, you want workers to start from **fixed** seeds so every data-augmentation decision (flip, crop, colour-jitter) is repeatable across runs. The `worker_init_fn` function re-seeds Python, NumPy, and PyTorch CPU random-number generators inside **each** worker using a simple deterministic formula (`SEED + worker_id`).  The result will be identical batches, identical gradients, and identical model checkpoints, run after run.\n"
      ]
    },
    {
      "cell_type": "code",
      "metadata": {
        "id": "61c311fa-3c33-41ed-9abd-ed206cbea99f"
      },
      "outputs": [],
      "source": [
        "def worker_init_fn(worker_id: int) -> None:\n",
        "    \"\"\"Re-seed each DataLoader worker so their RNGs don't collide.\"\"\"\n",
        "    worker_seed = SEED + worker_id\n",
        "    np.random.seed(worker_seed)\n",
        "    random.seed(worker_seed)\n",
        "    torch.manual_seed(worker_seed)"
      ],
      "execution_count": 15
    },
    {
      "cell_type": "markdown",
      "metadata": {
        "id": "3dadd563-5b4f-4a6a-9b43-d8944d4f91a1"
      },
      "source": [
        "### Defining `dataset_path`\n"
      ]
    },
    {
      "cell_type": "code",
      "metadata": {
        "colab": {
          "base_uri": "https://localhost:8080/"
        },
        "id": "e217d569-7226-43a0-8207-f9ba4529b0a8",
        "outputId": "77d1650b-2b4e-4570-8bb6-a57024850a11"
      },
      "outputs": [
        {
          "output_type": "stream",
          "name": "stdout",
          "text": [
            "./images_dataSAT\n"
          ]
        }
      ],
      "source": [
        "dataset_path = os.path.join(extract_dir, \"images_dataSAT\")\n",
        "print(dataset_path)"
      ],
      "execution_count": 16
    },
    {
      "cell_type": "markdown",
      "metadata": {
        "id": "36fb32a6-6159-4007-84b5-f77cec305ec8"
      },
      "source": [
        "## Defining hyperparameters and device\n",
        "\n",
        "You have to define the key **hyperparameters** that control the model's training process. Hyperparameters are set by the user to configure the learning algorithm.\n",
        "\n",
        "- **`img_size`**: The spatial resolution (height and width) to which all images will be resized. This ensures that the input to the neural network is of a consistent size.\n",
        "- **`batch_size`**: The number of training examples utilized in one iteration (one forward and backward pass). A larger batch size can lead to faster training but requires more memory.\n",
        "- **`lr` (Learning Rate)**: A crucial hyperparameter that determines the step size at each iteration while moving toward a minimum of the loss function.\n",
        "- **`epochs`**: The number of times the learning algorithm will work through the entire training dataset.\n",
        "- **`model_name`**: The name of the model file that will be created after training. This is useful for saving the checkpoint while training.\n",
        "- **`device`**: This line programmatically checks if a CUDA-enabled GPU is available using `torch.cuda.is_available()`. If a GPU is found, the device is set to `\"cuda\"` to leverage hardware acceleration. Otherwise, it defaults to the `\"cpu\"`. This makes the code portable and efficient.\n"
      ]
    },
    {
      "cell_type": "code",
      "metadata": {
        "colab": {
          "base_uri": "https://localhost:8080/"
        },
        "id": "fa74a38b-635b-41ff-b425-95bd7b9b2f8a",
        "outputId": "2ac8447c-5626-4c4a-9b61-9d2079b22dd9"
      },
      "outputs": [
        {
          "output_type": "stream",
          "name": "stdout",
          "text": [
            "Device used is cpu\n"
          ]
        }
      ],
      "source": [
        "img_size = 64\n",
        "batch_size = 128\n",
        "lr = 0.001\n",
        "epochs = 3 # set to low number for your convenience. You can change this to any number of your liking\n",
        "model_name = \"ai_capstone_pytorch_state_dict.pth\"\n",
        "num_classes = 2 #number of classes in the dataset\n",
        "\n",
        "device = \"cuda\" if torch.cuda.is_available() else \"cpu\"\n",
        "print(f\"Device used is {device}\")\n"
      ],
      "execution_count": 17
    },
    {
      "cell_type": "markdown",
      "metadata": {
        "id": "ba1d5eb6-8a0f-4ca6-8de8-ba74574f6e29"
      },
      "source": [
        "## The data pipeline\n",
        "You have downloaded the dataset and fixed the initial random seed for reproducibility. Now, you can start to build the data pipeline to feed data for training the model.\n",
        "To create the data pipeline for PyTorch, you will:\n",
        "1. Define transformations\n",
        "2. Split the dataset for training and validation\n",
        "3. Create the dataloader to feed the data into the training model\n"
      ]
    },
    {
      "cell_type": "markdown",
      "metadata": {
        "id": "fc4d2e57-9d35-4ecc-a2d5-d75f4344e6b6"
      },
      "source": [
        "#### Define transformations\n",
        "Here, you will define a sequence of operations to be applied to the training images. It includes **data augmentation** techniques like `RandomRotation`, `RandomHorizontalFlip`, and `RandomAffine`. Augmentation artificially expands the training dataset by creating modified versions of images, which helps the model generalize better and reduces overfitting. The pipeline also resizes the image, converts it to a PyTorch tensor, and normalizes its pixel values.\n",
        "This cell constructs the entire pipeline for loading and preparing the image data for the model. It involves defining transformations, splitting the data, and creating data loaders.\n"
      ]
    },
    {
      "cell_type": "markdown",
      "metadata": {
        "id": "0a27902f-da29-4d43-9f43-0061a2e2f969"
      },
      "source": [
        "### Task: Create the training transformation pipeline `train_transform` using the `tranforms.Compose` .\n",
        "You may use\n",
        "- `transforms.Resize` : To resize all input images to a fixed size, useful for input vector with fixed dimensions for model training\n",
        "- `transforms.RandomRotation`: For geometrical rotation\n",
        "- `transforms.RandomHorizontalFlip`: For Geometrical horizontal flipping\n",
        "- `transforms.RandomAffine`: For adjusting to a different point-of-view\n",
        "\n",
        "Then, convert the image array to a Tensor using `transforms.ToTensor()`.\n",
        "\n",
        "And finally, normalize the images between [-1,1] using `transforms.Normalize`.\n"
      ]
    },
    {
      "cell_type": "code",
      "metadata": {
        "id": "34a4570a-e0f5-43b7-a7df-6bc124617527"
      },
      "outputs": [],
      "source": [
        "## You can use this cell to type the code to complete the task.\n",
        "\n",
        "train_transform = transforms.Compose([transforms.Resize((img_size, img_size)),\n",
        "                                      transforms.RandomRotation(40),\n",
        "                                      transforms.RandomHorizontalFlip(),\n",
        "                                      transforms.RandomAffine(0, shear=0.2),\n",
        "                                      transforms.ToTensor(),\n",
        "                                      transforms.Normalize([0.485, 0.456, 0.406], [0.229, 0.224, 0.225])\n",
        "                                     ])"
      ],
      "execution_count": 18
    },
    {
      "cell_type": "markdown",
      "metadata": {
        "id": "c9ad7fde-9b99-40da-b71d-d5cf91394e76"
      },
      "source": [
        "- **`train_transform`**: This defines a sequence of operations to be applied to the training images. It includes **data augmentation** techniques like `RandomRotation`, `RandomHorizontalFlip`, and `RandomAffine`. Augmentation artificially expands the training dataset by creating modified versions of images, which helps the model generalize better and reduces overfitting. The pipeline also resizes the image, converts it to a PyTorch tensor, and normalizes its pixel values.\n",
        "- **`val_transform`**: The transformation for the validation set is simpler. It omits the random augmentation steps because you want to evaluate the model's performance on the original, unaltered data.\n",
        "- **`datasets.ImageFolder`**: This PyTorch utility automatically loads an image dataset from a directory where subdirectories are named after their corresponding classes (e.g., `data/agri`, `data/non_agri`).\n",
        "- **`random_split`**: The full dataset is partitioned into training (80%) and validation (20%) sets. This separation is crucial for assessing how well the model generalizes to unseen data.\n",
        "- **`DataLoader`**: These objects wrap the datasets and provide an efficient, iterable way to feed data to the model in batches. `shuffle=True` for the `train_loader` ensures that the model sees the data in a different order each epoch, which helps prevent it from learning the order of the training examples. `worker_init_fn` ensures that **fixed seed** is passed to the `dataloader` for reproducibility.\n"
      ]
    },
    {
      "cell_type": "markdown",
      "metadata": {
        "id": "a567b7d0-b273-4ca1-88f9-2f515d629afb"
      },
      "source": [
        "### Task: Create the validation transformation pipeline `val_transform`.\n",
        "The validataion dataset is just for validating the preformace of the model and hence, doesn't need to augment the input images.\n",
        "So, you may use\n",
        "- `transforms.Resize` : To resize all input images to a fixed size\n",
        "- `transforms.ToTensor()`\n",
        "-  `transforms.Normalize`\n"
      ]
    },
    {
      "cell_type": "code",
      "metadata": {
        "id": "edb56fbc-9b00-4244-a5ab-c7a84bcb3dac"
      },
      "outputs": [],
      "source": [
        "## You can use this cell to type the code to complete the task.\n",
        "\n",
        "val_transform = transforms.Compose([\n",
        "                                    transforms.Resize((img_size, img_size)),\n",
        "                                    transforms.ToTensor(),\n",
        "                                    transforms.Normalize([0.485, 0.456, 0.406], [0.229, 0.224, 0.225])\n",
        "                                    ])"
      ],
      "execution_count": 19
    },
    {
      "cell_type": "markdown",
      "metadata": {
        "id": "469ef233-73ea-40ca-976f-e916647d609a"
      },
      "source": [
        "### Loading dataset\n",
        "\n",
        "You have defined the transformation pipelines for the training and validation datasets.\n",
        "\n",
        "Next, you will use the `datasets.ImageFolder` utility to load an image dataset from the root directory `dataset_path`.\n",
        "\n",
        "This root directory contains the subdirectories where each subdirectory corresponds to a class (e.g., `data/agri`, `data/non_agri`).\n"
      ]
    },
    {
      "cell_type": "code",
      "metadata": {
        "id": "c18974d4-e363-415a-8ac4-e14a1d4f35b0"
      },
      "outputs": [],
      "source": [
        "full_dataset = datasets.ImageFolder(dataset_path, transform=train_transform)"
      ],
      "execution_count": 20
    },
    {
      "cell_type": "markdown",
      "metadata": {
        "id": "ad56f99c-9e89-4789-b755-7ca9bd1008b8"
      },
      "source": [
        "### Dataset split: Train and validation\n",
        "\n",
        "The next step in the data loading pipeline is to split the image dataset for training and validation.\n",
        "\n",
        "You can use `random_split` from `torch.utils.data` class.\n",
        "\n",
        "This method allows you to randomly split the input data based on a pre-defined split ratio for the training and validation datasets.\n",
        "\n",
        "In this case, you can use 80% (0.8) dataset for training and 20% (0.20) for validation.\n"
      ]
    },
    {
      "cell_type": "code",
      "metadata": {
        "id": "60e33fa2-520e-43ba-928f-890395eb9e93"
      },
      "outputs": [],
      "source": [
        "train_size = int(0.8 * len(full_dataset))\n",
        "val_size = len(full_dataset) - train_size\n",
        "train_dataset, val_dataset = random_split(full_dataset, [train_size, val_size])\n",
        "val_dataset.dataset.transform = val_transform"
      ],
      "execution_count": 21
    },
    {
      "cell_type": "markdown",
      "metadata": {
        "id": "b8a5c9e4-c1e8-4997-9d38-53560fa8fadd"
      },
      "source": [
        "### Create training dataLoader\n",
        "\n",
        "Now, you can use the `DataLoader` from `torch.utils.data` class to create a dataset generator for lazy loading of the training dataset.\n",
        "In the input, you define\n",
        "- `train_dataset`: The training image dataset\n",
        "- `batch_size`: The number of images to be loaded in each batch\n",
        "- `shuffle`: Set to *True* to load images from the dataset in random order\n",
        "- `num_workers`: Number of parallel processes used to load the images. This is for optimum utilization of your CPU cores to reduce the image I/O bottleneck\n",
        "- `worker_init_fn`: For function to decide on data augmentation. The default is with *random seed* for better generalization or *fixed seed* for reproducible results.\n"
      ]
    },
    {
      "cell_type": "code",
      "metadata": {
        "id": "01a1468b-1496-4ac6-9da2-fd0faae1ca86"
      },
      "outputs": [],
      "source": [
        "train_loader = DataLoader(train_dataset,\n",
        "                          batch_size=batch_size,\n",
        "                          shuffle=True,\n",
        "                          num_workers=4,\n",
        "                          worker_init_fn=worker_init_fn\n",
        "                         )"
      ],
      "execution_count": 22
    },
    {
      "cell_type": "markdown",
      "metadata": {
        "id": "55c083c3-fbec-41ee-86c1-b46f97ac5ad2"
      },
      "source": [
        "### Create validation DataLoader\n",
        "\n",
        "Now that you know how to create the train dataloader, in this step, you will create a validation step dataloader\n"
      ]
    },
    {
      "cell_type": "markdown",
      "metadata": {
        "id": "ffe010f7-c9e6-4483-9609-6944fd994b44"
      },
      "source": [
        "### Task: create `val_loader` for the validation dataset\n",
        "\n",
        "You have to create the validation dataloader `val_loader` for validation of model in each training step.\n"
      ]
    },
    {
      "cell_type": "code",
      "metadata": {
        "id": "3e20fce5-88ba-4515-baf4-693220864601"
      },
      "outputs": [],
      "source": [
        "## You can use this cell to type the code to complete the task.\n",
        "val_loader = DataLoader(val_dataset,\n",
        "                        batch_size=batch_size,\n",
        "                        shuffle=False,\n",
        "                        num_workers=4,\n",
        "                        worker_init_fn=worker_init_fn\n",
        "                       )\n"
      ],
      "execution_count": 23
    },
    {
      "cell_type": "code",
      "metadata": {
        "colab": {
          "base_uri": "https://localhost:8080/"
        },
        "id": "7c24fc1c-a0f2-4fd3-beeb-369b7feac271",
        "outputId": "c56ac014-3ba1-4ac3-9d68-253897384546"
      },
      "outputs": [
        {
          "output_type": "stream",
          "name": "stdout",
          "text": [
            "Created Dataloaders. Now creating the model...\n"
          ]
        }
      ],
      "source": [
        "print(\"Created Dataloaders. Now creating the model...\")"
      ],
      "execution_count": 24
    },
    {
      "cell_type": "markdown",
      "metadata": {
        "id": "2c59abd5-c0a1-4aaf-9234-b2348e971576"
      },
      "source": [
        "## Defining the model\n",
        "\n",
        "You will define the Convolutional Neural Network (CNN) architecture and configure the components needed for training.\n",
        "<p></p>\n",
        "\n",
        "\n",
        "<p></p>\n",
        "\n",
        "- **`model = nn.Sequential(...)`**: A sequential container is used to build the model as a linear stack of layers. This is a convenient way to define a straightforward CNN.\n",
        "  - **Convolutional Blocks**: The model consists of several blocks, each containing\n",
        "      - a `Conv2d` layer for feature extraction,\n",
        "      - a `ReLU` activation function,\n",
        "      - a `MaxPool2d` layer to downsample and reduce dimensionality,\n",
        "      - a`BatchNorm2d` to stabilize and accelerate training.    \n",
        "  - **Classifier**: After the convolutional blocks,\n",
        "      - `AdaptiveAvgPool2d` reduces each feature map to a single value, making the model more robust to input size variations.\n",
        "      - `Flatten` converts the 2D feature maps into a 1D vector.\n",
        "      - `Linear` (fully connected) layers then perform the final classification,\n",
        "      - `Dropout` is used as a regularization technique to prevent overfitting.\n",
        "  - **`.to(device)`**: This moves the model's parameters and buffers to the selected device (GPU, if available otherwise CPU).\n"
      ]
    },
    {
      "cell_type": "code",
      "metadata": {
        "id": "b43b1501-d7d0-44e2-bba6-751fbae5d44c"
      },
      "outputs": [],
      "source": [
        "# --- MODEL ---\n",
        "model = nn.Sequential(\n",
        "                        # Conv Block 1\n",
        "                        nn.Conv2d(3, 32, 5, padding=2), nn.ReLU(),\n",
        "                        nn.MaxPool2d(2), nn.BatchNorm2d(32),\n",
        "\n",
        "                        # Conv Block 2-6\n",
        "                        nn.Conv2d(32, 64, 5, padding=2), nn.ReLU(), nn.MaxPool2d(2), nn.BatchNorm2d(64),\n",
        "                        nn.Conv2d(64, 128, 5, padding=2), nn.ReLU(), nn.MaxPool2d(2), nn.BatchNorm2d(128),\n",
        "                        nn.Conv2d(128, 256, 5, padding=2), nn.ReLU(), nn.MaxPool2d(2), nn.BatchNorm2d(256),\n",
        "                        nn.Conv2d(256, 512, 5, padding=2), nn.ReLU(), nn.MaxPool2d(2), nn.BatchNorm2d(512),\n",
        "                        nn.Conv2d(512, 1024, 5, padding=2), nn.ReLU(), nn.MaxPool2d(2), nn.BatchNorm2d(1024),\n",
        "\n",
        "                        # Classifier\n",
        "                        nn.AdaptiveAvgPool2d(1), nn.Flatten(),\n",
        "                        nn.Linear(1024, 2048), nn.ReLU(), nn.BatchNorm1d(2048), nn.Dropout(0.4),\n",
        "                        nn.Linear(2048, num_classes)\n",
        "                    ).to(device)"
      ],
      "execution_count": 25
    },
    {
      "cell_type": "markdown",
      "metadata": {
        "id": "c8e0f9fd-839b-4d27-ab28-ab688777552d"
      },
      "source": [
        "### Defining the training setup\n",
        "\n",
        "After defining the model, you declare the loss function and the optimizer for backpropagation and learning\n",
        "You also set up the tracking of the history of the model training for loss and accuracy for every step of the model training\n",
        "\n"
      ]
    },
    {
      "cell_type": "markdown",
      "metadata": {
        "id": "84a75a3a-0f3b-4324-b20b-b55f46672d55"
      },
      "source": [
        "- The loss function is defined using **`criterion = nn.CrossEntropyLoss()`**\n",
        "    - `CrossEntropyLoss` is specifically designed for multi classs classification problems.\n",
        "<p></p>\n",
        "<p></p>\n",
        "- The optimizer is defined using **`optimizer = optim.Adam(...)`**:\n",
        "    - The Adam optimizer is chosen to update the model's weights. It's an adaptive learning rate method that is computationally efficient and works well in practice.\n",
        "<p></p>\n",
        "\n",
        "<p></p>\n",
        "\n",
        "- You can **track the history** using `best_loss`, `loss_history` and `acc_history` dictionaries\n",
        "    - `best_loss`: stores the best validation loss achieved so far.\n",
        "    - `loss_history` and `acc_history` dictionaries to log the loss and accuracy history for plotting later.\n"
      ]
    },
    {
      "cell_type": "code",
      "metadata": {
        "colab": {
          "base_uri": "https://localhost:8080/"
        },
        "id": "9ff15214-c9cf-49b2-9547-e069d379856c",
        "outputId": "c95bbc81-6dab-45d6-d537-8a4d7271e1d9"
      },
      "outputs": [
        {
          "output_type": "stream",
          "name": "stdout",
          "text": [
            "Created Model. Now training the model...\n"
          ]
        }
      ],
      "source": [
        "# --- TRAINING SETUP ---\n",
        "#criterion = nn.BCEWithLogitsLoss()\n",
        "criterion = nn.CrossEntropyLoss()\n",
        "optimizer = optim.Adam(model.parameters(), lr=lr)\n",
        "best_loss = float('inf')\n",
        "loss_history = {'train': [], 'val': []}\n",
        "acc_history = {'train': [], 'val': []}\n",
        "\n",
        "print(\"Created Model. Now training the model...\")"
      ],
      "execution_count": 26
    },
    {
      "cell_type": "markdown",
      "metadata": {
        "id": "b86265a2-73f5-4291-b93d-d5b39ce23093"
      },
      "source": [
        "## Training and validation\n",
        "\n",
        "Your neural network is now ready for training.\n",
        "\n",
        "Here, you will set up the main logic for how the model learns from the data. The model iterates through the dataset for the specified number of epochs, with each epoch consisting of a training phase and a validation phase.\n",
        "\n",
        "- **Outer Loop (`for epoch in range(epochs)`)**: Controls the number of full passes over the dataset.\n",
        "\n",
        "<p></p>\n",
        "\n",
        "<p></p>\n",
        "\n",
        "\n",
        "- **In the interest of time, we are training the model for just 3 epochs**.\n",
        "    - Generally, you train a model for many more epochs (atleast 15, usually). The model trained for 20 epochs can be found **[here](https://cf-courses-data.s3.us.cloud-object-storage.appdomain.cloud/8J2QEyQqD8x9zjrlnv6N7g/ai-capstone-pytorch-best-model-20250713.pth)**\n",
        "\n",
        "<p></p>\n",
        "\n",
        "<p></p>\n",
        "\n",
        "- **Training Phase**:\n",
        "  - `model.train()`: Sets the model to training mode. This activates layers like Dropout and ensures BatchNorm layers learn from the current batch statistics.\n",
        "  - **Inner Loop (`for images, labels in train_loader`)**: Iterates over batches of training data.\n",
        "  - `optimizer.zero_grad()`: Clears the gradients from the previous iteration before computing new ones.\n",
        "  - `outputs = model(images)`: **Forward Pass**. The input data is passed through the network to get predictions (logits).\n",
        "  - `loss.backward()`: **Backward Pass**. Gradients of the loss with respect to the model's parameters are calculated.\n",
        "  - `optimizer.step()`: The optimizer updates the model's parameters using the computed gradients.\n",
        "\n",
        "<p></p>\n",
        "\n",
        "<p></p>\n",
        "\n",
        "- **Validation Phase**:\n",
        "  - `model.eval()`: Sets the model to evaluation mode. This deactivates Dropout and makes BatchNorm layers use their learned running statistics.\n",
        "  - `with torch.no_grad()`: Disables gradient calculation, which speeds up computation and reduces memory usage since you are only evaluating, not training.\n",
        "\n",
        "<p></p>\n",
        "\n",
        "<p></p>\n",
        "\n",
        "- **Model Checkpointing**: After each epoch, the current validation loss is compared to the `best_loss` seen so far. If the current loss is lower, the model's state (`model.state_dict()`) is saved to a file. This ensures that you keep the model version that performed best on the validation set.\n"
      ]
    },
    {
      "cell_type": "code",
      "metadata": {
        "colab": {
          "base_uri": "https://localhost:8080/"
        },
        "id": "5c9b06d4-0905-4a23-9034-11eaf9a0c544",
        "outputId": "257e87a2-846a-4854-90dc-22550d7c71ef"
      },
      "outputs": [
        {
          "output_type": "stream",
          "name": "stdout",
          "text": [
            "Training on : ===cpu=== with batch size: 128 & lr: 0.001\n"
          ]
        },
        {
          "output_type": "stream",
          "name": "stderr",
          "text": [
            "Epoch 1/3: 100%|██████████| 38/38 [03:59<00:00,  6.30s/it]\n"
          ]
        },
        {
          "output_type": "stream",
          "name": "stdout",
          "text": [
            "Train Loss: 0.2500 | Val Loss: 0.0506\n",
            "Train Acc: 0.9373 | Val Acc: 0.9792\n",
            "Epoch 1 training completed in 257.27 seconds\n",
            "\n"
          ]
        },
        {
          "output_type": "stream",
          "name": "stderr",
          "text": [
            "Epoch 2/3: 100%|██████████| 38/38 [03:56<00:00,  6.21s/it]\n"
          ]
        },
        {
          "output_type": "stream",
          "name": "stdout",
          "text": [
            "Train Loss: 0.0158 | Val Loss: 0.0112\n",
            "Train Acc: 0.9950 | Val Acc: 0.9958\n",
            "Epoch 2 training completed in 254.21 seconds\n",
            "\n"
          ]
        },
        {
          "output_type": "stream",
          "name": "stderr",
          "text": [
            "Epoch 3/3: 100%|██████████| 38/38 [03:51<00:00,  6.10s/it]\n"
          ]
        },
        {
          "output_type": "stream",
          "name": "stdout",
          "text": [
            "Train Loss: 0.0318 | Val Loss: 0.0453\n",
            "Train Acc: 0.9890 | Val Acc: 0.9858\n",
            "Epoch 3 training completed in 249.69 seconds\n",
            "\n",
            "Trained Model. Now evaluating the model...\n"
          ]
        }
      ],
      "source": [
        "print(f\"Training on : ==={device}=== with batch size: {batch_size} & lr: {lr}\")\n",
        "\n",
        "# --- TRAINING LOOP ---\n",
        "for epoch in range(epochs):\n",
        "    # Training Phase\n",
        "    start_time = time.time() # to get the training time for each epoch\n",
        "    model.train()\n",
        "    train_loss, train_correct, train_total = 0, 0, 0  # for the training metrics\n",
        "    for batch_idx, (images, labels) in enumerate(tqdm(train_loader, desc=f\"Epoch {epoch+1}/{epochs}\")):\n",
        "        images, labels = images.to(device), labels.to(device)  # labels as integer class indices\n",
        "        optimizer.zero_grad()\n",
        "        outputs = model(images)  # outputs are raw logits\n",
        "        loss = criterion(outputs, labels)  # criterion is nn.CrossEntropyLoss\n",
        "        loss.backward()\n",
        "        optimizer.step()\n",
        "        train_loss += loss.item()\n",
        "        preds = torch.argmax(outputs, dim=1)\n",
        "        train_correct += (preds == labels).sum().item()\n",
        "        train_total += labels.size(0)\n",
        "\n",
        "    # Synchronize CUDA before stopping timer (if using GPU)\n",
        "    if device == 'cuda':\n",
        "        torch.cuda.synchronize()\n",
        "\n",
        "    # Validation Phase\n",
        "    model.eval()\n",
        "    val_loss, val_correct, val_total = 0, 0, 0 #  for the validation metrics\n",
        "    with torch.no_grad():\n",
        "        for images, labels in val_loader:\n",
        "            images, labels = images.to(device), labels.to(device)\n",
        "            outputs = model(images)\n",
        "            val_loss += criterion(outputs, labels).item()\n",
        "            preds = torch.argmax(outputs, dim=1)\n",
        "            val_correct += (preds == labels).sum().item()\n",
        "            val_total += labels.size(0)\n",
        "\n",
        "    # Save the best model\n",
        "    avg_val_loss = val_loss/len(val_loader)\n",
        "    if avg_val_loss < best_loss:\n",
        "        best_loss = avg_val_loss\n",
        "        torch.save(model.state_dict(), model_name)\n",
        "\n",
        "    # Store metrics\n",
        "    loss_history['train'].append(train_loss/len(train_loader))\n",
        "    loss_history['val'].append(val_loss/len(val_loader))\n",
        "    acc_history['train'].append(train_correct/train_total)\n",
        "    acc_history['val'].append(val_correct/val_total)\n",
        "\n",
        "    #print(f\"Epoch {epoch+1}/{epochs}\")\n",
        "    print(f\"Train Loss: {loss_history['train'][-1]:.4f} | Val Loss: {loss_history['val'][-1]:.4f}\")\n",
        "    print(f\"Train Acc: {acc_history['train'][-1]:.4f} | Val Acc: {acc_history['val'][-1]:.4f}\")\n",
        "    epoch_time = time.time() - start_time\n",
        "    print(f\"Epoch {epoch+1} training completed in {epoch_time:.2f} seconds\\n\")\n",
        "\n",
        "print(\"Trained Model. Now evaluating the model...\")"
      ],
      "execution_count": 27
    },
    {
      "cell_type": "markdown",
      "metadata": {
        "id": "8fd8e0b7-2352-4cc1-8fd7-bce9234d6310"
      },
      "source": [
        "You have successfully trained the model using PyTorch libraries. As you can see, during the model training, each step is easy accessible for fine tuning the model. This gives the user an advantage by giving them control over every hyperparameter.\n"
      ]
    },
    {
      "cell_type": "markdown",
      "metadata": {
        "id": "8315dacb-6394-4888-8198-6b2751fb24f4"
      },
      "source": [
        "Based on the training cell above, please answer the following questions\n"
      ]
    },
    {
      "cell_type": "markdown",
      "metadata": {
        "id": "5b1db17a-ff33-4cd6-a85a-5f2157650192"
      },
      "source": [
        "### Question: What is `tqdm` used for?\n"
      ]
    },
    {
      "cell_type": "code",
      "metadata": {
        "colab": {
          "base_uri": "https://localhost:8080/",
          "height": 36
        },
        "id": "e8efc27e-b280-4f68-8d74-32c533eb5b16",
        "outputId": "915adc87-dd7d-468a-a4b5-23afdefa6e5c"
      },
      "outputs": [
        {
          "output_type": "execute_result",
          "data": {
            "text/plain": [
              "'\\nThe tqdm library is used to provide a progress bar to monitor the progress of each epoch.\"\\n'"
            ],
            "application/vnd.google.colaboratory.intrinsic+json": {
              "type": "string"
            }
          },
          "metadata": {},
          "execution_count": 29
        }
      ],
      "source": [
        "### You can use this cell to type the answer to the question.\n",
        "\n",
        "\"\"\"\n",
        "The tqdm library is used to provide a progress bar to monitor the progress of each epoch.\"\n",
        "\"\"\""
      ],
      "execution_count": 29
    },
    {
      "cell_type": "markdown",
      "metadata": {
        "id": "9919219d-3e19-433a-8e4f-e82039e1be98"
      },
      "source": [
        "### Question: Why are the `train_loss`, `train_correct` and `train_total` set to 0 in every epoch?\n"
      ]
    },
    {
      "cell_type": "code",
      "metadata": {
        "colab": {
          "base_uri": "https://localhost:8080/",
          "height": 36
        },
        "id": "6204e8ab-064a-4c24-ab35-0299b92266f1",
        "outputId": "109473eb-9f82-4549-b698-ce009778b666"
      },
      "outputs": [
        {
          "output_type": "execute_result",
          "data": {
            "text/plain": [
              "'\\nBecause they accumulate metrics for that specific epoch only\\n'"
            ],
            "application/vnd.google.colaboratory.intrinsic+json": {
              "type": "string"
            }
          },
          "metadata": {},
          "execution_count": 28
        }
      ],
      "source": [
        "## You can use this cell to type the answer to the question.\n",
        "\n",
        "\"\"\"\n",
        "Because they accumulate metrics for that specific epoch only\n",
        "\"\"\""
      ],
      "execution_count": 28
    },
    {
      "cell_type": "markdown",
      "metadata": {
        "id": "7ce16d1f-8f32-4ce0-9736-920f9f2de635"
      },
      "source": [
        "Double-click **here** for the solution.\n",
        "<!-- The correct answer is:\n",
        "\"Because they accumulate metrics for that specific epoch only\"\n",
        "-->\n"
      ]
    },
    {
      "cell_type": "markdown",
      "metadata": {
        "id": "9152e331-334a-4723-936a-92a536220c54"
      },
      "source": [
        "### Question: Why do you need to use `torch.no_grad()` in the validation loop?\n"
      ]
    },
    {
      "cell_type": "code",
      "metadata": {
        "colab": {
          "base_uri": "https://localhost:8080/",
          "height": 36
        },
        "id": "1b9d486d-8718-416c-a719-b8b3894aecc6",
        "outputId": "c92e06c4-19cc-4822-dba7-4554bf540d2e"
      },
      "outputs": [
        {
          "output_type": "execute_result",
          "data": {
            "text/plain": [
              "'\\nIt disables gradient calculation as you do not need gradient calculation for validation\\n'"
            ],
            "application/vnd.google.colaboratory.intrinsic+json": {
              "type": "string"
            }
          },
          "metadata": {},
          "execution_count": 32
        }
      ],
      "source": [
        "## You can use this cell to type the answer to the question.\n",
        "\"\"\"\n",
        "It disables gradient calculation as you do not need gradient calculation for validation\n",
        "\"\"\""
      ],
      "execution_count": 32
    },
    {
      "cell_type": "markdown",
      "metadata": {
        "id": "3758601c-e714-4408-9ccd-73af231be23f"
      },
      "source": [
        "### Question: What are two different metrics on which the model can be evaluated for best performance during training?\n"
      ]
    },
    {
      "cell_type": "code",
      "metadata": {
        "colab": {
          "base_uri": "https://localhost:8080/",
          "height": 36
        },
        "id": "696e3457-7e40-4fa6-b901-5379f92558e4",
        "outputId": "053caf40-a4f0-449e-ca34-1ead79f046ee"
      },
      "outputs": [
        {
          "output_type": "execute_result",
          "data": {
            "text/plain": [
              "'\\nthe validation loss and validation accuracy\\n'"
            ],
            "application/vnd.google.colaboratory.intrinsic+json": {
              "type": "string"
            }
          },
          "metadata": {},
          "execution_count": 33
        }
      ],
      "source": [
        "## You can use this cell to type the answer to the question.\n",
        "\"\"\"\n",
        "the validation loss and validation accuracy\n",
        "\"\"\"\n"
      ],
      "execution_count": 33
    },
    {
      "cell_type": "markdown",
      "metadata": {
        "id": "db22cf4b-d0e7-4b9d-b9ba-5b8b288b5067"
      },
      "source": [
        "## Save and download the trained model weights\n",
        "\n",
        "For your convenience, I have saved a model state dict for the model trained over 20 epochs **[here](https://cf-courses-data.s3.us.cloud-object-storage.appdomain.cloud/8J2QEyQqD8x9zjrlnv6N7g/ai-capstone-pytorch-best-model-20250713.pth)**. You can download that for evaluation and further labs on your local machine from **[this link](https://cf-courses-data.s3.us.cloud-object-storage.appdomain.cloud/8J2QEyQqD8x9zjrlnv6N7g/ai-capstone-pytorch-best-model-20250713.pth)**.\n",
        "\n",
        "\n",
        "Otherwise, you have also saved the model state dictionary for the best model using the `torch.save` function during training in this lab.\n",
        "\n",
        "You can also download the model state dict for the model that you have just trained for use in the subsequent labs.\n",
        "\n",
        "This is the PyTorch AI model state that can now be used for infering un-classified images.\n",
        "\n",
        "- You can download the trained model file: `ai_capstone_pytorch_state_dict.pth` from the left pane and save it on your local computer.\n",
        "- You can download this model by \"right-click\" on the file and then Clicking \"Download\".\n",
        "- This model could be used in other labs of this AI capstone course, instead of the model provided at the above link\n",
        "\n",
        "\n",
        "Please refer to the screenshots below for downloading the file to your local computer.\n",
        "\n",
        "\n",
        "### The trained model state file (`ai_capstone_pytorch_state_dict.pth` ) in the left pane\n",
        "![Model_PyTorch_download_screenshot_1_marked.png](https://cf-courses-data.s3.us.cloud-object-storage.appdomain.cloud/Nar8kA3Qrz3uCmFtFrKI9g/Model-PyTorch-download-screenshot-1-marked.png)\n",
        "\n",
        "### The **download** option\n",
        "![Model_PyTorch_download_screenshot_2_marked.png](https://cf-courses-data.s3.us.cloud-object-storage.appdomain.cloud/HKO5ROsE1erbqcE6Kq8ysA/Model-PyTorch-download-screenshot-2-marked.png)\n"
      ]
    },
    {
      "cell_type": "markdown",
      "metadata": {
        "id": "c00d3560-42a8-4b39-bff4-2b412a0c26bf"
      },
      "source": [
        "## Visualizing training history\n",
        "\n",
        "Here, you can use `matplotlib` to create plots of the model's accuracy and loss over each epoch. Visualizing these metrics is useful for understanding the training dynamics.\n",
        "\n",
        "\n",
        "Usually, the following two plots are used to track the training history of a model:\n",
        "- **Accuracy Plot**: Shows the training accuracy versus the validation accuracy. A large gap between the two curves can be an indicator of overfitting, where the model performs well on the data it has seen but poorly on new, unseen data.\n",
        "\n",
        "- **Loss Plot**: Shows the training loss versus the validation loss. An ideal plot shows both losses decreasing and converging. If the validation loss starts to increase while the training loss continues to decrease, it's a strong sign of overfitting.\n",
        "\n",
        "\n",
        "These plots provide an intuitive, visual summary of the entire training process and help diagnose potential issues or confirm that the model has trained successfully.\n"
      ]
    },
    {
      "cell_type": "markdown",
      "metadata": {
        "id": "bbb9372e-977b-4210-9a94-cbf343c93141"
      },
      "source": [
        "#### Plot the **Model Accuracy**\n"
      ]
    },
    {
      "cell_type": "code",
      "metadata": {
        "colab": {
          "base_uri": "https://localhost:8080/",
          "height": 468
        },
        "id": "71aa34f2-662f-42f5-9ac6-ff4cf6ffbf17",
        "outputId": "620894e7-1ac9-47f6-c7f5-1cdc6b897c57"
      },
      "outputs": [
        {
          "output_type": "display_data",
          "data": {
            "text/plain": [
              "<Figure size 1200x500 with 1 Axes>"
            ],
            "image/png": "[encoded data removed]"
          },
          "metadata": {}
        }
      ],
      "source": [
        "plt.figure(figsize=(12, 5))\n",
        "plt.plot(acc_history['train'], label='Train Acc')\n",
        "plt.plot(acc_history['val'], label='Val Acc')\n",
        "plt.title('Model Accuracy (PyTorch)')\n",
        "plt.legend()\n",
        "plt.show()"
      ],
      "execution_count": 30
    },
    {
      "cell_type": "markdown",
      "metadata": {
        "id": "f39f16f5-5ad5-42aa-90eb-d9aa94b07b0b"
      },
      "source": [
        "Now, write the code for the loss plot\n"
      ]
    },
    {
      "cell_type": "markdown",
      "metadata": {
        "id": "0d814c12-03ec-410b-88a8-4aaf17a8fc43"
      },
      "source": [
        "### Task: Plot the *Model Loss* from the training history of the model\n"
      ]
    },
    {
      "cell_type": "code",
      "metadata": {
        "colab": {
          "base_uri": "https://localhost:8080/",
          "height": 468
        },
        "id": "6a83ab29-4979-4ec8-a567-78359a7db75d",
        "outputId": "1dca1d93-58d5-4ea8-fbbd-d40cc1993913"
      },
      "outputs": [
        {
          "output_type": "display_data",
          "data": {
            "text/plain": [
              "<Figure size 1200x500 with 1 Axes>"
            ],
            "image/png": "[encoded data removed]"
          },
          "metadata": {}
        }
      ],
      "source": [
        "## You can use this cell to type the answer to the question.\n",
        "\n",
        "plt.figure(figsize=(12, 5))\n",
        "plt.plot(loss_history['train'], label='Train Loss')\n",
        "plt.plot(loss_history['val'], label='Val Loss')\n",
        "plt.title('Model Loss (PyTorch)')\n",
        "plt.legend()\n",
        "plt.show()"
      ],
      "execution_count": 31
    },
    {
      "cell_type": "markdown",
      "metadata": {
        "id": "bb1889a8-1dff-4670-842d-c907a77030ad"
      },
      "source": [
        "\n",
        "Double-click **here** for the solution.\n",
        "<!-- The correct answer is:\n",
        "\n",
        "plt.figure(figsize=(12, 5))\n",
        "plt.plot(loss_history['train'], label='Train Loss')\n",
        "plt.plot(loss_history['val'], label='Val Loss')\n",
        "plt.title('Model Loss (PyTorch)')\n",
        "plt.legend()\n",
        "plt.show()\n",
        "\n",
        "-->\n"
      ]
    },
    {
      "cell_type": "markdown",
      "metadata": {
        "id": "b99ef25d-8399-43ad-8d56-16bd16b625e7"
      },
      "source": [
        "## Final model evaluation\n",
        "\n",
        "This cell comprehensively evaluates the best-performing model saved during the training loop. While accuracy provides a high-level view, these metrics provide a deeper insight into the model's behavior.\n",
        "\n",
        "\n",
        "- **`model.eval()`**: Switches the model to evaluation mode.\n",
        "- **`with torch.no_grad()`**: Disables gradient computation for efficiency.\n",
        "- **Collecting Predictions**: The code iterates through the entire validation set to gather all predictions and their corresponding true labels.\n",
        "\n",
        "- **`accuracy`**: The proportion of correct predictions out of the total predictions.\n"
      ]
    },
    {
      "cell_type": "markdown",
      "metadata": {
        "id": "2809c691-d145-4718-ace5-80c72a680e3f"
      },
      "source": [
        "To evaluate the model, you have to get the predictions for the images.\n"
      ]
    },
    {
      "cell_type": "markdown",
      "metadata": {
        "id": "32f68f75-f25e-42a7-b9b1-36ee427cd2db"
      },
      "source": [
        "### Task: For the images from `val_loader`, get a list of :\n",
        "<p></p>\n",
        "\n",
        "<p></p>\n",
        "\n",
        "**1.** all predictions `all_preds`\n",
        "\n",
        "**2.** the ground truth labels `all_labels`\n",
        "\n",
        "For the predictions, you will have to move the data to the CPU using `predictions.cpu()`\n"
      ]
    },
    {
      "cell_type": "code",
      "metadata": {
        "id": "51c7e79c-d883-4a0d-a928-a8502766e8dc"
      },
      "outputs": [],
      "source": [
        "## You can use this cell to type the answer to the question.\n",
        "all_preds = []\n",
        "all_labels = []\n",
        "\n",
        "model.eval()\n",
        "with torch.no_grad():\n",
        "    for images, labels in val_loader:\n",
        "        images = images.to(device)\n",
        "        outputs = model(images)\n",
        "        preds = torch.argmax(outputs, dim=1)\n",
        "        all_preds.extend(preds.cpu().numpy().flatten())\n",
        "        all_labels.extend(labels.numpy())\n"
      ],
      "execution_count": 34
    },
    {
      "cell_type": "markdown",
      "metadata": {
        "id": "60fbca10-debb-477d-bb03-836ef4eff4cb"
      },
      "source": [
        "### Get the accuracy of the plot\n",
        "\n",
        "**`accuracy`** is the proportion of correct predictions out of the total predictions.\n",
        "\n",
        "You can use `accuracy_score` from `sklearn.metrics` class to calculate the **accuracy_score**\n"
      ]
    },
    {
      "cell_type": "code",
      "metadata": {
        "colab": {
          "base_uri": "https://localhost:8080/"
        },
        "id": "27856a61-ff5d-4475-99b9-665f3b45a552",
        "outputId": "0a0b6a4a-495a-42c8-e369-fb25a2b5cbe3"
      },
      "outputs": [
        {
          "output_type": "stream",
          "name": "stdout",
          "text": [
            "The accuracy of the model is: 0.9858\n"
          ]
        }
      ],
      "source": [
        "accuracy = accuracy_score(all_labels, all_preds)\n",
        "print(f\"The accuracy of the model is: {accuracy:.4f}\")"
      ],
      "execution_count": 35
    },
    {
      "cell_type": "markdown",
      "metadata": {
        "id": "a69e9570-d4de-4e45-b07c-912f04126565"
      },
      "source": [
        "## Save and download the notebook for **final project** submission and evaluation\n",
        "\n",
        "You will need to save and download the completed notebook for final project submission and evaluation.\n",
        "<br>For saving and downloading the completed notebook, please follow the steps given below:</br>\n",
        "\n",
        "<font size = 4>  \n",
        "\n",
        "1) **Complete** all the tasks and questions given in the notebook.\n",
        "\n",
        "<img src=\"https://cf-courses-data.s3.us.cloud-object-storage.appdomain.cloud/nv4jHlPU5_R1q7ZJrZ69eg/DL0321EN-M1L1-Save-IPYNB-Screenshot-1.png\" style=\"width:600px; border:0px solid black;\">\n",
        "\n",
        "2) **Save** the notebook.</style>\n",
        "<img src=\"https://cf-courses-data.s3.us.cloud-object-storage.appdomain.cloud/9-WPWD4mW1d-RV5Il5otTg/DL0321EN-M1L1-Save-IPYNB-Screenshot-2.png\" style=\"width:600px; border:0px solid black;\">\n",
        "\n",
        "3) Identify and right click on the **correct notebook file** in the left pane.</style>\n",
        "<img src=\"https://cf-courses-data.s3.us.cloud-object-storage.appdomain.cloud/RUSRPw7NT6Sof94B7-9naQ/DL0321EN-M1L1-Save-IPYNB-Screenshot-3.png\" style=\"width:600px; border:0px solid black;\">\n",
        "\n",
        "4) Click on **Download**.</style>\n",
        "<img src=\"https://cf-courses-data.s3.us.cloud-object-storage.appdomain.cloud/HHry4GT-vhLEcRi1T_LHGg/DL0321EN-M1L1-Save-IPYNB-Screenshot-4.png\" style=\"width:600px; border:0px solid black;\">\n",
        "\n",
        "5) Download and **Save** the Jupyter notebook file on your computer **for final submission**.</style>\n",
        "<img src=\"https://cf-courses-data.s3.us.cloud-object-storage.appdomain.cloud/hhsJbxc6R-T8_pXQGjMjvg/DL0321EN-M1L1-Save-IPYNB-Screenshot-5.png\" style=\"width:600px; border:0px solid black;\">\n",
        "  </font>\n"
      ]
    },
    {
      "cell_type": "markdown",
      "metadata": {
        "id": "b13dba8f-7560-4195-994b-dfa64e397406"
      },
      "source": [
        "## Conclusion\n",
        "Congratulation! You've successfully built, trained, and evaluated a deep learning model for image classification using PyTorch.\n",
        "\n",
        "In this lab, you coded for:\n",
        "- **Data loading pipeline:** Implementing ImageDataGenerator for efficient on-the-fly image loading, resizing, normalization, and vital data augmentation.\n",
        "- **CNN architecture:** Building a multi-layered CNN incorporating Conv2D layers.\n",
        "- **Model training setup:** Configuring the model’s learning process using the Adam optimizer, BCEWithLogitsLoss, and tracking accuracy and loss metrics.\n",
        "- **Training process:** Executing the training loop by feeding data in batches and monitoring performance over epochs.\n",
        "- **Performance visualization:** Plotting accuracy and loss curves to analyze learning progress and detect overfitting.\n",
        "- **Model evaluation:** Assessing model performance using accuracy_score.\n"
      ]
    },
    {
      "cell_type": "markdown",
      "metadata": {
        "id": "3972d11d-1506-496a-961b-c85cb938f8ae"
      },
      "source": [
        "<h2>Author</h2>\n",
        "\n",
        "[Aman Aggarwal](https://www.linkedin.com/in/aggarwal-aman)\n",
        "\n",
        "Aman Aggarwal is a PhD working at the intersection of neuroscience, AI, and drug discovery. He specializes in quantitative microscopy and image processing.\n",
        "\n"
      ]
    },
    {
      "cell_type": "markdown",
      "metadata": {
        "id": "7c284541-9927-4fd7-9ab1-773a038b5497"
      },
      "source": [
        "<!--\n",
        "\n",
        "## Change Log\n",
        "\n",
        "|  Date (YYYY-MM-DD) |  Version | Changed By  |  Change Description |\n",
        "|---|---|---|---|\n",
        "| 2025-07-04  | 1.0  | Aman  |  Created the lab |\n",
        "\n",
        "-->\n"
      ]
    },
    {
      "cell_type": "markdown",
      "metadata": {
        "id": "4160f741-c390-48cb-8ea7-0eff7c124d90"
      },
      "source": [
        "© Copyright IBM Corporation. All rights reserved.\n"
      ]
    }
  ],
  "metadata": {
    "kernelspec": {
      "display_name": "Python 3",
      "name": "python3"
    },
    "language_info": {
      "codemirror_mode": {
        "name": "ipython",
        "version": 3
      },
      "file_extension": ".py",
      "mimetype": "text/x-python",
      "name": "python",
      "nbconvert_exporter": "python",
      "pygments_lexer": "ipython3",
      "version": "3.12.8"
    },
    "prev_pub_hash": "0438099ac7cecf8186ed65f816edd2dc3553a779fcf8536358210af38290d216",
    "colab": {
      "provenance": [],
      "gpuType": "T4"
    },
    "accelerator": "GPU",
    "widgets": {
      "application/vnd.jupyter.widget-state+json": {
        "7c418688715f4a7f8e5af2b7ffab4eb6": {
          "model_module": "@jupyter-widgets/controls",
          "model_name": "HBoxModel",
          "model_module_version": "1.5.0",
          "state": {
            "_dom_classes": [],
            "_model_module": "@jupyter-widgets/controls",
            "_model_module_version": "1.5.0",
            "_model_name": "HBoxModel",
            "_view_count": null,
            "_view_module": "@jupyter-widgets/controls",
            "_view_module_version": "1.5.0",
            "_view_name": "HBoxView",
            "box_style": "",
            "children": [
              "IPY_MODEL_94fcd90a255145a6b8a687a79767d3ef",
              "IPY_MODEL_8f00b51d24044365957cd4d5b3dc7e91",
              "IPY_MODEL_10f0200e70c64c298fd307efe955cfed"
            ],
            "layout": "IPY_MODEL_d250db8e17cc4bdfb0141012bd56d3af"
          }
        },
        "94fcd90a255145a6b8a687a79767d3ef": {
          "model_module": "@jupyter-widgets/controls",
          "model_name": "HTMLModel",
          "model_module_version": "1.5.0",
          "state": {
            "_dom_classes": [],
            "_model_module": "@jupyter-widgets/controls",
            "_model_module_version": "1.5.0",
            "_model_name": "HTMLModel",
            "_view_count": null,
            "_view_module": "@jupyter-widgets/controls",
            "_view_module_version": "1.5.0",
            "_view_name": "HTMLView",
            "description": "",
            "description_tooltip": null,
            "layout": "IPY_MODEL_2e0816772db44f9d9599ce3e07246fbc",
            "placeholder": "​",
            "style": "IPY_MODEL_772947b4ba0344a48606e73724eb1552",
            "value": "Downloading images-dataSAT.tar: 100%"
          }
        },
        "8f00b51d24044365957cd4d5b3dc7e91": {
          "model_module": "@jupyter-widgets/controls",
          "model_name": "FloatProgressModel",
          "model_module_version": "1.5.0",
          "state": {
            "_dom_classes": [],
            "_model_module": "@jupyter-widgets/controls",
            "_model_module_version": "1.5.0",
            "_model_name": "FloatProgressModel",
            "_view_count": null,
            "_view_module": "@jupyter-widgets/controls",
            "_view_module_version": "1.5.0",
            "_view_name": "ProgressView",
            "bar_style": "success",
            "description": "",
            "description_tooltip": null,
            "layout": "IPY_MODEL_898bd888503047f18065c95242420cc8",
            "max": 20243456,
            "min": 0,
            "orientation": "horizontal",
            "style": "IPY_MODEL_13d6efa29eb8472fb0e2a255e2fd5108",
            "value": 20243456
          }
        },
        "10f0200e70c64c298fd307efe955cfed": {
          "model_module": "@jupyter-widgets/controls",
          "model_name": "HTMLModel",
          "model_module_version": "1.5.0",
          "state": {
            "_dom_classes": [],
            "_model_module": "@jupyter-widgets/controls",
            "_model_module_version": "1.5.0",
            "_model_name": "HTMLModel",
            "_view_count": null,
            "_view_module": "@jupyter-widgets/controls",
            "_view_module_version": "1.5.0",
            "_view_name": "HTMLView",
            "description": "",
            "description_tooltip": null,
            "layout": "IPY_MODEL_7ff52d8521f043319d35fc11155de685",
            "placeholder": "​",
            "style": "IPY_MODEL_1d9a6023a356420a8e7f338646ce55f3",
            "value": " 20243456/20243456 [00:02&lt;00:00, 14271440.14it/s]"
          }
        },
        "d250db8e17cc4bdfb0141012bd56d3af": {
          "model_module": "@jupyter-widgets/base",
          "model_name": "LayoutModel",
          "model_module_version": "1.2.0",
          "state": {
            "_model_module": "@jupyter-widgets/base",
            "_model_module_version": "1.2.0",
            "_model_name": "LayoutModel",
            "_view_count": null,
            "_view_module": "@jupyter-widgets/base",
            "_view_module_version": "1.2.0",
            "_view_name": "LayoutView",
            "align_content": null,
            "align_items": null,
            "align_self": null,
            "border": null,
            "bottom": null,
            "display": null,
            "flex": null,
            "flex_flow": null,
            "grid_area": null,
            "grid_auto_columns": null,
            "grid_auto_flow": null,
            "grid_auto_rows": null,
            "grid_column": null,
            "grid_gap": null,
            "grid_row": null,
            "grid_template_areas": null,
            "grid_template_columns": null,
            "grid_template_rows": null,
            "height": null,
            "justify_content": null,
            "justify_items": null,
            "left": null,
            "margin": null,
            "max_height": null,
            "max_width": null,
            "min_height": null,
            "min_width": null,
            "object_fit": null,
            "object_position": null,
            "order": null,
            "overflow": null,
            "overflow_x": null,
            "overflow_y": null,
            "padding": null,
            "right": null,
            "top": null,
            "visibility": null,
            "width": null
          }
        },
        "2e0816772db44f9d9599ce3e07246fbc": {
          "model_module": "@jupyter-widgets/base",
          "model_name": "LayoutModel",
          "model_module_version": "1.2.0",
          "state": {
            "_model_module": "@jupyter-widgets/base",
            "_model_module_version": "1.2.0",
            "_model_name": "LayoutModel",
            "_view_count": null,
            "_view_module": "@jupyter-widgets/base",
            "_view_module_version": "1.2.0",
            "_view_name": "LayoutView",
            "align_content": null,
            "align_items": null,
            "align_self": null,
            "border": null,
            "bottom": null,
            "display": null,
            "flex": null,
            "flex_flow": null,
            "grid_area": null,
            "grid_auto_columns": null,
            "grid_auto_flow": null,
            "grid_auto_rows": null,
            "grid_column": null,
            "grid_gap": null,
            "grid_row": null,
            "grid_template_areas": null,
            "grid_template_columns": null,
            "grid_template_rows": null,
            "height": null,
            "justify_content": null,
            "justify_items": null,
            "left": null,
            "margin": null,
            "max_height": null,
            "max_width": null,
            "min_height": null,
            "min_width": null,
            "object_fit": null,
            "object_position": null,
            "order": null,
            "overflow": null,
            "overflow_x": null,
            "overflow_y": null,
            "padding": null,
            "right": null,
            "top": null,
            "visibility": null,
            "width": null
          }
        },
        "772947b4ba0344a48606e73724eb1552": {
          "model_module": "@jupyter-widgets/controls",
          "model_name": "DescriptionStyleModel",
          "model_module_version": "1.5.0",
          "state": {
            "_model_module": "@jupyter-widgets/controls",
            "_model_module_version": "1.5.0",
            "_model_name": "DescriptionStyleModel",
            "_view_count": null,
            "_view_module": "@jupyter-widgets/base",
            "_view_module_version": "1.2.0",
            "_view_name": "StyleView",
            "description_width": ""
          }
        },
        "898bd888503047f18065c95242420cc8": {
          "model_module": "@jupyter-widgets/base",
          "model_name": "LayoutModel",
          "model_module_version": "1.2.0",
          "state": {
            "_model_module": "@jupyter-widgets/base",
            "_model_module_version": "1.2.0",
            "_model_name": "LayoutModel",
            "_view_count": null,
            "_view_module": "@jupyter-widgets/base",
            "_view_module_version": "1.2.0",
            "_view_name": "LayoutView",
            "align_content": null,
            "align_items": null,
            "align_self": null,
            "border": null,
            "bottom": null,
            "display": null,
            "flex": null,
            "flex_flow": null,
            "grid_area": null,
            "grid_auto_columns": null,
            "grid_auto_flow": null,
            "grid_auto_rows": null,
            "grid_column": null,
            "grid_gap": null,
            "grid_row": null,
            "grid_template_areas": null,
            "grid_template_columns": null,
            "grid_template_rows": null,
            "height": null,
            "justify_content": null,
            "justify_items": null,
            "left": null,
            "margin": null,
            "max_height": null,
            "max_width": null,
            "min_height": null,
            "min_width": null,
            "object_fit": null,
            "object_position": null,
            "order": null,
            "overflow": null,
            "overflow_x": null,
            "overflow_y": null,
            "padding": null,
            "right": null,
            "top": null,
            "visibility": null,
            "width": null
          }
        },
        "13d6efa29eb8472fb0e2a255e2fd5108": {
          "model_module": "@jupyter-widgets/controls",
          "model_name": "ProgressStyleModel",
          "model_module_version": "1.5.0",
          "state": {
            "_model_module": "@jupyter-widgets/controls",
            "_model_module_version": "1.5.0",
            "_model_name": "ProgressStyleModel",
            "_view_count": null,
            "_view_module": "@jupyter-widgets/base",
            "_view_module_version": "1.2.0",
            "_view_name": "StyleView",
            "bar_color": null,
            "description_width": ""
          }
        },
        "7ff52d8521f043319d35fc11155de685": {
          "model_module": "@jupyter-widgets/base",
          "model_name": "LayoutModel",
          "model_module_version": "1.2.0",
          "state": {
            "_model_module": "@jupyter-widgets/base",
            "_model_module_version": "1.2.0",
            "_model_name": "LayoutModel",
            "_view_count": null,
            "_view_module": "@jupyter-widgets/base",
            "_view_module_version": "1.2.0",
            "_view_name": "LayoutView",
            "align_content": null,
            "align_items": null,
            "align_self": null,
            "border": null,
            "bottom": null,
            "display": null,
            "flex": null,
            "flex_flow": null,
            "grid_area": null,
            "grid_auto_columns": null,
            "grid_auto_flow": null,
            "grid_auto_rows": null,
            "grid_column": null,
            "grid_gap": null,
            "grid_row": null,
            "grid_template_areas": null,
            "grid_template_columns": null,
            "grid_template_rows": null,
            "height": null,
            "justify_content": null,
            "justify_items": null,
            "left": null,
            "margin": null,
            "max_height": null,
            "max_width": null,
            "min_height": null,
            "min_width": null,
            "object_fit": null,
            "object_position": null,
            "order": null,
            "overflow": null,
            "overflow_x": null,
            "overflow_y": null,
            "padding": null,
            "right": null,
            "top": null,
            "visibility": null,
            "width": null
          }
        },
        "1d9a6023a356420a8e7f338646ce55f3": {
          "model_module": "@jupyter-widgets/controls",
          "model_name": "DescriptionStyleModel",
          "model_module_version": "1.5.0",
          "state": {
            "_model_module": "@jupyter-widgets/controls",
            "_model_module_version": "1.5.0",
            "_model_name": "DescriptionStyleModel",
            "_view_count": null,
            "_view_module": "@jupyter-widgets/base",
            "_view_module_version": "1.2.0",
            "_view_name": "StyleView",
            "description_width": ""
          }
        },
        "520e3f0338bf447d8eebde7b235d9a25": {
          "model_module": "@jupyter-widgets/controls",
          "model_name": "HBoxModel",
          "model_module_version": "1.5.0",
          "state": {
            "_dom_classes": [],
            "_model_module": "@jupyter-widgets/controls",
            "_model_module_version": "1.5.0",
            "_model_name": "HBoxModel",
            "_view_count": null,
            "_view_module": "@jupyter-widgets/controls",
            "_view_module_version": "1.5.0",
            "_view_name": "HBoxView",
            "box_style": "",
            "children": [
              "IPY_MODEL_d13b2d19a5b549d39e1862b60f1007f3",
              "IPY_MODEL_5caac9ccb8374b3d929d629312b6fffb",
              "IPY_MODEL_c02d435cd570490a82d83b8d4c63ea47"
            ],
            "layout": "IPY_MODEL_fc0633f43a444aeb8048beff843a2f05"
          }
        },
        "d13b2d19a5b549d39e1862b60f1007f3": {
          "model_module": "@jupyter-widgets/controls",
          "model_name": "HTMLModel",
          "model_module_version": "1.5.0",
          "state": {
            "_dom_classes": [],
            "_model_module": "@jupyter-widgets/controls",
            "_model_module_version": "1.5.0",
            "_model_name": "HTMLModel",
            "_view_count": null,
            "_view_module": "@jupyter-widgets/controls",
            "_view_module_version": "1.5.0",
            "_view_name": "HTMLView",
            "description": "",
            "description_tooltip": null,
            "layout": "IPY_MODEL_8799ef8f17e642a7a76df3afb95187d4",
            "placeholder": "​",
            "style": "IPY_MODEL_46238b71f6ba497896adc7e84068739f",
            "value": "Extracting images-dataSAT.tar: 100%"
          }
        },
        "5caac9ccb8374b3d929d629312b6fffb": {
          "model_module": "@jupyter-widgets/controls",
          "model_name": "FloatProgressModel",
          "model_module_version": "1.5.0",
          "state": {
            "_dom_classes": [],
            "_model_module": "@jupyter-widgets/controls",
            "_model_module_version": "1.5.0",
            "_model_name": "FloatProgressModel",
            "_view_count": null,
            "_view_module": "@jupyter-widgets/controls",
            "_view_module_version": "1.5.0",
            "_view_name": "ProgressView",
            "bar_style": "success",
            "description": "",
            "description_tooltip": null,
            "layout": "IPY_MODEL_7518769574b3476a8a3c9e6ab267870c",
            "max": 6003,
            "min": 0,
            "orientation": "horizontal",
            "style": "IPY_MODEL_1803268384d3469490ca6df559173f97",
            "value": 6003
          }
        },
        "c02d435cd570490a82d83b8d4c63ea47": {
          "model_module": "@jupyter-widgets/controls",
          "model_name": "HTMLModel",
          "model_module_version": "1.5.0",
          "state": {
            "_dom_classes": [],
            "_model_module": "@jupyter-widgets/controls",
            "_model_module_version": "1.5.0",
            "_model_name": "HTMLModel",
            "_view_count": null,
            "_view_module": "@jupyter-widgets/controls",
            "_view_module_version": "1.5.0",
            "_view_name": "HTMLView",
            "description": "",
            "description_tooltip": null,
            "layout": "IPY_MODEL_bedc8cf8f6bb4bb790492313dd39c756",
            "placeholder": "​",
            "style": "IPY_MODEL_3e7cfda200f54c4bb96610833699c302",
            "value": " 6003/6003 [00:00&lt;00:00, 7447.72it/s]"
          }
        },
        "fc0633f43a444aeb8048beff843a2f05": {
          "model_module": "@jupyter-widgets/base",
          "model_name": "LayoutModel",
          "model_module_version": "1.2.0",
          "state": {
            "_model_module": "@jupyter-widgets/base",
            "_model_module_version": "1.2.0",
            "_model_name": "LayoutModel",
            "_view_count": null,
            "_view_module": "@jupyter-widgets/base",
            "_view_module_version": "1.2.0",
            "_view_name": "LayoutView",
            "align_content": null,
            "align_items": null,
            "align_self": null,
            "border": null,
            "bottom": null,
            "display": null,
            "flex": null,
            "flex_flow": null,
            "grid_area": null,
            "grid_auto_columns": null,
            "grid_auto_flow": null,
            "grid_auto_rows": null,
            "grid_column": null,
            "grid_gap": null,
            "grid_row": null,
            "grid_template_areas": null,
            "grid_template_columns": null,
            "grid_template_rows": null,
            "height": null,
            "justify_content": null,
            "justify_items": null,
            "left": null,
            "margin": null,
            "max_height": null,
            "max_width": null,
            "min_height": null,
            "min_width": null,
            "object_fit": null,
            "object_position": null,
            "order": null,
            "overflow": null,
            "overflow_x": null,
            "overflow_y": null,
            "padding": null,
            "right": null,
            "top": null,
            "visibility": null,
            "width": null
          }
        },
        "8799ef8f17e642a7a76df3afb95187d4": {
          "model_module": "@jupyter-widgets/base",
          "model_name": "LayoutModel",
          "model_module_version": "1.2.0",
          "state": {
            "_model_module": "@jupyter-widgets/base",
            "_model_module_version": "1.2.0",
            "_model_name": "LayoutModel",
            "_view_count": null,
            "_view_module": "@jupyter-widgets/base",
            "_view_module_version": "1.2.0",
            "_view_name": "LayoutView",
            "align_content": null,
            "align_items": null,
            "align_self": null,
            "border": null,
            "bottom": null,
            "display": null,
            "flex": null,
            "flex_flow": null,
            "grid_area": null,
            "grid_auto_columns": null,
            "grid_auto_flow": null,
            "grid_auto_rows": null,
            "grid_column": null,
            "grid_gap": null,
            "grid_row": null,
            "grid_template_areas": null,
            "grid_template_columns": null,
            "grid_template_rows": null,
            "height": null,
            "justify_content": null,
            "justify_items": null,
            "left": null,
            "margin": null,
            "max_height": null,
            "max_width": null,
            "min_height": null,
            "min_width": null,
            "object_fit": null,
            "object_position": null,
            "order": null,
            "overflow": null,
            "overflow_x": null,
            "overflow_y": null,
            "padding": null,
            "right": null,
            "top": null,
            "visibility": null,
            "width": null
          }
        },
        "46238b71f6ba497896adc7e84068739f": {
          "model_module": "@jupyter-widgets/controls",
          "model_name": "DescriptionStyleModel",
          "model_module_version": "1.5.0",
          "state": {
            "_model_module": "@jupyter-widgets/controls",
            "_model_module_version": "1.5.0",
            "_model_name": "DescriptionStyleModel",
            "_view_count": null,
            "_view_module": "@jupyter-widgets/base",
            "_view_module_version": "1.2.0",
            "_view_name": "StyleView",
            "description_width": ""
          }
        },
        "7518769574b3476a8a3c9e6ab267870c": {
          "model_module": "@jupyter-widgets/base",
          "model_name": "LayoutModel",
          "model_module_version": "1.2.0",
          "state": {
            "_model_module": "@jupyter-widgets/base",
            "_model_module_version": "1.2.0",
            "_model_name": "LayoutModel",
            "_view_count": null,
            "_view_module": "@jupyter-widgets/base",
            "_view_module_version": "1.2.0",
            "_view_name": "LayoutView",
            "align_content": null,
            "align_items": null,
            "align_self": null,
            "border": null,
            "bottom": null,
            "display": null,
            "flex": null,
            "flex_flow": null,
            "grid_area": null,
            "grid_auto_columns": null,
            "grid_auto_flow": null,
            "grid_auto_rows": null,
            "grid_column": null,
            "grid_gap": null,
            "grid_row": null,
            "grid_template_areas": null,
            "grid_template_columns": null,
            "grid_template_rows": null,
            "height": null,
            "justify_content": null,
            "justify_items": null,
            "left": null,
            "margin": null,
            "max_height": null,
            "max_width": null,
            "min_height": null,
            "min_width": null,
            "object_fit": null,
            "object_position": null,
            "order": null,
            "overflow": null,
            "overflow_x": null,
            "overflow_y": null,
            "padding": null,
            "right": null,
            "top": null,
            "visibility": null,
            "width": null
          }
        },
        "1803268384d3469490ca6df559173f97": {
          "model_module": "@jupyter-widgets/controls",
          "model_name": "ProgressStyleModel",
          "model_module_version": "1.5.0",
          "state": {
            "_model_module": "@jupyter-widgets/controls",
            "_model_module_version": "1.5.0",
            "_model_name": "ProgressStyleModel",
            "_view_count": null,
            "_view_module": "@jupyter-widgets/base",
            "_view_module_version": "1.2.0",
            "_view_name": "StyleView",
            "bar_color": null,
            "description_width": ""
          }
        },
        "bedc8cf8f6bb4bb790492313dd39c756": {
          "model_module": "@jupyter-widgets/base",
          "model_name": "LayoutModel",
          "model_module_version": "1.2.0",
          "state": {
            "_model_module": "@jupyter-widgets/base",
            "_model_module_version": "1.2.0",
            "_model_name": "LayoutModel",
            "_view_count": null,
            "_view_module": "@jupyter-widgets/base",
            "_view_module_version": "1.2.0",
            "_view_name": "LayoutView",
            "align_content": null,
            "align_items": null,
            "align_self": null,
            "border": null,
            "bottom": null,
            "display": null,
            "flex": null,
            "flex_flow": null,
            "grid_area": null,
            "grid_auto_columns": null,
            "grid_auto_flow": null,
            "grid_auto_rows": null,
            "grid_column": null,
            "grid_gap": null,
            "grid_row": null,
            "grid_template_areas": null,
            "grid_template_columns": null,
            "grid_template_rows": null,
            "height": null,
            "justify_content": null,
            "justify_items": null,
            "left": null,
            "margin": null,
            "max_height": null,
            "max_width": null,
            "min_height": null,
            "min_width": null,
            "object_fit": null,
            "object_position": null,
            "order": null,
            "overflow": null,
            "overflow_x": null,
            "overflow_y": null,
            "padding": null,
            "right": null,
            "top": null,
            "visibility": null,
            "width": null
          }
        },
        "3e7cfda200f54c4bb96610833699c302": {
          "model_module": "@jupyter-widgets/controls",
          "model_name": "DescriptionStyleModel",
          "model_module_version": "1.5.0",
          "state": {
            "_model_module": "@jupyter-widgets/controls",
            "_model_module_version": "1.5.0",
            "_model_name": "DescriptionStyleModel",
            "_view_count": null,
            "_view_module": "@jupyter-widgets/base",
            "_view_module_version": "1.2.0",
            "_view_name": "StyleView",
            "description_width": ""
          }
        }
      }
    }
  },
  "nbformat": 4,
  "nbformat_minor": 0
}