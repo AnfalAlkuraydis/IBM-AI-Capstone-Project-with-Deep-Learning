{
  "cells": [
    {
      "cell_type": "markdown",
      "id": "6498861f-52ef-4ba3-bbbe-9259792a610f",
      "metadata": {
        "id": "6498861f-52ef-4ba3-bbbe-9259792a610f"
      },
      "source": [
        "<div style=\"text-align: center;\">\n",
        "  <a href=\"https://cognitiveclass.ai/?utm_medium=Exinfluencer&utm_source=Exinfluencer&utm_content=000026UJ&utm_term=10006555&utm_id=NA-SkillsNetwork-Channel-SkillsNetworkCoursesIBMDeveloperSkillsNetworkDL0321ENSkillsNetwork951-2022-01-01\">\n",
        "    <img src=\"https://cf-courses-data.s3.us.cloud-object-storage.appdomain.cloud/IBMDeveloperSkillsNetwork-DL0321EN-SkillsNetwork/image/IDSN-logo.png\" width=\"400\">\n",
        "  </a>\n",
        "</div>\n"
      ]
    },
    {
      "cell_type": "markdown",
      "id": "ba100652-ab0d-44a0-a145-00b5a2b06ff4",
      "metadata": {
        "id": "ba100652-ab0d-44a0-a145-00b5a2b06ff4"
      },
      "source": [
        "<h1 align=left><font size = 6>Lab: Vision Transformers Using PyTorch </font></h1>\n"
      ]
    },
    {
      "cell_type": "markdown",
      "id": "5b5c1104-b4b0-427a-befb-1b205b14486c",
      "metadata": {
        "id": "5b5c1104-b4b0-427a-befb-1b205b14486c"
      },
      "source": [
        "<h5>Estimated time: 90 minutes</h5>\n"
      ]
    },
    {
      "cell_type": "markdown",
      "id": "915562dc-e4a2-4da0-a4b5-3d4a605d2987",
      "metadata": {
        "id": "915562dc-e4a2-4da0-a4b5-3d4a605d2987"
      },
      "source": [
        "## Introduction\n",
        "\n",
        "In this notebook, you will learn to build a PyTorch-based hybrid Convolutional Neural Network (CNN) and Vision Transformer (ViT) for image classification.\n",
        "You'll start by using CNN layers to extract detailed features, such as edges and textures, from images. Then, you'll see how those features are passed to a Vision Transformer, which looks at the global correlations in the entire image by looking at all locations at once. Then, you will train a hybrid CNN-ViT model, and by the end of this lab, you'll also know how to monitor its performance. This approach gives you practical experience with state-of-the-art techniques in computer vision!\n"
      ]
    },
    {
      "cell_type": "markdown",
      "id": "7955effd",
      "metadata": {
        "id": "7955effd"
      },
      "source": [
        "<h2>Objective</h2>\n",
        "\n",
        "This notebook demonstrates how to use a custom trained PyTorch CNN model to extract feature maps and use them with a Vision Transformer (ViT) architecture to create a CNN-ViT hybrid architecture.\n",
        "\n",
        "After completing this lab, you will be able to:\n",
        "<ul>\n",
        "    \n",
        "1. Load the custom trained PyTorch CNN model\n",
        "2. Extract feature maps from the PyTorch model\n",
        "3. Prepare tokens for the Vision Transformer\n",
        "4. Build the Vision Transformer encoder\n",
        "5. Train and evaluate the hybrid model\n",
        "\n",
        "</ul>\n"
      ]
    },
    {
      "cell_type": "markdown",
      "id": "toc",
      "metadata": {
        "id": "toc"
      },
      "source": [
        "# Table of Contents\n",
        "- [Model paths and download](#Model-paths-and-download)\n",
        "- [Defining pre-trained CNN backbone](#Defining-pre-trained-CNN-backbone)\n",
        "- [Vision Transformers](#Vision-Transformers)\n",
        "    - [Patch embedding](#Patch-embedding)\n",
        "    - [Multi-head self-attention (MHSA) module](#Multi-head-self-attention-(MHSA)-module)\n",
        "    - [Transformer block](#Transformer-block)\n",
        "    - [Vision Transformer (ViT) model](#Vision-Transformer-(ViT)-model)\n",
        "- [CNN-ViT hybrid model](#CNN-ViT-hybrid-model)\n",
        "- [Model training](#Model-training)\n",
        "- [Model evaluation](#Model-evaluation)\n",
        "- [Data preparation and loading](#Data-preparation-and-loading)\n",
        "- [Model initialization and training loop](#Model-initialization-and-training-loop)\n",
        "- [Plotting training and validation accuracy and loss](#Plotting-training-and-validation-accuracy-and-loss)\n"
      ]
    },
    {
      "cell_type": "markdown",
      "id": "4f18f62d",
      "metadata": {
        "id": "4f18f62d"
      },
      "source": [
        "## Data download and extraction\n",
        "Let's begin by downloading the dataset for evaluation of the models.\n",
        "Here, you declare:\n",
        "1. The dataset URL from where the dataset would be downloaded\n",
        "2. The dataset downloading primary function, based on the `skillsnetwork` library\n",
        "3. The dataset fallback downloading function, based on regular `http` downloading functions\n"
      ]
    },
    {
      "cell_type": "code",
      "id": "b77975cb-407e-4066-b3c7-4cc5e59ceb77",
      "metadata": {
        "colab": {
          "base_uri": "https://localhost:8080/",
          "height": 116,
          "referenced_widgets": [
            "01407fe442c14d47886b156cd95b3565",
            "319bf10cad4c4c3880ecfca84f2f62ed",
            "2417ffec23664667a9cb7e445f112d78",
            "a78e36f3406348c59cb55aca2919b48c",
            "23f985a1136b443b911431cb2afa1184",
            "9693b4fdbfaf40e89c084c46814a6a1b",
            "95bab2d0c44b49dcb3300ec95f389f05",
            "5d7a94c81bbe45cea1e570d97cdea5ae",
            "d1c3f9dc7b1d4602bef4e0176b80e3ee",
            "a18df24e81cf42c0919e3075884a8256",
            "97975ab6afc24b1c803b36a7b8d09032",
            "1a0530018dff478ea1f9519e3e40d611",
            "20b05c6f2a534015b9c5054ee5ed4fa6",
            "51cb9b8fef00498586479216b991ac6d",
            "e523ef682bb7463fae838647df49def4",
            "e8d1bbf8df5b432594df54b85238038c",
            "8d525fec8b9e4d0690fbe3d28161e5a5",
            "6d4cfe6be28942d3bbde0990d5c51b77",
            "06cb3e35d4d744a28a24c16890a4d2d3",
            "7647540a79004b14965713b5901f2508",
            "0a089633c8d846d9b0fb915e6f277745",
            "4542d49192ef47b7bf2f27c46e9b0169"
          ]
        },
        "id": "b77975cb-407e-4066-b3c7-4cc5e59ceb77",
        "outputId": "feddf32d-629c-4f59-b486-572b26a965bc"
      },
      "outputs": [
        {
          "output_type": "stream",
          "name": "stdout",
          "text": [
            "Write permissions available for downloading and extracting the dataset tar file\n"
          ]
        },
        {
          "output_type": "display_data",
          "data": {
            "text/plain": [
              "Downloading images-dataSAT.tar:   0%|          | 0/20243456 [00:00<?, ?it/s]"
            ],
            "application/vnd.jupyter.widget-view+json": {
              "version_major": 2,
              "version_minor": 0,
              "model_id": "01407fe442c14d47886b156cd95b3565"
            }
          },
          "metadata": {}
        },
        {
          "output_type": "display_data",
          "data": {
            "text/plain": [
              "  0%|          | 0/6003 [00:00<?, ?it/s]"
            ],
            "application/vnd.jupyter.widget-view+json": {
              "version_major": 2,
              "version_minor": 0,
              "model_id": "1a0530018dff478ea1f9519e3e40d611"
            }
          },
          "metadata": {}
        },
        {
          "output_type": "stream",
          "name": "stdout",
          "text": [
            "Saved to '.'\n"
          ]
        }
      ],
      "source": [
        "import os\n",
        "import skillsnetwork\n",
        "\n",
        "data_dir = \".\"\n",
        "dataset_url = \"https://cf-courses-data.s3.us.cloud-object-storage.appdomain.cloud/4Z1fwRR295-1O3PMQBH6Dg/images-dataSAT.tar\"\n",
        "\n",
        "\n",
        "def check_skillnetwork_extraction(extract_dir):\n",
        "    \"\"\"Check if the environment allows symlink creation for download/extraction.\"\"\"\n",
        "    symlink_test = os.path.join(extract_dir, \"symlink_test\")\n",
        "    if not os.path.exists(symlink_test):\n",
        "        os.symlink(os.path.join(os.sep, \"tmp\"), symlink_test)\n",
        "        print(\"Write permissions available for downloading and extracting the dataset tar file\")\n",
        "        os.unlink(symlink_test)\n",
        "\n",
        "async def download_tar_dataset(url, tar_path, extract_dir):\n",
        "    \"\"\"Download and extract dataset tar file asynchronously.\"\"\"\n",
        "    if not os.path.exists(tar_path):\n",
        "        try:\n",
        "            print(f\"Downloading from {url}...\")\n",
        "            import httpx\n",
        "            async with httpx.AsyncClient() as client:\n",
        "                response = await client.get(url, follow_redirects=True)\n",
        "                response.raise_for_status()\n",
        "                with open(tar_path, \"wb\") as f:\n",
        "                    f.write(response.content)\n",
        "            print(f\"Successfully downloaded '{tar_path}'.\")\n",
        "        except Exception as e:\n",
        "            print(f\"Download error: {e}\")\n",
        "    else:\n",
        "        print(f\"Dataset tar file already exists at: {tar_path}\")\n",
        "    import tarfile\n",
        "    with tarfile.open(tar_path, 'r:*') as tar_ref:\n",
        "        tar_ref.extractall(path=extract_dir)\n",
        "        print(f\"Successfully extracted to '{extract_dir}'.\")\n",
        "\n",
        "try:\n",
        "    check_skillnetwork_extraction(data_dir)\n",
        "    await skillsnetwork.prepare(url=dataset_url, path=data_dir, overwrite=True)\n",
        "except Exception as e:\n",
        "    print(e)\n",
        "    print(\"Primary download/extraction method failed.\")\n",
        "    print(\"Falling back to manual download and extraction...\")\n",
        "    import tarfile\n",
        "    import httpx\n",
        "    from pathlib import Path\n",
        "    file_name = Path(dataset_url).name\n",
        "    tar_path = os.path.join(data_dir, file_name)\n",
        "    await download_tar_dataset(dataset_url, tar_path, data_dir)"
      ],
      "execution_count": 5
    },
    {
      "cell_type": "markdown",
      "id": "87c1f18c",
      "metadata": {
        "id": "87c1f18c"
      },
      "source": [
        "## Package installation\n",
        "\n",
        "Install required basic Python packages\n"
      ]
    },
    {
      "cell_type": "code",
      "id": "b79b410f-de2d-4603-b062-f770fc469d00",
      "metadata": {
        "colab": {
          "base_uri": "https://localhost:8080/"
        },
        "id": "b79b410f-de2d-4603-b062-f770fc469d00",
        "outputId": "a7ab79ba-7c6e-4b02-e3e8-611df1b1bc8a"
      },
      "outputs": [
        {
          "output_type": "stream",
          "name": "stdout",
          "text": [
            "CPU times: user 6.66 s, sys: 940 ms, total: 7.6 s\n",
            "Wall time: 25.1 s\n"
          ]
        }
      ],
      "source": [
        "%%time\n",
        "%%capture captured_output\n",
        "%pip install numpy==1.26\n",
        "%pip install matplotlib==3.9.2\n",
        "%pip install skillsnetwork"
      ],
      "execution_count": 1
    },
    {
      "cell_type": "markdown",
      "id": "1a28739c-8b88-4fc1-901b-7a3c24f8dd4f",
      "metadata": {
        "id": "1a28739c-8b88-4fc1-901b-7a3c24f8dd4f"
      },
      "source": [
        "### Install PyTorch library\n"
      ]
    },
    {
      "cell_type": "code",
      "id": "97dedae5-6868-4f96-8c52-63804330084d",
      "metadata": {
        "colab": {
          "base_uri": "https://localhost:8080/"
        },
        "id": "97dedae5-6868-4f96-8c52-63804330084d",
        "outputId": "40e0e81f-523a-4aea-b06c-d6d67aae01e2"
      },
      "outputs": [
        {
          "output_type": "stream",
          "name": "stdout",
          "text": [
            "Requirement already satisfied: torch==2.7.0 in /usr/local/lib/python3.12/dist-packages (2.7.0)\n",
            "Requirement already satisfied: torchvision==0.22 in /usr/local/lib/python3.12/dist-packages (0.22.0)\n",
            "Requirement already satisfied: filelock in /usr/local/lib/python3.12/dist-packages (from torch==2.7.0) (3.19.1)\n",
            "Requirement already satisfied: typing-extensions>=4.10.0 in /usr/local/lib/python3.12/dist-packages (from torch==2.7.0) (4.15.0)\n",
            "Requirement already satisfied: setuptools in /usr/local/lib/python3.12/dist-packages (from torch==2.7.0) (75.2.0)\n",
            "Requirement already satisfied: sympy>=1.13.3 in /usr/local/lib/python3.12/dist-packages (from torch==2.7.0) (1.13.3)\n",
            "Requirement already satisfied: networkx in /usr/local/lib/python3.12/dist-packages (from torch==2.7.0) (3.5)\n",
            "Requirement already satisfied: jinja2 in /usr/local/lib/python3.12/dist-packages (from torch==2.7.0) (3.1.6)\n",
            "Requirement already satisfied: fsspec in /usr/local/lib/python3.12/dist-packages (from torch==2.7.0) (2025.3.0)\n",
            "Requirement already satisfied: nvidia-cuda-nvrtc-cu12==12.6.77 in /usr/local/lib/python3.12/dist-packages (from torch==2.7.0) (12.6.77)\n",
            "Requirement already satisfied: nvidia-cuda-runtime-cu12==12.6.77 in /usr/local/lib/python3.12/dist-packages (from torch==2.7.0) (12.6.77)\n",
            "Requirement already satisfied: nvidia-cuda-cupti-cu12==12.6.80 in /usr/local/lib/python3.12/dist-packages (from torch==2.7.0) (12.6.80)\n",
            "Requirement already satisfied: nvidia-cudnn-cu12==9.5.1.17 in /usr/local/lib/python3.12/dist-packages (from torch==2.7.0) (9.5.1.17)\n",
            "Requirement already satisfied: nvidia-cublas-cu12==12.6.4.1 in /usr/local/lib/python3.12/dist-packages (from torch==2.7.0) (12.6.4.1)\n",
            "Requirement already satisfied: nvidia-cufft-cu12==11.3.0.4 in /usr/local/lib/python3.12/dist-packages (from torch==2.7.0) (11.3.0.4)\n",
            "Requirement already satisfied: nvidia-curand-cu12==10.3.7.77 in /usr/local/lib/python3.12/dist-packages (from torch==2.7.0) (10.3.7.77)\n",
            "Requirement already satisfied: nvidia-cusolver-cu12==11.7.1.2 in /usr/local/lib/python3.12/dist-packages (from torch==2.7.0) (11.7.1.2)\n",
            "Requirement already satisfied: nvidia-cusparse-cu12==12.5.4.2 in /usr/local/lib/python3.12/dist-packages (from torch==2.7.0) (12.5.4.2)\n",
            "Requirement already satisfied: nvidia-cusparselt-cu12==0.6.3 in /usr/local/lib/python3.12/dist-packages (from torch==2.7.0) (0.6.3)\n",
            "Requirement already satisfied: nvidia-nccl-cu12==2.26.2 in /usr/local/lib/python3.12/dist-packages (from torch==2.7.0) (2.26.2)\n",
            "Requirement already satisfied: nvidia-nvtx-cu12==12.6.77 in /usr/local/lib/python3.12/dist-packages (from torch==2.7.0) (12.6.77)\n",
            "Requirement already satisfied: nvidia-nvjitlink-cu12==12.6.85 in /usr/local/lib/python3.12/dist-packages (from torch==2.7.0) (12.6.85)\n",
            "Requirement already satisfied: nvidia-cufile-cu12==1.11.1.6 in /usr/local/lib/python3.12/dist-packages (from torch==2.7.0) (1.11.1.6)\n",
            "Requirement already satisfied: triton==3.3.0 in /usr/local/lib/python3.12/dist-packages (from torch==2.7.0) (3.3.0)\n",
            "Requirement already satisfied: numpy in /usr/local/lib/python3.12/dist-packages (from torchvision==0.22) (1.26.0)\n",
            "Requirement already satisfied: pillow!=8.3.*,>=5.3.0 in /usr/local/lib/python3.12/dist-packages (from torchvision==0.22) (11.3.0)\n",
            "Requirement already satisfied: mpmath<1.4,>=1.1.0 in /usr/local/lib/python3.12/dist-packages (from sympy>=1.13.3->torch==2.7.0) (1.3.0)\n",
            "Requirement already satisfied: MarkupSafe>=2.0 in /usr/local/lib/python3.12/dist-packages (from jinja2->torch==2.7.0) (3.0.2)\n",
            "CPU times: user 3.07 s, sys: 381 ms, total: 3.45 s\n",
            "Wall time: 11.3 s\n"
          ]
        }
      ],
      "source": [
        "%%time\n",
        "%pip install torch==2.7.0 torchvision==0.22"
      ],
      "execution_count": 2
    },
    {
      "cell_type": "markdown",
      "id": "a348399a-ee14-4050-a752-96f367f21b12",
      "metadata": {
        "id": "a348399a-ee14-4050-a752-96f367f21b12"
      },
      "source": [
        "### Install PyTorch helper libraries\n"
      ]
    },
    {
      "cell_type": "markdown",
      "id": "134c4ade",
      "metadata": {
        "id": "134c4ade"
      },
      "source": [
        "## Library imports and setup\n",
        "\n",
        "Import essential libraries for data manipulation, visualization, and suppresses warnings for cleaner notebook output.\n"
      ]
    },
    {
      "cell_type": "code",
      "id": "cd0fcdf5",
      "metadata": {
        "colab": {
          "base_uri": "https://localhost:8080/"
        },
        "id": "cd0fcdf5",
        "outputId": "dd6a1360-76ce-4399-c1df-0734707af61b"
      },
      "outputs": [
        {
          "output_type": "stream",
          "name": "stdout",
          "text": [
            "CPU times: user 109 ms, sys: 13 ms, total: 122 ms\n",
            "Wall time: 122 ms\n"
          ]
        }
      ],
      "source": [
        "%%time\n",
        "import warnings\n",
        "warnings.filterwarnings('ignore')\n",
        "\n",
        "import os\n",
        "import time\n",
        "import httpx\n",
        "import random\n",
        "import numpy as np\n",
        "from tqdm import tqdm\n",
        "import matplotlib.pyplot as plt\n",
        "from datetime import datetime\n",
        "\n",
        "def present_time():\n",
        "        return datetime.now().strftime('%Y%m%d_%H%M%S')\n"
      ],
      "execution_count": 3
    },
    {
      "cell_type": "markdown",
      "id": "d46c7a98",
      "metadata": {
        "id": "d46c7a98"
      },
      "source": [
        "### PyTorch library imports\n",
        "\n",
        "Import core PyTorch modules for model building, optimization, data loading, and functional utilities.\n"
      ]
    },
    {
      "cell_type": "code",
      "id": "92b7cb66",
      "metadata": {
        "colab": {
          "base_uri": "https://localhost:8080/"
        },
        "id": "92b7cb66",
        "outputId": "61cf3ab9-092b-4473-e042-528c96bbaa77"
      },
      "outputs": [
        {
          "output_type": "stream",
          "name": "stdout",
          "text": [
            "Imported PyTorch libraries\n",
            "CPU times: user 4.55 s, sys: 971 ms, total: 5.52 s\n",
            "Wall time: 6.36 s\n"
          ]
        }
      ],
      "source": [
        "%%time\n",
        "import torch\n",
        "import torch.nn as nn\n",
        "import torch.optim as optim\n",
        "from torchvision import transforms, datasets\n",
        "from torch.utils.data import DataLoader, random_split\n",
        "import torch.nn.functional as F\n",
        "print(\"Imported PyTorch libraries\")"
      ],
      "execution_count": 4
    },
    {
      "cell_type": "markdown",
      "id": "4bc53fe7",
      "metadata": {
        "id": "4bc53fe7"
      },
      "source": [
        "## Model download helper\n",
        "\n",
        "Now, define an asynchronous function to download model files from given URLs, if they are not already present locally.\n",
        "You use `httpx` for asynchronous HTTP requests with error handling.\n"
      ]
    },
    {
      "cell_type": "code",
      "id": "e211b54b",
      "metadata": {
        "id": "e211b54b"
      },
      "outputs": [],
      "source": [
        "async def download_model(url, model_path):\n",
        "    if not os.path.exists(model_path):\n",
        "        try:\n",
        "            print(f\"Downloading from {url}...\")\n",
        "            import httpx\n",
        "            async with httpx.AsyncClient() as client:\n",
        "                response = await client.get(url, follow_redirects=True)\n",
        "                response.raise_for_status()\n",
        "                with open(model_path, \"wb\") as f:\n",
        "                    f.write(response.content)\n",
        "            print(f\"Successfully downloaded '{model_path}'.\")\n",
        "        except Exception as e:\n",
        "            print(f\"Download error: {e}\")\n",
        "    else:\n",
        "        print(f\"Model file already downloaded at: {model_path}\")"
      ],
      "execution_count": 6
    },
    {
      "cell_type": "markdown",
      "id": "c644faa0-0939-4668-a380-4c1ecce6e0e8",
      "metadata": {
        "id": "c644faa0-0939-4668-a380-4c1ecce6e0e8"
      },
      "source": [
        "## Lab layout\n",
        "- First, you download the pre-trained PyTorch based CNN model.\n",
        "- Then, you define the CNN backbone. This is same as defined in the training of the pre-trained model.\n",
        "- The CNN backbone reduces the input image’s spatial dimensions and expands its feature channels. You then convert this feature map into a sequence of tokens for the Vision Transformer (ViT).\n",
        "- These tokens are passed into a ViT module. The ViT is applied after the CNN so it can model global relationships and context between different regions in the original image, something CNNs alone cannot do as effectively.\n",
        "- You use a sequential hybrid architecture: the CNN performs local feature extraction, and the ViT, using those extracted features, performs global reasoning. This leverages the strengths of both models for improved accuracy and generalization.\n",
        "- Feature reshaping is used: the CNN feature map is flattened and fed into the transformer, and positional encoding might be added to preserve spatial information.\n",
        "- You train this hybrid model end-to-end, meaning both the CNN and ViT parameters are updated together to optimize classification performance.\n",
        "- Throughout the process, you are able to monitor both local (CNN) and global (ViT) attention across the image, resulting in a model that is more robust and effective than using either approach alone\n"
      ]
    },
    {
      "cell_type": "markdown",
      "id": "c2e94bd9",
      "metadata": {
        "id": "c2e94bd9"
      },
      "source": [
        "## Model paths and download\n",
        "\n",
        "In the cell below, you define the file paths and URLs for the Keras and PyTorch models and download them using the `download_model` function defined above.\n"
      ]
    },
    {
      "cell_type": "code",
      "id": "c8d1c145-57c5-4031-ac2b-d207dd229ffe",
      "metadata": {
        "id": "c8d1c145-57c5-4031-ac2b-d207dd229ffe"
      },
      "outputs": [],
      "source": [
        "data_dir = \".\"\n",
        "\n",
        "pytorch_state_dict_url = \"https://cf-courses-data.s3.us.cloud-object-storage.appdomain.cloud/8J2QEyQqD8x9zjrlnv6N7g/ai-capstone-pytorch-best-model-20250713.pth\"\n",
        "pytorch_state_dict_name = \"ai_capstone_pytorch_best_model_state_dict_downloaded.pth\"\n",
        "pytorch_state_dict_path = os.path.join(data_dir, pytorch_state_dict_name)"
      ],
      "execution_count": 7
    },
    {
      "cell_type": "code",
      "id": "c5edf8ee-dab8-4a70-afd1-0a6cb65e7992",
      "metadata": {
        "colab": {
          "base_uri": "https://localhost:8080/"
        },
        "id": "c5edf8ee-dab8-4a70-afd1-0a6cb65e7992",
        "outputId": "eb13210d-0e21-461a-b294-d2ca930710c4"
      },
      "outputs": [
        {
          "output_type": "stream",
          "name": "stdout",
          "text": [
            "Downloading from https://cf-courses-data.s3.us.cloud-object-storage.appdomain.cloud/8J2QEyQqD8x9zjrlnv6N7g/ai-capstone-pytorch-best-model-20250713.pth...\n",
            "Successfully downloaded './ai_capstone_pytorch_best_model_state_dict_downloaded.pth'.\n"
          ]
        }
      ],
      "source": [
        "await download_model(pytorch_state_dict_url, pytorch_state_dict_path)"
      ],
      "execution_count": 8
    },
    {
      "cell_type": "markdown",
      "id": "d484b21c-163f-444a-8acb-134a04347a32",
      "metadata": {
        "id": "d484b21c-163f-444a-8acb-134a04347a32"
      },
      "source": [
        "## Ensuring repeatability in PyTorch\n",
        "\n",
        "To achieve reproducible results when you train a CNN in PyTorch, you must seed every random-number generator and configures cuDNN for deterministic kernels.\n",
        "* **Python & NumPy** – Many data-pipeline utilities (shuffling lists, image augmentations) rely on these random-number generators. Seeding them first removes one entire layer of randomness.\n",
        "* **PyTorch CPU / GPU** – `torch.manual_seed` covers every op executed on the CPU, while `torch.cuda.manual_seed_all` applies the same seed to each GPU stream so that multi-GPU jobs stay in sync.\n",
        "* **cuDNN flags** – By default cuDNN picks the fastest convolution algorithm, which can vary run-to-run. Setting `deterministic=True` forces repeatable kernels and turning `benchmark` *off* prevents the auto-tuner from replacing those kernels mid-training.\n"
      ]
    },
    {
      "cell_type": "code",
      "id": "53c7de30-36e4-4dae-bd80-be7442bb4c22",
      "metadata": {
        "id": "53c7de30-36e4-4dae-bd80-be7442bb4c22"
      },
      "outputs": [],
      "source": [
        "def set_seed(seed: int = 42) -> None:\n",
        "    \"\"\"Seed Python, NumPy, and PyTorch (CPU & all GPUs) and\n",
        "    make cuDNN run in deterministic mode.\"\"\"\n",
        "    # ---- Python and NumPy -------------------------------------------\n",
        "    random.seed(seed)\n",
        "    np.random.seed(seed)\n",
        "\n",
        "    # ---- PyTorch (CPU  &  GPU) --------------------------------------\n",
        "    torch.manual_seed(seed)\n",
        "    torch.cuda.manual_seed_all(seed)\n",
        "\n",
        "    # ---- cuDNN: force repeatable convolutions -----------------------\n",
        "    torch.backends.cudnn.deterministic = True\n",
        "    torch.backends.cudnn.benchmark     = False\n"
      ],
      "execution_count": 9
    },
    {
      "cell_type": "code",
      "id": "ff9c5ae1-9248-431f-a606-5778f2f5ca01",
      "metadata": {
        "colab": {
          "base_uri": "https://localhost:8080/"
        },
        "id": "ff9c5ae1-9248-431f-a606-5778f2f5ca01",
        "outputId": "3475b5bf-20b6-4c2c-f493-cd4252ebd4f2"
      },
      "outputs": [
        {
          "output_type": "stream",
          "name": "stdout",
          "text": [
            "Global seed set to 7331 - main process is now deterministic.\n"
          ]
        }
      ],
      "source": [
        "SEED = 7331\n",
        "set_seed(SEED)\n",
        "print(f\"Global seed set to {SEED} - main process is now deterministic.\")"
      ],
      "execution_count": 10
    },
    {
      "cell_type": "markdown",
      "id": "cnn-doc",
      "metadata": {
        "id": "cnn-doc"
      },
      "source": [
        "## Defining pre-trained CNN backbone\n",
        "\n",
        "In this cell, you will create and implement a **ConvNet** class. This class serves as the convolutional backbone for the hybrid CNN-ViT architecture.\n",
        "The design of this class will be **same as the training architecture**, with six progressive convolutional blocks.\n",
        "\n",
        "- **`forward_features()`**: Returns the raw convolutional feature map (B, 1024, H, W) for use by the **ViT component**\n",
        "\n",
        "- **Role in hybrid architecture**: In the hybrid model, this CNN serves as a **local feature extractor**, capturing low-level patterns, edges, and textures before passing the feature-rich representation to the Vision Transformer for global context modeling. The 1024-channel output provides a rich semantic representation that the ViT can process as a sequence of tokens.\n"
      ]
    },
    {
      "cell_type": "code",
      "id": "2a120e6b-5689-4be7-9709-d7ebfa3cd3e5",
      "metadata": {
        "id": "2a120e6b-5689-4be7-9709-d7ebfa3cd3e5"
      },
      "outputs": [],
      "source": [
        "class ConvNet(nn.Module):\n",
        "    '''\n",
        "    Class to define the architecture same as the imported pre-trained CNN model for extracting the` feature map\n",
        "    '''\n",
        "    def __init__(self, num_classes):\n",
        "        super().__init__()\n",
        "        self.features = nn.Sequential(\n",
        "            nn.Conv2d(3, 32, 5, padding=2), nn.ReLU(), nn.MaxPool2d(2), nn.BatchNorm2d(32),\n",
        "            nn.Conv2d(32, 64, 5, padding=2), nn.ReLU(), nn.MaxPool2d(2), nn.BatchNorm2d(64),\n",
        "            nn.Conv2d(64, 128, 5, padding=2), nn.ReLU(), nn.MaxPool2d(2), nn.BatchNorm2d(128),\n",
        "            nn.Conv2d(128, 256, 5, padding=2), nn.ReLU(), nn.MaxPool2d(2), nn.BatchNorm2d(256),\n",
        "            nn.Conv2d(256, 512, 5, padding=2), nn.ReLU(), nn.MaxPool2d(2), nn.BatchNorm2d(512),\n",
        "            nn.Conv2d(512, 1024, 5, padding=2), nn.ReLU(), nn.MaxPool2d(2), nn.BatchNorm2d(1024)\n",
        "        )\n",
        "\n",
        "    def forward_features(self, x):\n",
        "        return self.features(x)      # (B,1024,H,W)\n"
      ],
      "execution_count": 11
    },
    {
      "cell_type": "markdown",
      "id": "7a6e6958-07b3-4037-9f91-d7ac6e4d2f81",
      "metadata": {
        "id": "7a6e6958-07b3-4037-9f91-d7ac6e4d2f81"
      },
      "source": [
        "# Vision Transformers\n"
      ]
    },
    {
      "cell_type": "markdown",
      "id": "929cdcfe-8228-4e8a-851e-bbd79f5f18e5",
      "metadata": {
        "id": "929cdcfe-8228-4e8a-851e-bbd79f5f18e5"
      },
      "source": [
        "### Patch embedding\n",
        " The **PatchEmbed** class implements the **interface** between the CNN feature extractor and the Vision Transformer, converting spatial feature maps into a sequence of tokens suitable for self-attention processing.\n",
        "\n",
        "Unlike traditional ViT implementations that divide raw images into fixed-size patches, this hybrid approach operates on CNN feature maps. The implementation uses a **1×1 convolution** as a learned linear projection to transform the 1024-dimensional CNN features into the transformer's embedding dimension (default 768).\n",
        "\n",
        "The transformation process involves three key steps:\n",
        "1. **Channel projection**: `nn.Conv2d(in_ch, embed_dim, kernel_size=1)` reduces or expands the channel dimension from 1024 to the preferred embedding size\n",
        "2. **Spatial flattening**: `.flatten(2)` collapses the height and width dimensions (H×W) into a single sequence dimension\n",
        "3. **Tensor reshaping**: `.transpose(1,2)` reorders dimensions from (B, D, L) to (B, L, D) where L=H×W represents the sequence length\n",
        "\n",
        "**Integration with hybrid architecture**\n",
        "\n",
        "In the context of the hybrid model, this patch embedding serves as the **bridge** between local CNN features and global transformer processing. Since the CNN has already extracted meaningful local patterns, the patch embedding focuses on format conversion rather than feature extraction. This design is more **efficient** than traditional ViT patch embedding since the CNN has already performed the heavy lifting of feature extraction from raw pixels.\n",
        "\n",
        "The **output tensor** (B, L, D) represents a batch of sequences where each sequence contains L tokens (corresponding to spatial locations in the feature map) with D-dimensional embeddings ready for transformer processing.\n"
      ]
    },
    {
      "cell_type": "code",
      "id": "01a517d5-b6fa-4fe5-a848-02cfc84106eb",
      "metadata": {
        "id": "01a517d5-b6fa-4fe5-a848-02cfc84106eb"
      },
      "outputs": [],
      "source": [
        "class PatchEmbed(nn.Module):\n",
        "    def __init__(self, input_channel=1024, embed_dim=768):\n",
        "        super().__init__()\n",
        "        self.proj = nn.Conv2d(input_channel, embed_dim, kernel_size=1)  # 1×1 conv\n",
        "    def forward(self, x):\n",
        "        x = self.proj(x).flatten(2).transpose(1, 2)  # (B,L,D)\n",
        "        return x"
      ],
      "execution_count": 12
    },
    {
      "cell_type": "markdown",
      "id": "mhsa-doc",
      "metadata": {
        "id": "mhsa-doc"
      },
      "source": [
        "## Multi-head self-attention (MHSA) module\n",
        "\n",
        "The **MHSA** class implements the self-attention mechanism that enables the Vision Transformer to model long-range dependencies and global context across all spatial locations in the feature map.\n",
        "\n",
        "The implementation follows the scaled dot-product attention formula: **Attention(Q,K,V) = softmax(QK^T/√d)V**, where Q, K, and V represent query, key, and value matrices, respectively. The scaling factor 1/sqrt(d) prevents the dot products from becoming too large, which would push the softmax function into regions with extremely small gradients.\n",
        "\n",
        "The multi-head mechanism splits the embedding dimension across multiple attention heads, allowing the model to attend to different types of relationships simultaneously.\n",
        "\n",
        "### Key implementation details:\n",
        "\n",
        "- **Unified QKV projection**: A single linear layer `nn.Linear(dim, dim*3)` generates Q, K, and V matrices efficiently, reducing memory overhead compared to separate projections\n",
        "- **Head reshaping**: The tensor is reshaped from (B, N, D) to (B, heads, N, d) where d = D/heads, enabling parallel processing across heads\n",
        "- **Attention computation**: Matrix multiplication `torch.matmul(q, k.transpose(-2, -1))` computes attention scores, followed by scaling and softmax normalization\n",
        "- **Dropout regularization**: Two dropout layers prevent overfitting - one on attention weights and one on the final output\n",
        "\n",
        "\n",
        "Unlike CNNs, which have limited receptive fields, self-attention allows every token to interact directly with every other token in a single operation. This enables the model to **capture long-range spatial dependencies** that might be missed by purely convolutional approaches.\n",
        "\n",
        "#### In the hybrid architecture, this global modeling complements the local feature extraction performed by the CNN backbone.\n",
        "\n",
        "The attention weights provide interpretability, showing which spatial locations the model focuses on when making predictions. This component is valuable for both performance and explainability.\n"
      ]
    },
    {
      "cell_type": "code",
      "id": "9f7114dc-5a8b-4aea-8509-e2dd13bb8f6a",
      "metadata": {
        "id": "9f7114dc-5a8b-4aea-8509-e2dd13bb8f6a"
      },
      "outputs": [],
      "source": [
        "class MHSA(nn.Module):\n",
        "    def __init__(self, dim, heads=8, dropout=0.):\n",
        "        super().__init__()\n",
        "        self.heads = heads\n",
        "        self.scale = (dim // heads) ** -0.5\n",
        "        self.qkv = nn.Linear(dim, dim * 3)\n",
        "        self.attn_drop = nn.Dropout(dropout)\n",
        "        self.proj = nn.Linear(dim, dim)\n",
        "        self.proj_drop = nn.Dropout(dropout)\n",
        "    def forward(self, x):\n",
        "        B, N, D = x.shape\n",
        "        q, k, v = self.qkv(x).chunk(3, dim=-1)\n",
        "        q = q.reshape(B, N, self.heads, -1).transpose(1, 2)  # (B, heads, N, d)\n",
        "        k = k.reshape(B, N, self.heads, -1).transpose(1, 2)\n",
        "        v = v.reshape(B, N, self.heads, -1).transpose(1, 2)\n",
        "        attn = torch.matmul(q, k.transpose(-2, -1)) * self.scale\n",
        "        attn = self.attn_drop(attn.softmax(dim=-1))\n",
        "        x = torch.matmul(attn, v).transpose(1, 2).reshape(B, N, D)\n",
        "        return self.proj_drop(self.proj(x))"
      ],
      "execution_count": 13
    },
    {
      "cell_type": "markdown",
      "id": "aebd0ac5-89ec-4445-9d6d-e3cc86dfbae1",
      "metadata": {
        "id": "aebd0ac5-89ec-4445-9d6d-e3cc86dfbae1"
      },
      "source": [
        "## Transformer block\n",
        "This code defines a building block used in modern deep learning models, especially in Vision Transformers. The class is called TransformerBlock, and it is responsible for helping the model “pay attention” to the most important parts of its input and improve the final predictions.\n",
        "\n",
        "Let’s break down what happens inside:\n",
        "\n",
        "**Layer normalization (nn.LayerNorm):** This helps stabilize and speed up training by normalizing each row of the input data, which is useful before applying attention or a neural network layer.\n",
        "\n",
        "**Attention layer (MHSA):** This is the “Multi-Head Self Attention” block. It enables the model to look at all positions in the sequence (or image patches) at once, figuring out which ones are most important for each output. It’s like giving the model the power to focus on the key parts of an image or sentence.\n",
        "\n",
        "**MLP (nn.Sequential):** This is a **Multi-Layer Perceptron** or a mini neural network, made up of linear (fully connected) layers, a special activation (GELU), and dropout for regularization. This MLP has:\n",
        "- One linear layer that expands the input dimension by mlp_ratio (for example, 4× wider).\n",
        "- A GELU activation function (a nonlinear operation, similar to ReLU).\n",
        "- Dropout for regularization (helps prevent overfitting).\n",
        "- Another linear layer that shrinks the data back to the original dimension.\n",
        "- Another dropout layer.\n",
        "Here, MLP is designed to help the model learn better representations by combining and transforming the information after the attention step.\n",
        "\n",
        "**Skip/Residual connections (x + ...):** These connections support effective and stable training for deep neural networks by keeping pathways open for both forward information flow and backward gradient flow, making deep architectures such as transformers possible and practical. In transformers, skip connections are placed around both the attention and feedforward (MLP) sub-layers in each block. This stabilizes training of these very deep, stackable models, improves convergence speed, and lets them scale to larger datasets and more complex tasks.\n",
        "\n",
        "In summary, this block helps models understand relationships in their input data, making them more powerful for tasks such as image and language understanding!\n"
      ]
    },
    {
      "cell_type": "code",
      "id": "64f158e5-3c37-4682-8fe8-1db3d6813dfd",
      "metadata": {
        "id": "64f158e5-3c37-4682-8fe8-1db3d6813dfd"
      },
      "outputs": [],
      "source": [
        "class TransformerBlock(nn.Module):\n",
        "    def __init__(self, dim, heads, mlp_ratio=4., dropout=0.):\n",
        "        super().__init__()\n",
        "        self.norm1 = nn.LayerNorm(dim)\n",
        "        self.attn  = MHSA(dim, heads, dropout)\n",
        "        self.norm2 = nn.LayerNorm(dim)\n",
        "        self.mlp   = nn.Sequential(\n",
        "                                    nn.Linear(dim, int(dim * mlp_ratio)),\n",
        "                                    nn.GELU(), nn.Dropout(dropout),\n",
        "                                    nn.Linear(int(dim * mlp_ratio), dim),\n",
        "                                    nn.Dropout(dropout))\n",
        "    def forward(self, x):\n",
        "        x = x + self.attn(self.norm1(x))\n",
        "        x = x + self.mlp(self.norm2(x))\n",
        "        return x"
      ],
      "execution_count": 14
    },
    {
      "cell_type": "markdown",
      "id": "vit-doc",
      "metadata": {
        "id": "vit-doc"
      },
      "source": [
        "## Vision Transformer (ViT) model\n",
        "\n",
        "The **ViT** class represents the complete Vision Transformer implementation, including patch embedding, positional encoding, transformer blocks, and a classification head for global context modeling.\n",
        "\n",
        "The implementation uses a learnable **Classification [CLS] token**:\n",
        "- **Initialization**: `nn.Parameter(torch.zeros(1, 1, embed_dim))` creates a learnable token initialized to zeros\n",
        "- **Expansion**: `self.cls.expand(B, -1, -1)` replicates the token across the batch dimension\n",
        "- **Prepending**: `torch.cat((cls, x), 1)` concatenates the CLS token to the beginning of the sequence\n",
        "- **Classification**: Only the CLS token representation is used for final classification\n",
        "\n",
        "This allows the CLS token to aggregate information from all spatial locations through self-attention, creating a global representation suitable for classification.\n",
        "\n",
        "`nn.Parameter(torch.randn(1, max_tokens, embed_dim))` creates a large positional embedding matrix\n",
        "and `self.pos[:, :L+1]` dynamically slices the positional embeddings to match the actual sequence length. Together, these create a **dynamic positional encoding** system for the hybrid architecture where the CNN feature map size can vary based on input image dimensions.\n",
        "\n",
        "\n",
        "**`depth`** defines the number of transformerBlocks to be used in the transformer encoder\n",
        "### Classification head design\n",
        "\n",
        "The final classification pipeline includes:\n",
        "1. **Final normalization**: `self.norm(x)` applies LayerNorm to the final transformer output\n",
        "2. **CLS token extraction**: `[:, 0]` selects only the CLS token representation\n",
        "3. **Linear classification**: `self.head` maps the CLS representation to class logits\n",
        "\n",
        "The model's ability to handle variable sequence lengths makes it robust to different input sizes and CNN architectures, providing flexibility in deployment scenarios.\n"
      ]
    },
    {
      "cell_type": "code",
      "id": "4b1fd0bb-d07d-4b32-b441-2757d8b931b8",
      "metadata": {
        "id": "4b1fd0bb-d07d-4b32-b441-2757d8b931b8"
      },
      "outputs": [],
      "source": [
        "class ViT(nn.Module):\n",
        "    def __init__(self, in_ch=1024, num_classes=2,\n",
        "                 embed_dim=768, depth=6, heads=8,\n",
        "                 mlp_ratio=4., dropout=0.1, max_tokens=50):\n",
        "        super().__init__()\n",
        "        self.patch = PatchEmbed(in_ch, embed_dim)           # 1×1 conv\n",
        "        self.cls   = nn.Parameter(torch.zeros(1, 1, embed_dim))\n",
        "        self.pos   = nn.Parameter(torch.randn(1, max_tokens, embed_dim))\n",
        "        self.blocks = nn.ModuleList([\n",
        "            TransformerBlock(embed_dim, heads, mlp_ratio, dropout)\n",
        "            for _ in range(depth)])\n",
        "        self.norm = nn.LayerNorm(embed_dim)\n",
        "        self.head = nn.Linear(embed_dim, num_classes)\n",
        "\n",
        "    def forward(self, x):                          # x: (B,C,H,W)\n",
        "        x = self.patch(x)                          # (B,L,D)\n",
        "        B, L, _ = x.shape\n",
        "        cls = self.cls.expand(B, -1, -1)           # (B,1,D)\n",
        "        x = torch.cat((cls, x), 1)                 # (B,L+1,D)\n",
        "        x = x + self.pos[:, :L + 1]                # match seq-len\n",
        "        for blk in self.blocks:\n",
        "            x = blk(x)\n",
        "        return self.head(self.norm(x)[:, 0])       # CLS token"
      ],
      "execution_count": 15
    },
    {
      "cell_type": "markdown",
      "id": "hybrid-doc",
      "metadata": {
        "id": "hybrid-doc"
      },
      "source": [
        "## CNN-ViT hybrid model\n",
        "\n",
        "The **CNN_ViT_Hybrid** class represents the hybrid architecture, integrating the CNN backbone with the Vision Transformer to create a unified model that leverages both local and global feature processing capabilities.\n",
        "In this hybrid model, the pre-trained CNN layers can be frozen while fine-tuning the Vi and allows for **efficient attention** to operate on semantically rich CNN features rather than raw pixels\n",
        "Thus, this hybrid approach combines the excellent capabilities of CNN to capture local patterns efficiently with ViTs' global context modeling, while keeping the level of complexity low.\n",
        "\n",
        "The forward pass implements a **two-stage forward pass pipeline**:\n",
        "1. **Local feature extraction**: `self.cnn.forward_features(x)` processes the input image through the CNN backbone, extracting hierarchical local features and reducing spatial resolution while increasing semantic depth.\n",
        "2. **Global context modeling**: `self.vit(features)` takes the CNN feature map and processes it through the Vision Transformer for global reasoning and classification.\n",
        "\n",
        "Despite the modular design, the entire hybrid model remains **fully differentiable**, enabling end-to-end training where gradients could flow from the classification loss back through both the ViT and CNN components. This allows the CNN to learn features that are optimally suited for the downstream transformer processing, creating a synergistic relationship between the two architectures.\n"
      ]
    },
    {
      "cell_type": "code",
      "id": "dbf7d20d-9a55-4398-90a9-81e860f62838",
      "metadata": {
        "id": "dbf7d20d-9a55-4398-90a9-81e860f62838"
      },
      "outputs": [],
      "source": [
        "class CNN_ViT_Hybrid(nn.Module):\n",
        "    def __init__(self, num_classes=2, embed_dim=768, depth=6, heads=8):\n",
        "        super().__init__()\n",
        "        self.cnn = ConvNet(num_classes)            # load weights later\n",
        "        self.vit = ViT(num_classes=num_classes,\n",
        "                       embed_dim=embed_dim,\n",
        "                       depth=depth,\n",
        "                       heads=heads)\n",
        "    def forward(self, x):\n",
        "        return self.vit(self.cnn.forward_features(x))"
      ],
      "execution_count": 16
    },
    {
      "cell_type": "markdown",
      "id": "train-doc",
      "metadata": {
        "id": "train-doc"
      },
      "source": [
        "# Model training\n",
        "\n",
        "The **train** function implements a comprehensive training loop for one epoch, handling forward propagation, loss computation, backpropagation, and metric tracking in a memory-efficient manner.\n",
        "\n",
        "**Training mode**\n",
        "The function begins with `model.train()`, which configures the model for training by enabling dropout layers and gradient computation\n",
        "\n",
        "**Batch processing pipeline**\n",
        "Each training iteration follows a standard deep learning pipeline:\n",
        "\n",
        "1. **Data transfer**: `x, y = x.to(device), y.to(device)` moves input data and labels to the appropriate device (CPU/GPU)\n",
        "2. **Gradient reset**: `optimizer.zero_grad()` clears gradients from the previous iteration to prevent accumulation\n",
        "3. **Forward pass**: `out = model(x)` computes predictions through the hybrid CNN-ViT architecture\n",
        "4. **Loss computation**: `loss = criterion(out, y)` calculates cross-entropy loss between predictions and ground truth\n",
        "5. **Backpropagation**: `loss.backward()` computes gradients via automatic differentiation\n",
        "6. **Parameter update**: `optimizer.step()` updates model parameters using the computed gradients\n",
        "\n",
        "**Metric accumulation**: The function tracks two key metrics:\n",
        "- **Weighted loss**: `loss.item() * x.size(0)` accumulates loss weighted by batch size for accurate averaging\n",
        "- **Correct predictions**: `(out.argmax(1) == y).sum().item()` counts correct predictions using argmax for multi-class classification\n"
      ]
    },
    {
      "cell_type": "code",
      "id": "27c5540f-b131-4cfd-9d18-93d51b4dca23",
      "metadata": {
        "id": "27c5540f-b131-4cfd-9d18-93d51b4dca23"
      },
      "outputs": [],
      "source": [
        "def train(model, loader, optimizer, criterion, device):\n",
        "    model.train()\n",
        "    loss_sum, correct = 0, 0\n",
        "    for batch_idx, (x, y) in enumerate(tqdm(loader, desc=\"Training  \")):\n",
        "        x, y = x.to(device), y.to(device)\n",
        "        optimizer.zero_grad()\n",
        "        out = model(x)\n",
        "        loss = criterion(out, y)\n",
        "        loss.backward()\n",
        "        optimizer.step()\n",
        "        loss_sum += loss.item() * x.size(0)\n",
        "        correct  += (out.argmax(1) == y).sum().item()\n",
        "    return loss_sum / len(loader.dataset), correct / len(loader.dataset)"
      ],
      "execution_count": 17
    },
    {
      "cell_type": "markdown",
      "id": "eval-doc",
      "metadata": {
        "id": "eval-doc"
      },
      "source": [
        "## Model evaluation\n",
        "Here, you will evaluate the model, implementing inference without gradient computation to optimize memory usage and computational speed.\n",
        "\n",
        "Two fundamental differences between using the model for evaluation and testing versus training are:\n",
        "- **`torch.no_grad()`**:  Disables gradient computation and accelerate inference\n",
        "- **`model.eval()`**: Switches the model to evaluation mode, ensures deterministic outputs\n",
        "\n",
        "The **evaluation loop** mirrors the training loop structure but omits gradient-related operations.\n",
        "\n",
        "This function **integrates with the training pipeline**, providing regular validation checks that help monitor model progress, detect overfitting, and make informed decisions about training continuation, learning rate adjustments, and model selection. The consistent interface with the training function enables easy integration into automated training workflows.\n"
      ]
    },
    {
      "cell_type": "code",
      "id": "eaa42f92-0538-4490-a62f-8d1d37b64fbc",
      "metadata": {
        "id": "eaa42f92-0538-4490-a62f-8d1d37b64fbc"
      },
      "outputs": [],
      "source": [
        "def evaluate(model, loader, criterion, device):\n",
        "    with torch.no_grad():\n",
        "        model.eval()\n",
        "        loss_sum, correct = 0, 0\n",
        "        for batch_idx, (x, y) in enumerate(tqdm(loader, desc=\"Validation\")):\n",
        "            x, y = x.to(device), y.to(device)\n",
        "            out = model(x)\n",
        "            loss = criterion(out, y)\n",
        "            loss_sum += loss.item() * x.size(0)\n",
        "            correct  += (out.argmax(1) == y).sum().item()\n",
        "    return loss_sum / len(loader.dataset), correct / len(loader.dataset)"
      ],
      "execution_count": 18
    },
    {
      "cell_type": "markdown",
      "id": "202fafbd-1abd-4df8-a3a6-4d05b05f7307",
      "metadata": {
        "id": "202fafbd-1abd-4df8-a3a6-4d05b05f7307"
      },
      "source": [
        "## Data preparation and loading\n",
        "\n",
        "Here, you implement data preparation for the entire data pipeline, from raw image loading to batched tensor delivery.\n",
        "\n",
        "You define the key training hyperparameters:\n",
        "- **Image size (64×64)**: Chosen for computational efficiency while maintaining sufficient resolution for feature extraction\n",
        "- **Batch size (128)**: Balances memory usage with gradient stability and training speed\n",
        "- **learning rate (0.001)**: A conservative number for learning\n",
        "- **number of classes**: Total number of classes to be classified by the model\n"
      ]
    },
    {
      "cell_type": "code",
      "id": "c925c5c6-80f1-42f2-9212-f4c02bc50d16",
      "metadata": {
        "id": "c925c5c6-80f1-42f2-9212-f4c02bc50d16"
      },
      "outputs": [],
      "source": [
        "dataset_path = os.path.join(data_dir, \"images_dataSAT\")\n",
        "\n",
        "img_size = 64\n",
        "batch_size = 32\n",
        "lr = 0.001\n",
        "num_cls  = 2\n"
      ],
      "execution_count": 19
    },
    {
      "cell_type": "markdown",
      "id": "b411ea27-22c9-404a-973b-e0c362e190f9",
      "metadata": {
        "id": "b411ea27-22c9-404a-973b-e0c362e190f9"
      },
      "source": [
        "### Training data transformations\n",
        "The **training transform** pipeline implements several **augmentation techniques** including Random Rotation, Random Horizontal Flip, Random Affine with Shear and normalization.\n"
      ]
    },
    {
      "cell_type": "markdown",
      "id": "42c719f2-ff7e-4e00-ad27-256a6d2cdc36",
      "metadata": {
        "id": "42c719f2-ff7e-4e00-ad27-256a6d2cdc36"
      },
      "source": [
        "## Task: Create `train_transform` transforms for the training dataset\n",
        "- Use the following parameters:\n",
        "    - Size: `img_size x img_size`\n",
        "    - `RandomRotation`: 40\n",
        "    - `RandomHorizontalFlip`\n",
        "    - `RandomAffine(0, shear=0.2)`\n",
        "    - `Normalization` values: ([0.485, 0.456, 0.406], [0.229, 0.224, 0.225])\n"
      ]
    },
    {
      "cell_type": "code",
      "id": "43b7aec3-13f2-4b33-8093-2edb676a86b6",
      "metadata": {
        "id": "43b7aec3-13f2-4b33-8093-2edb676a86b6"
      },
      "outputs": [],
      "source": [
        "## You can use this cell to type the code to complete the task.\n",
        "train_transform = transforms.Compose([transforms.Resize((img_size, img_size)),\n",
        "                                      transforms.RandomRotation(40),\n",
        "                                      transforms.RandomHorizontalFlip(),\n",
        "                                      transforms.RandomAffine(0, shear=0.2),\n",
        "                                      transforms.ToTensor(),\n",
        "                                      transforms.Normalize([0.485, 0.456, 0.406], [0.229, 0.224, 0.225])\n",
        "                                     ])"
      ],
      "execution_count": 20
    },
    {
      "cell_type": "markdown",
      "id": "66c55c42-34cb-40ba-821a-f1d3f870ae0d",
      "metadata": {
        "id": "66c55c42-34cb-40ba-821a-f1d3f870ae0d"
      },
      "source": [
        "### Validation data transformations\n",
        "The **validation transform** is minimal for **deterministic preprocessing** to ensure reproducible validation results\n"
      ]
    },
    {
      "cell_type": "markdown",
      "id": "9e944b6e-9aa1-4413-ae6d-5943aa7abe2d",
      "metadata": {
        "id": "9e944b6e-9aa1-4413-ae6d-5943aa7abe2d"
      },
      "source": [
        "## Task: Create `val_transform` transforms for the validation dataset\n",
        "- Use the following parameters:\n",
        "    - Size: `img_size x img_size`\n",
        "    - `Normalization` values: ([0.485, 0.456, 0.406], [0.229, 0.224, 0.225])\n"
      ]
    },
    {
      "cell_type": "code",
      "id": "7f8d96f8-c895-4fc7-9818-384393dc238c",
      "metadata": {
        "id": "7f8d96f8-c895-4fc7-9818-384393dc238c"
      },
      "outputs": [],
      "source": [
        "## You can use this cell to type the code to complete the task.\n",
        "val_transform = transforms.Compose([transforms.Resize((img_size, img_size)),\n",
        "                                    transforms.ToTensor(),\n",
        "                                    transforms.Normalize([0.485, 0.456, 0.406], [0.229, 0.224, 0.225])\n",
        "                                    ])"
      ],
      "execution_count": 21
    },
    {
      "cell_type": "markdown",
      "id": "e40beced-ab3f-4bda-876d-0a61b137382a",
      "metadata": {
        "id": "e40beced-ab3f-4bda-876d-0a61b137382a"
      },
      "source": [
        "### The DataLoader\n",
        "\n",
        "The DataLoader setup is optimized for training:\n",
        "- **Shuffling**: Training data is shuffled to prevent batch-level patterns\n",
        "- **No Validation Shuffling**: Validation order is consistent for reproducible results\n",
        "- **`batch_size`**: Efficient tensor batching for GPU utilization\n",
        "\n",
        "You begin by splitting the dataset into `training` and `validation` data using `random_split` feature. Here, you define **80%** (0.8 fraction) of the total dataset for training and rest for validation.\n",
        "\n",
        "Next, you apply the `train_transform` to `train_dataset` and `val_transform` to `val_dataset` to make the dataset ready for DataLoader\n"
      ]
    },
    {
      "cell_type": "code",
      "id": "e68dee90-ccc1-4933-b55e-cfa1ec1b2fc4",
      "metadata": {
        "id": "e68dee90-ccc1-4933-b55e-cfa1ec1b2fc4"
      },
      "outputs": [],
      "source": [
        "full_dataset = datasets.ImageFolder(dataset_path, transform=train_transform)\n",
        "\n",
        "train_size = int(0.8 * len(full_dataset))\n",
        "val_size = len(full_dataset) - train_size\n",
        "train_dataset, val_dataset = random_split(full_dataset, [train_size, val_size])\n",
        "train_dataset.dataset.transform = train_transform\n",
        "val_dataset.dataset.transform = val_transform"
      ],
      "execution_count": 22
    },
    {
      "cell_type": "markdown",
      "id": "e96107c1-49a1-428b-b412-ff214cdfa2ac",
      "metadata": {
        "id": "e96107c1-49a1-428b-b412-ff214cdfa2ac"
      },
      "source": [
        "## Task: Create the Dataloader `train_loader` and `val_loader` using `train_dataset` and `val_dataset`\n",
        "- Use the following parameters:\n",
        "    - `batch_size=batch_size`\n",
        "    - for `train_loader`: `shuffle=True`\n",
        "    - for `val_loader`: `shuffle=False`\n"
      ]
    },
    {
      "cell_type": "code",
      "id": "1d72de3d-4f8e-445b-991d-9474ce10ffa6",
      "metadata": {
        "id": "1d72de3d-4f8e-445b-991d-9474ce10ffa6"
      },
      "outputs": [],
      "source": [
        "## You can use this cell to type the code to complete the task.\n",
        "train_loader = DataLoader(train_dataset,\n",
        "                          batch_size=batch_size,\n",
        "                          shuffle=True,\n",
        "                         )\n",
        "\n",
        "val_loader = DataLoader(val_dataset,\n",
        "                        batch_size=batch_size,\n",
        "                        shuffle=False,\n",
        "                       )"
      ],
      "execution_count": 23
    },
    {
      "cell_type": "markdown",
      "id": "loop-doc",
      "metadata": {
        "id": "loop-doc"
      },
      "source": [
        "## Model initialization and training loop\n",
        "\n",
        "This cell orchestrates the complete training pipeline, from model instantiation through iterative training and validation, implementing comprehensive monitoring and logging for effective model development.\n",
        "\n",
        "- **CUDA detection**: `torch.cuda.is_available()` checks for GPU availability\n",
        "\n",
        "The hybrid model is instantiated with carefully chosen hyperparameters:\n",
        "- **Number of classes**: `num_classes=2` configured for the specific dataset\n",
        "- **Default architecture**: Uses ViT configuration (768 embedding dim, 1  transformer layer, 1 heads)\n",
        "\n",
        "### Transfer learning integration\n",
        "\n",
        "The commented line demonstrates transfer learning capability:\n",
        "- **Pre-trained weights**: Option to load pre-trained CNN backbone weights\n",
        "- **Flexible loading**: `strict=False` allows partial weight loading\n",
        "\n",
        "**Optimizer**: The training uses the `adam` optimizer.\n",
        "\n",
        "The training loop collects the **training and validation metrics** to track training performance and monitor generalization of the model.\n",
        "\n",
        "### Training loop architecture\n",
        "\n",
        "Each epoch follows a structured pipeline:\n",
        "1. **Timing**: `time.time()` tracks epoch duration for performance monitoring\n",
        "2. **Training phase**: Calls the training function with appropriate parameters\n",
        "3. **Validation phase**: Evaluates model on validation set\n",
        "4. **Logging**: Comprehensive output showing all metrics and timing\n",
        "5. **Storage**: Appends metrics to tracking lists for later analysis\n",
        "\n",
        "In this training cell, you create a robust, monitored, and efficient training pipeline that provides comprehensive insights into model performance while maintaining computational efficiency and enabling easy debugging and optimization.\n"
      ]
    },
    {
      "cell_type": "code",
      "id": "1605bf28-929b-4eda-8da7-61ef0f8b0f1c",
      "metadata": {
        "colab": {
          "base_uri": "https://localhost:8080/"
        },
        "id": "1605bf28-929b-4eda-8da7-61ef0f8b0f1c",
        "outputId": "b69f8885-481c-4424-89cd-ac3468365d14"
      },
      "outputs": [
        {
          "output_type": "stream",
          "name": "stdout",
          "text": [
            "Training the model on cpu\n",
            "epochs:5 | batch:32 | attn_heads:6 | depth:3 | embed_dim:768\n",
            "\n",
            "Epoch 01/05 started at 20251002_221452 (UTC)\n"
          ]
        },
        {
          "output_type": "stream",
          "name": "stderr",
          "text": [
            "Training  : 100%|██████████| 150/150 [05:41<00:00,  2.27s/it]\n",
            "Validation: 100%|██████████| 38/38 [00:19<00:00,  2.00it/s]\n"
          ]
        },
        {
          "output_type": "stream",
          "name": "stdout",
          "text": [
            "Epoch 01 | train loss 0.3423 acc 0.9273 | val loss 0.0940 acc 0.9608 | in  360.20s\n",
            "Current loss (0.0940) lower than previous best loss (inf), Saving current model state\n",
            "\n",
            "Epoch 02/05 started at 20251002_222053 (UTC)\n"
          ]
        },
        {
          "output_type": "stream",
          "name": "stderr",
          "text": [
            "Training  : 100%|██████████| 150/150 [05:46<00:00,  2.31s/it]\n",
            "Validation: 100%|██████████| 38/38 [00:19<00:00,  1.95it/s]\n"
          ]
        },
        {
          "output_type": "stream",
          "name": "stdout",
          "text": [
            "Epoch 02 | train loss 0.1262 acc 0.9573 | val loss 0.0227 acc 0.9917 | in  366.06s\n",
            "Current loss (0.0227) lower than previous best loss (0.0940), Saving current model state\n",
            "\n",
            "Epoch 03/05 started at 20251002_222659 (UTC)\n"
          ]
        },
        {
          "output_type": "stream",
          "name": "stderr",
          "text": [
            "Training  : 100%|██████████| 150/150 [05:50<00:00,  2.34s/it]\n",
            "Validation: 100%|██████████| 38/38 [00:19<00:00,  1.97it/s]\n"
          ]
        },
        {
          "output_type": "stream",
          "name": "stdout",
          "text": [
            "Epoch 03 | train loss 0.0420 acc 0.9838 | val loss 0.0216 acc 0.9933 | in  369.88s\n",
            "Current loss (0.0216) lower than previous best loss (0.0227), Saving current model state\n",
            "\n",
            "Epoch 04/05 started at 20251002_223310 (UTC)\n"
          ]
        },
        {
          "output_type": "stream",
          "name": "stderr",
          "text": [
            "Training  : 100%|██████████| 150/150 [05:40<00:00,  2.27s/it]\n",
            "Validation: 100%|██████████| 38/38 [00:18<00:00,  2.08it/s]\n"
          ]
        },
        {
          "output_type": "stream",
          "name": "stdout",
          "text": [
            "Epoch 04 | train loss 0.0655 acc 0.9767 | val loss 0.0328 acc 0.9883 | in  358.47s\n",
            "\n",
            "Epoch 05/05 started at 20251002_223908 (UTC)\n"
          ]
        },
        {
          "output_type": "stream",
          "name": "stderr",
          "text": [
            "Training  : 100%|██████████| 150/150 [05:44<00:00,  2.30s/it]\n",
            "Validation: 100%|██████████| 38/38 [00:19<00:00,  1.98it/s]"
          ]
        },
        {
          "output_type": "stream",
          "name": "stdout",
          "text": [
            "Epoch 05 | train loss 0.0791 acc 0.9771 | val loss 0.0395 acc 0.9850 | in  364.11s\n",
            "epochs:5 | batch:32 | attn_heads:6 | depth:3 | embed_dim:768\n"
          ]
        },
        {
          "output_type": "stream",
          "name": "stderr",
          "text": [
            "\n"
          ]
        }
      ],
      "source": [
        "device   = \"cuda\" if torch.cuda.is_available() else \"cpu\"\n",
        "print(f\"Training the model on {device}\")\n",
        "\n",
        "\n",
        "epochs     = 5\n",
        "attn_heads = 6\n",
        "depth      = 3\n",
        "embed_dim  = 768\n",
        "\n",
        "print(f\"epochs:{epochs} | batch:{batch_size} | attn_heads:{attn_heads} | depth:{depth} | embed_dim:{embed_dim}\")\n",
        "\n",
        "model_dict_name = f\"ai_capstone_pytorch_vit_model_state_dict.pth\"\n",
        "\n",
        "model     = CNN_ViT_Hybrid(num_classes=num_cls,\n",
        "                            heads=attn_heads,\n",
        "                            depth=depth,\n",
        "                            embed_dim=embed_dim\n",
        "                           ).to(device)\n",
        "\n",
        "\n",
        "# ------------------------------------------------------------------ #\n",
        "# loading pre-trained CNN weights\n",
        "model.cnn.load_state_dict(torch.load(pytorch_state_dict_path), strict=False)\n",
        "# ------------------------------------------------------------------ #\n",
        "\n",
        "\n",
        "criterion= nn.CrossEntropyLoss()\n",
        "optimizer= torch.optim.Adam(model.parameters(), lr=lr)\n",
        "\n",
        "\n",
        "best_loss = float('inf')\n",
        "tr_loss_all = []\n",
        "te_loss_all = []\n",
        "tr_acc_all = []\n",
        "te_acc_all = []\n",
        "\n",
        "training_time = []\n",
        "for epoch in range(1, epochs+1):\n",
        "    start_time = time.time()\n",
        "    print(f\"\\nEpoch {epoch:02d}/{epochs:02d} started at {present_time()} (UTC)\")\n",
        "    tr_loss,tr_acc = train(model, train_loader, optimizer, criterion, device)\n",
        "    te_loss,te_acc = evaluate(model, val_loader, criterion, device)\n",
        "    print(f\"Epoch {epoch:02d} | \"\n",
        "          f\"train loss {tr_loss:.4f} acc {tr_acc:.4f} | \"\n",
        "          f\"val loss {te_loss:.4f} acc {te_acc:.4f} |\"\n",
        "          f\" in  {time.time()-start_time:.02f}s\"\n",
        "        )\n",
        "    tr_loss_all.append(tr_loss)\n",
        "    te_loss_all.append(te_loss)\n",
        "    tr_acc_all.append(tr_acc)\n",
        "    te_acc_all.append(te_acc)\n",
        "    training_time.append(time.time() - start_time)\n",
        "\n",
        "    # Save the best model\n",
        "    avg_te_loss = te_loss\n",
        "    if avg_te_loss < best_loss:\n",
        "        print(f\"Current loss ({avg_te_loss:.04f}) lower than previous best loss ({ best_loss:.04f}), Saving current model state\")\n",
        "        best_loss = avg_te_loss\n",
        "        torch.save(model.state_dict(), model_dict_name)\n",
        "\n",
        "print(f\"epochs:{epochs} | batch:{batch_size} | attn_heads:{attn_heads} | depth:{depth} | embed_dim:{embed_dim}\")\n"
      ],
      "execution_count": 24
    },
    {
      "cell_type": "markdown",
      "id": "668583e1-9f69-4b2d-83dd-78d7ecbb5e27",
      "metadata": {
        "id": "668583e1-9f69-4b2d-83dd-78d7ecbb5e27"
      },
      "source": [
        "### Hyperparameter cheatsheet (depth based)\n",
        "\n",
        "The Depth of the transformer blocks signify the number of transformer blocks stacked in the model. This is one of the most important features which differentiates a ViT from CNN.\n",
        "\n",
        "This table proides a basic overview on **how depth affects** other hyperparameters and model performance.\n",
        "\n",
        "|  **Depth** | **Attention heads** | **Dataset Size** |  **Performance** | **learning rate** | **Feature Complexity** | **Learning Focus** |\n",
        "|:---:|:---:|---|:---:|---|:---|:---:|\n",
        "| **3** | 6 | size < 1000 | Underfitting - too shallow |0.001 (Shallow: can handle higher learning rates) | Low-level features | Edges, textures, basic patterns |\n",
        "| **6** | 6 | size <1000 | Good for simple tasks |0.001 (Shallow: can handle higher learning rates) | Mid-level features | Shapes, object parts, spatial relationships |\n",
        "| **12** | 12 | 1000 < size < 10000 | Standard choice - good balance | 0.0005 (Medium: moderate learning rate) | High-level features | Objects, semantic concepts, global context |\n",
        "| **18** | 12 | 10000 < size < 100000 | High performance on complex tasks | 0.0003 (Deep: lower learning rate for stability) | High-level features | Objects, semantic concepts, global context |\n",
        "| **24** | 16 | 100000 < size | Diminishing returns, overfitting risk | 0.0001 (Very deep: very small learning rate) | High-level features | Objects, semantic concepts, global context |\n",
        "| **36** | 16 | 100000 < size | Likely overkill for most tasks | 0.0001 (Very deep: very small learning rate) | High-level features | Objects, semantic concepts, global context |\n"
      ]
    },
    {
      "cell_type": "markdown",
      "id": "89dc7b27-134c-42f8-9034-decf80168e46",
      "metadata": {
        "id": "89dc7b27-134c-42f8-9034-decf80168e46"
      },
      "source": [
        "### Task: Design and train a CNN-ViT hybrid model `model_test` with the following hyperparameters:\n",
        "- `epochs=5`\n",
        "- `attn heads=12`\n",
        "- `transformer block depth = 12`\n",
        "- `embed_dim=768`\n",
        "\n",
        "Save the `accuracy` and `loss` metrics in\n",
        "- `tr_loss_all_test` for training loss\n",
        "- `te_loss_all_test` for validation/testing loss\n",
        "- `tr_acc_all_test` for training accuracy\n",
        "- `te_acc_all_test` for validation/testing accuracy\n",
        "\n",
        "Save the training times in `training_time_test`\n",
        "\n",
        "Save the best model as **`ai_capstone_pytorch_vit_model_test_state_dict.pth`**\n"
      ]
    },
    {
      "cell_type": "code",
      "id": "c542f0ad-6d11-4afc-b21d-ffa6a7bf8330",
      "metadata": {
        "colab": {
          "base_uri": "https://localhost:8080/"
        },
        "id": "c542f0ad-6d11-4afc-b21d-ffa6a7bf8330",
        "outputId": "9a7933b6-65e7-49f7-d82e-5e38f18e13c7"
      },
      "outputs": [
        {
          "output_type": "stream",
          "name": "stdout",
          "text": [
            "Training the model on cpu\n",
            "epochs:1 | batch:32 | attn_heads:12 | depth:12 | embed_dim:768\n",
            "\n",
            "Epoch 01/01 started at 20251002_224609 (UTC)\n"
          ]
        },
        {
          "output_type": "stream",
          "name": "stderr",
          "text": [
            "Training  : 100%|██████████| 150/150 [07:40<00:00,  3.07s/it]\n",
            "Validation: 100%|██████████| 38/38 [00:26<00:00,  1.42it/s]\n"
          ]
        },
        {
          "output_type": "stream",
          "name": "stdout",
          "text": [
            "Epoch 01 | train loss 0.5176 acc 0.7717 | val loss 0.0472 acc 0.9875 | in  487.02s\n",
            "Current loss (0.0472) lower than previous best loss (inf), Saving current model state\n"
          ]
        }
      ],
      "source": [
        "## Please use the space below to write your answer\n",
        "device   = \"cuda\" if torch.cuda.is_available() else \"cpu\"\n",
        "print(f\"Training the model on {device}\")\n",
        "\n",
        "epochs     = 1\n",
        "attn_heads = 12\n",
        "depth      = 12\n",
        "embed_dim  = 768\n",
        "\n",
        "print(f\"epochs:{epochs} | batch:{batch_size} | attn_heads:{attn_heads} | depth:{depth} | embed_dim:{embed_dim}\")\n",
        "\n",
        "model_dict_name = f\"ai_capstone_pytorch_vit_model_test_state_dict.pth\"\n",
        "\n",
        "model_test = CNN_ViT_Hybrid(num_classes=num_cls,\n",
        "                            heads=attn_heads,\n",
        "                            depth=depth,\n",
        "                            embed_dim=embed_dim\n",
        "                           ).to(device)\n",
        "\n",
        "# ------------------------------------------------------------------ #\n",
        "# loading pre-trained CNN weights\n",
        "model_test.cnn.load_state_dict(torch.load(pytorch_state_dict_path), strict=False)\n",
        "# ------------------------------------------------------------------ #\n",
        "\n",
        "criterion= nn.CrossEntropyLoss()\n",
        "optimizer= torch.optim.Adam(model_test.parameters(), lr=lr)\n",
        "\n",
        "best_loss = float('inf')\n",
        "tr_loss_all_test = []\n",
        "te_loss_all_test = []\n",
        "tr_acc_all_test = []\n",
        "te_acc_all_test = []\n",
        "training_time_test = []\n",
        "for epoch in range(1, epochs+1):\n",
        "    start_time = time.time()\n",
        "    print(f\"\\nEpoch {epoch:02d}/{epochs:02d} started at {present_time()} (UTC)\")\n",
        "    tr_loss,tr_acc = train(model_test, train_loader, optimizer, criterion, device)\n",
        "    te_loss,te_acc = evaluate(model_test, val_loader, criterion, device)\n",
        "    print(f\"Epoch {epoch:02d} | \"\n",
        "          f\"train loss {tr_loss:.4f} acc {tr_acc:.4f} | \"\n",
        "          f\"val loss {te_loss:.4f} acc {te_acc:.4f} |\"\n",
        "          f\" in  {time.time()-start_time:.02f}s\"\n",
        "        )\n",
        "    tr_loss_all_test.append(tr_loss)\n",
        "    te_loss_all_test.append(te_loss)\n",
        "    tr_acc_all_test.append(tr_acc)\n",
        "    te_acc_all_test.append(te_acc)\n",
        "    training_time_test.append(time.time() - start_time)\n",
        "\n",
        "    # Save the best model\n",
        "    avg_te_loss = te_loss\n",
        "    if avg_te_loss < best_loss:\n",
        "        print(f\"Current loss ({avg_te_loss:.04f}) lower than previous best loss ({ best_loss:.04f}), Saving current model state\")\n",
        "        best_loss = avg_te_loss\n",
        "        torch.save(model_test.state_dict(), model_dict_name)"
      ],
      "execution_count": 26
    },
    {
      "cell_type": "markdown",
      "id": "plot-doc",
      "metadata": {
        "id": "plot-doc"
      },
      "source": [
        "## Plotting training and validation accuracy and loss\n",
        "\n",
        "This visualization cell creates comprehensive learning curves that provide crucial insights into model training dynamics, performance trends, and potential issues such as overfitting or underfitting.\n",
        "\n",
        "The implementation creates two separate plots for different aspects of training analysis:\n",
        "- **Accuracy plot**: Shows classification performance trends over epochs\n",
        "- **Loss plot**: Reveals optimization dynamics and convergence behavior\n",
        "\n",
        "\n",
        "These plots enable several important diagnostic assessments:\n",
        "- **Overfitting detection**: Widening gap between training and validation metrics\n",
        "- **Underfitting identification**: Both metrics plateau at suboptimal levels\n",
        "- **Training completion**: Convergence indicates when to stop training\n",
        "- **Hyperparameter evaluation**: Curves help assess learning rate, regularization effectiveness\n",
        "\n",
        "These learning curves serve as essential tools for understanding model behavior, diagnosing training issues, and making informed decisions about hyperparameter adjustments, training duration, and model architecture modifications.\n"
      ]
    },
    {
      "cell_type": "code",
      "id": "a0050164-56da-44b4-99f5-1851f142aa10",
      "metadata": {
        "colab": {
          "base_uri": "https://localhost:8080/",
          "height": 797
        },
        "id": "a0050164-56da-44b4-99f5-1851f142aa10",
        "outputId": "cbf70e2b-f391-490f-8b86-814bdfd5650a"
      },
      "outputs": [
        {
          "output_type": "display_data",
          "data": {
            "text/plain": [
              "<Figure size 600x400 with 1 Axes>"
            ],
            "image/png": "[encoded data removed]"
          },
          "metadata": {}
        },
        {
          "output_type": "display_data",
          "data": {
            "text/plain": [
              "<Figure size 600x400 with 1 Axes>"
            ],
            "image/png": "[encoded data removed]"
          },
          "metadata": {}
        }
      ],
      "source": [
        "fig_w, fig_h = 6,4\n",
        "fig, axs = plt.subplots(figsize=(fig_w, fig_h ))\n",
        "\n",
        "# Plot Accuracy on the first subplot\n",
        "axs.plot(tr_acc_all, label='Training Accuracy')\n",
        "axs.plot(te_acc_all, label='Validation Accuracy')\n",
        "axs.set_title('Model Accuracy')\n",
        "axs.set_xlabel('Epochs')\n",
        "axs.set_ylabel('Accuracy')\n",
        "axs.legend()\n",
        "axs.grid(True)\n",
        "\n",
        "plt.tight_layout()\n",
        "plt.show()\n",
        "\n",
        "\n",
        "fig, axs = plt.subplots( figsize=(fig_w, fig_h ))\n",
        "\n",
        "# Plot Loss on the second subplot\n",
        "axs.plot(tr_loss_all, label='Training Loss')\n",
        "axs.plot(te_loss_all, label='Validation Loss')\n",
        "axs.set_title('Model Loss')\n",
        "axs.set_xlabel('Epochs')\n",
        "axs.set_ylabel('Loss')\n",
        "axs.legend()\n",
        "axs.grid(True)\n",
        "\n",
        "plt.tight_layout()\n",
        "plt.show()"
      ],
      "execution_count": 27
    },
    {
      "cell_type": "markdown",
      "id": "3158bb89-889d-430b-90c2-d54c4e313171",
      "metadata": {
        "id": "3158bb89-889d-430b-90c2-d54c4e313171"
      },
      "source": [
        "## Task: Compare the performance of `model` with `model_test` by plotting the validation loss for `model` and `model_test` ViTs\n"
      ]
    },
    {
      "cell_type": "code",
      "id": "ea3cf54d-9029-4094-81ad-e89e6b16ee62",
      "metadata": {
        "colab": {
          "base_uri": "https://localhost:8080/",
          "height": 407
        },
        "id": "ea3cf54d-9029-4094-81ad-e89e6b16ee62",
        "outputId": "00d17d97-f498-48f8-be2b-c69e14798631"
      },
      "outputs": [
        {
          "output_type": "display_data",
          "data": {
            "text/plain": [
              "<Figure size 600x400 with 1 Axes>"
            ],
            "image/png": "[encoded data removed]"
          },
          "metadata": {}
        }
      ],
      "source": [
        "## Please use the space below to write your answer\n",
        "fig, axs = plt.subplots( figsize=(fig_w, fig_h ))\n",
        "\n",
        "# Plot Loss on the second subplot\n",
        "axs.plot(te_loss_all, label='Validation Loss (model)')\n",
        "axs.plot(te_loss_all_test, label='Validation Loss (model_test)')\n",
        "axs.set_title('Model Loss')\n",
        "axs.set_xlabel('Epochs')\n",
        "axs.set_ylabel('Loss')\n",
        "axs.legend()\n",
        "axs.grid(True)\n",
        "\n",
        "plt.tight_layout()\n",
        "plt.show()"
      ],
      "execution_count": 28
    },
    {
      "cell_type": "markdown",
      "id": "c980db06-f25b-43f5-a20b-4f5e8363bf7c",
      "metadata": {
        "id": "c980db06-f25b-43f5-a20b-4f5e8363bf7c"
      },
      "source": [
        "## Task: Compare the training times of `model` with `model_test` by plotting the training time for each\n"
      ]
    },
    {
      "cell_type": "code",
      "id": "f0ef17b1-d965-4706-93d3-0b824fce7313",
      "metadata": {
        "colab": {
          "base_uri": "https://localhost:8080/",
          "height": 407
        },
        "id": "f0ef17b1-d965-4706-93d3-0b824fce7313",
        "outputId": "a2b94995-cee8-443a-c240-e406c5e3508d"
      },
      "outputs": [
        {
          "output_type": "display_data",
          "data": {
            "text/plain": [
              "<Figure size 600x400 with 1 Axes>"
            ],
            "image/png": "[encoded data removed]"
          },
          "metadata": {}
        }
      ],
      "source": [
        "## Please use the space below to write your answer\n",
        "fig, axs = plt.subplots( figsize=(fig_w, fig_h ))\n",
        "\n",
        "# Plot Loss on the second subplot\n",
        "axs.plot(training_time, label='Training time (model)')\n",
        "axs.plot(training_time_test, label='Training time (model_test)')\n",
        "axs.set_title('Training time')\n",
        "axs.set_xlabel('Epochs')\n",
        "axs.set_ylabel('Seconds')\n",
        "axs.legend()\n",
        "axs.grid(True)\n",
        "\n",
        "plt.tight_layout()\n",
        "plt.show()"
      ],
      "execution_count": 29
    },
    {
      "cell_type": "markdown",
      "id": "a0d9b69b-4e5e-45eb-9678-5fc2d7204189",
      "metadata": {
        "id": "a0d9b69b-4e5e-45eb-9678-5fc2d7204189"
      },
      "source": [
        "## Save and download the trained model weights\n",
        "\n",
        "You have successfully trained the ViT model for the classification of agricultural land from satellite imagery.\n",
        "In this lab, in the interest of time, you have trained the model for 3-5 epochs. However, usually you train the model for around 15-20 epochs, depending on the quality of training data and model metrics for the validation.\n",
        "\n",
        "For your convenience, I have saved a model state dict for the model trained over 20 epochs **[here](https://cf-courses-data.s3.us.cloud-object-storage.appdomain.cloud/rFBrDlu1NNcAzir5Uww8eg/pytorch-cnn-vit-ai-capstone-model-state-dict.pth)**. You can download that for evaluation and further labs on your local machine from **[this link](https://cf-courses-data.s3.us.cloud-object-storage.appdomain.cloud/rFBrDlu1NNcAzir5Uww8eg/pytorch-cnn-vit-ai-capstone-model-state-dict.pth)**.\n",
        "\n",
        "\n",
        "Otherwise, you have also saved the model state dictionary for the best model using the `torch.save` function during training in this lab.\n",
        "\n",
        "You can also download the model state dict for the model that you have just trained for use in the subsequent labs.\n",
        "\n",
        "This is the PyTorch AI model state that can now be used for inferring unclassified images.\n",
        "\n",
        "- You can download the trained model file: `ai_capstone_pytorch_vit_model_state_dict.pth` from the left pane and save it on your local computer.\n",
        "- You can download this model by \"right-clicking\" on the file and then clicking \"Download\".\n",
        "- This model could be used in other labs of this AI capstone course, instead of the model provided at the above link\n"
      ]
    },
    {
      "cell_type": "markdown",
      "id": "76bf51ac-815d-4762-9b53-350b7316fd00",
      "metadata": {
        "id": "76bf51ac-815d-4762-9b53-350b7316fd00"
      },
      "source": [
        "## Save and download the notebook for **final project** submission and evaluation\n",
        "\n",
        "You will need to save and download the completed notebook for final project submission and evaluation.\n",
        "<br>For saving and downloading the completed notebook, please follow the steps given below:</br>\n",
        "\n",
        "<font size = 4>  \n",
        "\n",
        "1) **Complete** all the tasks and questions given in the notebook.\n",
        "\n",
        "<img src=\"https://cf-courses-data.s3.us.cloud-object-storage.appdomain.cloud/nv4jHlPU5_R1q7ZJrZ69eg/DL0321EN-M1L1-Save-IPYNB-Screenshot-1.png\" style=\"width:600px; border:0px solid black;\">\n",
        "\n",
        "2) **Save** the notebook.</style>\n",
        "<img src=\"https://cf-courses-data.s3.us.cloud-object-storage.appdomain.cloud/9-WPWD4mW1d-RV5Il5otTg/DL0321EN-M1L1-Save-IPYNB-Screenshot-2.png\" style=\"width:600px; border:0px solid black;\">\n",
        "\n",
        "3) Identify and right click on the **correct notebook file** in the left pane.</style>\n",
        "<img src=\"https://cf-courses-data.s3.us.cloud-object-storage.appdomain.cloud/RUSRPw7NT6Sof94B7-9naQ/DL0321EN-M1L1-Save-IPYNB-Screenshot-3.png\" style=\"width:600px; border:0px solid black;\">\n",
        "\n",
        "4) Click on **Download**.</style>\n",
        "<img src=\"https://cf-courses-data.s3.us.cloud-object-storage.appdomain.cloud/HHry4GT-vhLEcRi1T_LHGg/DL0321EN-M1L1-Save-IPYNB-Screenshot-4.png\" style=\"width:600px; border:0px solid black;\">\n",
        "\n",
        "5) Download and **Save** the Jupyter notebook file on your computer **for final submission**.</style>\n",
        "<img src=\"https://cf-courses-data.s3.us.cloud-object-storage.appdomain.cloud/hhsJbxc6R-T8_pXQGjMjvg/DL0321EN-M1L1-Save-IPYNB-Screenshot-5.png\" style=\"width:600px; border:0px solid black;\">\n",
        "  </font>\n"
      ]
    },
    {
      "cell_type": "markdown",
      "id": "f7c4ff47-d95c-400f-ae87-56ca79b2ba98",
      "metadata": {
        "id": "f7c4ff47-d95c-400f-ae87-56ca79b2ba98"
      },
      "source": [
        "## Conclusion\n",
        "\n",
        "Congratulations! You've successfully built a PyTorch-based hybrid Convolutional Neural Network (CNN) and Vision Transformer (ViT) for image classification.\n"
      ]
    },
    {
      "cell_type": "markdown",
      "id": "aca5057e-a8f6-478d-8639-fd70fee4f8eb",
      "metadata": {
        "id": "aca5057e-a8f6-478d-8639-fd70fee4f8eb"
      },
      "source": [
        "<h2>Author</h2>\n",
        "\n",
        "[Aman Aggarwal](https://www.linkedin.com/in/aggarwal-aman)\n",
        "\n",
        "Aman Aggarwal is a PhD working at the intersection of neuroscience, AI, and drug discovery. He specializes in quantitative microscopy and image processing.\n",
        "\n"
      ]
    },
    {
      "cell_type": "markdown",
      "id": "e075dc2f-6ffa-45a6-b2d8-860217305244",
      "metadata": {
        "id": "e075dc2f-6ffa-45a6-b2d8-860217305244"
      },
      "source": [
        "<!--\n",
        "## Change Log\n",
        "\n",
        "|  Date (YYYY-MM-DD) |  Version | Changed By  |  Change Description |\n",
        "|---|---|---|---|\n",
        "| 2025-07-24  | 1.0  | Aman  |  Created the lab |\n",
        "| 2025-07-24  | 1.1  | Leah Hanson  | QA reviewed for IBM style guide adherence |\n",
        "\n",
        "-->\n"
      ]
    },
    {
      "cell_type": "markdown",
      "id": "917371aa-f1b6-469e-b57f-cbb963d3eef7",
      "metadata": {
        "id": "917371aa-f1b6-469e-b57f-cbb963d3eef7"
      },
      "source": [
        "© Copyright IBM Corporation. All rights reserved.\n"
      ]
    }
  ],
  "metadata": {
    "kernelspec": {
      "display_name": "Python 3 (ipykernel)",
      "language": "python",
      "name": "python3"
    },
    "language_info": {
      "codemirror_mode": {
        "name": "ipython",
        "version": 3
      },
      "file_extension": ".py",
      "mimetype": "text/x-python",
      "name": "python",
      "nbconvert_exporter": "python",
      "pygments_lexer": "ipython3",
      "version": "3.12.8"
    },
    "prev_pub_hash": "0b399062913092f36c36a0b88bc51722437de5f6a1a7e9bfa34cb7ba4cca70bc",
    "colab": {
      "provenance": []
    },
    "widgets": {
      "application/vnd.jupyter.widget-state+json": {
        "01407fe442c14d47886b156cd95b3565": {
          "model_module": "@jupyter-widgets/controls",
          "model_name": "HBoxModel",
          "model_module_version": "1.5.0",
          "state": {
            "_dom_classes": [],
            "_model_module": "@jupyter-widgets/controls",
            "_model_module_version": "1.5.0",
            "_model_name": "HBoxModel",
            "_view_count": null,
            "_view_module": "@jupyter-widgets/controls",
            "_view_module_version": "1.5.0",
            "_view_name": "HBoxView",
            "box_style": "",
            "children": [
              "IPY_MODEL_319bf10cad4c4c3880ecfca84f2f62ed",
              "IPY_MODEL_2417ffec23664667a9cb7e445f112d78",
              "IPY_MODEL_a78e36f3406348c59cb55aca2919b48c"
            ],
            "layout": "IPY_MODEL_23f985a1136b443b911431cb2afa1184"
          }
        },
        "319bf10cad4c4c3880ecfca84f2f62ed": {
          "model_module": "@jupyter-widgets/controls",
          "model_name": "HTMLModel",
          "model_module_version": "1.5.0",
          "state": {
            "_dom_classes": [],
            "_model_module": "@jupyter-widgets/controls",
            "_model_module_version": "1.5.0",
            "_model_name": "HTMLModel",
            "_view_count": null,
            "_view_module": "@jupyter-widgets/controls",
            "_view_module_version": "1.5.0",
            "_view_name": "HTMLView",
            "description": "",
            "description_tooltip": null,
            "layout": "IPY_MODEL_9693b4fdbfaf40e89c084c46814a6a1b",
            "placeholder": "​",
            "style": "IPY_MODEL_95bab2d0c44b49dcb3300ec95f389f05",
            "value": "Downloading images-dataSAT.tar: 100%"
          }
        },
        "2417ffec23664667a9cb7e445f112d78": {
          "model_module": "@jupyter-widgets/controls",
          "model_name": "FloatProgressModel",
          "model_module_version": "1.5.0",
          "state": {
            "_dom_classes": [],
            "_model_module": "@jupyter-widgets/controls",
            "_model_module_version": "1.5.0",
            "_model_name": "FloatProgressModel",
            "_view_count": null,
            "_view_module": "@jupyter-widgets/controls",
            "_view_module_version": "1.5.0",
            "_view_name": "ProgressView",
            "bar_style": "success",
            "description": "",
            "description_tooltip": null,
            "layout": "IPY_MODEL_5d7a94c81bbe45cea1e570d97cdea5ae",
            "max": 20243456,
            "min": 0,
            "orientation": "horizontal",
            "style": "IPY_MODEL_d1c3f9dc7b1d4602bef4e0176b80e3ee",
            "value": 20243456
          }
        },
        "a78e36f3406348c59cb55aca2919b48c": {
          "model_module": "@jupyter-widgets/controls",
          "model_name": "HTMLModel",
          "model_module_version": "1.5.0",
          "state": {
            "_dom_classes": [],
            "_model_module": "@jupyter-widgets/controls",
            "_model_module_version": "1.5.0",
            "_model_name": "HTMLModel",
            "_view_count": null,
            "_view_module": "@jupyter-widgets/controls",
            "_view_module_version": "1.5.0",
            "_view_name": "HTMLView",
            "description": "",
            "description_tooltip": null,
            "layout": "IPY_MODEL_a18df24e81cf42c0919e3075884a8256",
            "placeholder": "​",
            "style": "IPY_MODEL_97975ab6afc24b1c803b36a7b8d09032",
            "value": " 20243456/20243456 [00:00&lt;00:00, 58168311.06it/s]"
          }
        },
        "23f985a1136b443b911431cb2afa1184": {
          "model_module": "@jupyter-widgets/base",
          "model_name": "LayoutModel",
          "model_module_version": "1.2.0",
          "state": {
            "_model_module": "@jupyter-widgets/base",
            "_model_module_version": "1.2.0",
            "_model_name": "LayoutModel",
            "_view_count": null,
            "_view_module": "@jupyter-widgets/base",
            "_view_module_version": "1.2.0",
            "_view_name": "LayoutView",
            "align_content": null,
            "align_items": null,
            "align_self": null,
            "border": null,
            "bottom": null,
            "display": null,
            "flex": null,
            "flex_flow": null,
            "grid_area": null,
            "grid_auto_columns": null,
            "grid_auto_flow": null,
            "grid_auto_rows": null,
            "grid_column": null,
            "grid_gap": null,
            "grid_row": null,
            "grid_template_areas": null,
            "grid_template_columns": null,
            "grid_template_rows": null,
            "height": null,
            "justify_content": null,
            "justify_items": null,
            "left": null,
            "margin": null,
            "max_height": null,
            "max_width": null,
            "min_height": null,
            "min_width": null,
            "object_fit": null,
            "object_position": null,
            "order": null,
            "overflow": null,
            "overflow_x": null,
            "overflow_y": null,
            "padding": null,
            "right": null,
            "top": null,
            "visibility": null,
            "width": null
          }
        },
        "9693b4fdbfaf40e89c084c46814a6a1b": {
          "model_module": "@jupyter-widgets/base",
          "model_name": "LayoutModel",
          "model_module_version": "1.2.0",
          "state": {
            "_model_module": "@jupyter-widgets/base",
            "_model_module_version": "1.2.0",
            "_model_name": "LayoutModel",
            "_view_count": null,
            "_view_module": "@jupyter-widgets/base",
            "_view_module_version": "1.2.0",
            "_view_name": "LayoutView",
            "align_content": null,
            "align_items": null,
            "align_self": null,
            "border": null,
            "bottom": null,
            "display": null,
            "flex": null,
            "flex_flow": null,
            "grid_area": null,
            "grid_auto_columns": null,
            "grid_auto_flow": null,
            "grid_auto_rows": null,
            "grid_column": null,
            "grid_gap": null,
            "grid_row": null,
            "grid_template_areas": null,
            "grid_template_columns": null,
            "grid_template_rows": null,
            "height": null,
            "justify_content": null,
            "justify_items": null,
            "left": null,
            "margin": null,
            "max_height": null,
            "max_width": null,
            "min_height": null,
            "min_width": null,
            "object_fit": null,
            "object_position": null,
            "order": null,
            "overflow": null,
            "overflow_x": null,
            "overflow_y": null,
            "padding": null,
            "right": null,
            "top": null,
            "visibility": null,
            "width": null
          }
        },
        "95bab2d0c44b49dcb3300ec95f389f05": {
          "model_module": "@jupyter-widgets/controls",
          "model_name": "DescriptionStyleModel",
          "model_module_version": "1.5.0",
          "state": {
            "_model_module": "@jupyter-widgets/controls",
            "_model_module_version": "1.5.0",
            "_model_name": "DescriptionStyleModel",
            "_view_count": null,
            "_view_module": "@jupyter-widgets/base",
            "_view_module_version": "1.2.0",
            "_view_name": "StyleView",
            "description_width": ""
          }
        },
        "5d7a94c81bbe45cea1e570d97cdea5ae": {
          "model_module": "@jupyter-widgets/base",
          "model_name": "LayoutModel",
          "model_module_version": "1.2.0",
          "state": {
            "_model_module": "@jupyter-widgets/base",
            "_model_module_version": "1.2.0",
            "_model_name": "LayoutModel",
            "_view_count": null,
            "_view_module": "@jupyter-widgets/base",
            "_view_module_version": "1.2.0",
            "_view_name": "LayoutView",
            "align_content": null,
            "align_items": null,
            "align_self": null,
            "border": null,
            "bottom": null,
            "display": null,
            "flex": null,
            "flex_flow": null,
            "grid_area": null,
            "grid_auto_columns": null,
            "grid_auto_flow": null,
            "grid_auto_rows": null,
            "grid_column": null,
            "grid_gap": null,
            "grid_row": null,
            "grid_template_areas": null,
            "grid_template_columns": null,
            "grid_template_rows": null,
            "height": null,
            "justify_content": null,
            "justify_items": null,
            "left": null,
            "margin": null,
            "max_height": null,
            "max_width": null,
            "min_height": null,
            "min_width": null,
            "object_fit": null,
            "object_position": null,
            "order": null,
            "overflow": null,
            "overflow_x": null,
            "overflow_y": null,
            "padding": null,
            "right": null,
            "top": null,
            "visibility": null,
            "width": null
          }
        },
        "d1c3f9dc7b1d4602bef4e0176b80e3ee": {
          "model_module": "@jupyter-widgets/controls",
          "model_name": "ProgressStyleModel",
          "model_module_version": "1.5.0",
          "state": {
            "_model_module": "@jupyter-widgets/controls",
            "_model_module_version": "1.5.0",
            "_model_name": "ProgressStyleModel",
            "_view_count": null,
            "_view_module": "@jupyter-widgets/base",
            "_view_module_version": "1.2.0",
            "_view_name": "StyleView",
            "bar_color": null,
            "description_width": ""
          }
        },
        "a18df24e81cf42c0919e3075884a8256": {
          "model_module": "@jupyter-widgets/base",
          "model_name": "LayoutModel",
          "model_module_version": "1.2.0",
          "state": {
            "_model_module": "@jupyter-widgets/base",
            "_model_module_version": "1.2.0",
            "_model_name": "LayoutModel",
            "_view_count": null,
            "_view_module": "@jupyter-widgets/base",
            "_view_module_version": "1.2.0",
            "_view_name": "LayoutView",
            "align_content": null,
            "align_items": null,
            "align_self": null,
            "border": null,
            "bottom": null,
            "display": null,
            "flex": null,
            "flex_flow": null,
            "grid_area": null,
            "grid_auto_columns": null,
            "grid_auto_flow": null,
            "grid_auto_rows": null,
            "grid_column": null,
            "grid_gap": null,
            "grid_row": null,
            "grid_template_areas": null,
            "grid_template_columns": null,
            "grid_template_rows": null,
            "height": null,
            "justify_content": null,
            "justify_items": null,
            "left": null,
            "margin": null,
            "max_height": null,
            "max_width": null,
            "min_height": null,
            "min_width": null,
            "object_fit": null,
            "object_position": null,
            "order": null,
            "overflow": null,
            "overflow_x": null,
            "overflow_y": null,
            "padding": null,
            "right": null,
            "top": null,
            "visibility": null,
            "width": null
          }
        },
        "97975ab6afc24b1c803b36a7b8d09032": {
          "model_module": "@jupyter-widgets/controls",
          "model_name": "DescriptionStyleModel",
          "model_module_version": "1.5.0",
          "state": {
            "_model_module": "@jupyter-widgets/controls",
            "_model_module_version": "1.5.0",
            "_model_name": "DescriptionStyleModel",
            "_view_count": null,
            "_view_module": "@jupyter-widgets/base",
            "_view_module_version": "1.2.0",
            "_view_name": "StyleView",
            "description_width": ""
          }
        },
        "1a0530018dff478ea1f9519e3e40d611": {
          "model_module": "@jupyter-widgets/controls",
          "model_name": "HBoxModel",
          "model_module_version": "1.5.0",
          "state": {
            "_dom_classes": [],
            "_model_module": "@jupyter-widgets/controls",
            "_model_module_version": "1.5.0",
            "_model_name": "HBoxModel",
            "_view_count": null,
            "_view_module": "@jupyter-widgets/controls",
            "_view_module_version": "1.5.0",
            "_view_name": "HBoxView",
            "box_style": "",
            "children": [
              "IPY_MODEL_20b05c6f2a534015b9c5054ee5ed4fa6",
              "IPY_MODEL_51cb9b8fef00498586479216b991ac6d",
              "IPY_MODEL_e523ef682bb7463fae838647df49def4"
            ],
            "layout": "IPY_MODEL_e8d1bbf8df5b432594df54b85238038c"
          }
        },
        "20b05c6f2a534015b9c5054ee5ed4fa6": {
          "model_module": "@jupyter-widgets/controls",
          "model_name": "HTMLModel",
          "model_module_version": "1.5.0",
          "state": {
            "_dom_classes": [],
            "_model_module": "@jupyter-widgets/controls",
            "_model_module_version": "1.5.0",
            "_model_name": "HTMLModel",
            "_view_count": null,
            "_view_module": "@jupyter-widgets/controls",
            "_view_module_version": "1.5.0",
            "_view_name": "HTMLView",
            "description": "",
            "description_tooltip": null,
            "layout": "IPY_MODEL_8d525fec8b9e4d0690fbe3d28161e5a5",
            "placeholder": "​",
            "style": "IPY_MODEL_6d4cfe6be28942d3bbde0990d5c51b77",
            "value": "Extracting images-dataSAT.tar: 100%"
          }
        },
        "51cb9b8fef00498586479216b991ac6d": {
          "model_module": "@jupyter-widgets/controls",
          "model_name": "FloatProgressModel",
          "model_module_version": "1.5.0",
          "state": {
            "_dom_classes": [],
            "_model_module": "@jupyter-widgets/controls",
            "_model_module_version": "1.5.0",
            "_model_name": "FloatProgressModel",
            "_view_count": null,
            "_view_module": "@jupyter-widgets/controls",
            "_view_module_version": "1.5.0",
            "_view_name": "ProgressView",
            "bar_style": "success",
            "description": "",
            "description_tooltip": null,
            "layout": "IPY_MODEL_06cb3e35d4d744a28a24c16890a4d2d3",
            "max": 6003,
            "min": 0,
            "orientation": "horizontal",
            "style": "IPY_MODEL_7647540a79004b14965713b5901f2508",
            "value": 6003
          }
        },
        "e523ef682bb7463fae838647df49def4": {
          "model_module": "@jupyter-widgets/controls",
          "model_name": "HTMLModel",
          "model_module_version": "1.5.0",
          "state": {
            "_dom_classes": [],
            "_model_module": "@jupyter-widgets/controls",
            "_model_module_version": "1.5.0",
            "_model_name": "HTMLModel",
            "_view_count": null,
            "_view_module": "@jupyter-widgets/controls",
            "_view_module_version": "1.5.0",
            "_view_name": "HTMLView",
            "description": "",
            "description_tooltip": null,
            "layout": "IPY_MODEL_0a089633c8d846d9b0fb915e6f277745",
            "placeholder": "​",
            "style": "IPY_MODEL_4542d49192ef47b7bf2f27c46e9b0169",
            "value": " 6003/6003 [00:00&lt;00:00, 9834.54it/s]"
          }
        },
        "e8d1bbf8df5b432594df54b85238038c": {
          "model_module": "@jupyter-widgets/base",
          "model_name": "LayoutModel",
          "model_module_version": "1.2.0",
          "state": {
            "_model_module": "@jupyter-widgets/base",
            "_model_module_version": "1.2.0",
            "_model_name": "LayoutModel",
            "_view_count": null,
            "_view_module": "@jupyter-widgets/base",
            "_view_module_version": "1.2.0",
            "_view_name": "LayoutView",
            "align_content": null,
            "align_items": null,
            "align_self": null,
            "border": null,
            "bottom": null,
            "display": null,
            "flex": null,
            "flex_flow": null,
            "grid_area": null,
            "grid_auto_columns": null,
            "grid_auto_flow": null,
            "grid_auto_rows": null,
            "grid_column": null,
            "grid_gap": null,
            "grid_row": null,
            "grid_template_areas": null,
            "grid_template_columns": null,
            "grid_template_rows": null,
            "height": null,
            "justify_content": null,
            "justify_items": null,
            "left": null,
            "margin": null,
            "max_height": null,
            "max_width": null,
            "min_height": null,
            "min_width": null,
            "object_fit": null,
            "object_position": null,
            "order": null,
            "overflow": null,
            "overflow_x": null,
            "overflow_y": null,
            "padding": null,
            "right": null,
            "top": null,
            "visibility": null,
            "width": null
          }
        },
        "8d525fec8b9e4d0690fbe3d28161e5a5": {
          "model_module": "@jupyter-widgets/base",
          "model_name": "LayoutModel",
          "model_module_version": "1.2.0",
          "state": {
            "_model_module": "@jupyter-widgets/base",
            "_model_module_version": "1.2.0",
            "_model_name": "LayoutModel",
            "_view_count": null,
            "_view_module": "@jupyter-widgets/base",
            "_view_module_version": "1.2.0",
            "_view_name": "LayoutView",
            "align_content": null,
            "align_items": null,
            "align_self": null,
            "border": null,
            "bottom": null,
            "display": null,
            "flex": null,
            "flex_flow": null,
            "grid_area": null,
            "grid_auto_columns": null,
            "grid_auto_flow": null,
            "grid_auto_rows": null,
            "grid_column": null,
            "grid_gap": null,
            "grid_row": null,
            "grid_template_areas": null,
            "grid_template_columns": null,
            "grid_template_rows": null,
            "height": null,
            "justify_content": null,
            "justify_items": null,
            "left": null,
            "margin": null,
            "max_height": null,
            "max_width": null,
            "min_height": null,
            "min_width": null,
            "object_fit": null,
            "object_position": null,
            "order": null,
            "overflow": null,
            "overflow_x": null,
            "overflow_y": null,
            "padding": null,
            "right": null,
            "top": null,
            "visibility": null,
            "width": null
          }
        },
        "6d4cfe6be28942d3bbde0990d5c51b77": {
          "model_module": "@jupyter-widgets/controls",
          "model_name": "DescriptionStyleModel",
          "model_module_version": "1.5.0",
          "state": {
            "_model_module": "@jupyter-widgets/controls",
            "_model_module_version": "1.5.0",
            "_model_name": "DescriptionStyleModel",
            "_view_count": null,
            "_view_module": "@jupyter-widgets/base",
            "_view_module_version": "1.2.0",
            "_view_name": "StyleView",
            "description_width": ""
          }
        },
        "06cb3e35d4d744a28a24c16890a4d2d3": {
          "model_module": "@jupyter-widgets/base",
          "model_name": "LayoutModel",
          "model_module_version": "1.2.0",
          "state": {
            "_model_module": "@jupyter-widgets/base",
            "_model_module_version": "1.2.0",
            "_model_name": "LayoutModel",
            "_view_count": null,
            "_view_module": "@jupyter-widgets/base",
            "_view_module_version": "1.2.0",
            "_view_name": "LayoutView",
            "align_content": null,
            "align_items": null,
            "align_self": null,
            "border": null,
            "bottom": null,
            "display": null,
            "flex": null,
            "flex_flow": null,
            "grid_area": null,
            "grid_auto_columns": null,
            "grid_auto_flow": null,
            "grid_auto_rows": null,
            "grid_column": null,
            "grid_gap": null,
            "grid_row": null,
            "grid_template_areas": null,
            "grid_template_columns": null,
            "grid_template_rows": null,
            "height": null,
            "justify_content": null,
            "justify_items": null,
            "left": null,
            "margin": null,
            "max_height": null,
            "max_width": null,
            "min_height": null,
            "min_width": null,
            "object_fit": null,
            "object_position": null,
            "order": null,
            "overflow": null,
            "overflow_x": null,
            "overflow_y": null,
            "padding": null,
            "right": null,
            "top": null,
            "visibility": null,
            "width": null
          }
        },
        "7647540a79004b14965713b5901f2508": {
          "model_module": "@jupyter-widgets/controls",
          "model_name": "ProgressStyleModel",
          "model_module_version": "1.5.0",
          "state": {
            "_model_module": "@jupyter-widgets/controls",
            "_model_module_version": "1.5.0",
            "_model_name": "ProgressStyleModel",
            "_view_count": null,
            "_view_module": "@jupyter-widgets/base",
            "_view_module_version": "1.2.0",
            "_view_name": "StyleView",
            "bar_color": null,
            "description_width": ""
          }
        },
        "0a089633c8d846d9b0fb915e6f277745": {
          "model_module": "@jupyter-widgets/base",
          "model_name": "LayoutModel",
          "model_module_version": "1.2.0",
          "state": {
            "_model_module": "@jupyter-widgets/base",
            "_model_module_version": "1.2.0",
            "_model_name": "LayoutModel",
            "_view_count": null,
            "_view_module": "@jupyter-widgets/base",
            "_view_module_version": "1.2.0",
            "_view_name": "LayoutView",
            "align_content": null,
            "align_items": null,
            "align_self": null,
            "border": null,
            "bottom": null,
            "display": null,
            "flex": null,
            "flex_flow": null,
            "grid_area": null,
            "grid_auto_columns": null,
            "grid_auto_flow": null,
            "grid_auto_rows": null,
            "grid_column": null,
            "grid_gap": null,
            "grid_row": null,
            "grid_template_areas": null,
            "grid_template_columns": null,
            "grid_template_rows": null,
            "height": null,
            "justify_content": null,
            "justify_items": null,
            "left": null,
            "margin": null,
            "max_height": null,
            "max_width": null,
            "min_height": null,
            "min_width": null,
            "object_fit": null,
            "object_position": null,
            "order": null,
            "overflow": null,
            "overflow_x": null,
            "overflow_y": null,
            "padding": null,
            "right": null,
            "top": null,
            "visibility": null,
            "width": null
          }
        },
        "4542d49192ef47b7bf2f27c46e9b0169": {
          "model_module": "@jupyter-widgets/controls",
          "model_name": "DescriptionStyleModel",
          "model_module_version": "1.5.0",
          "state": {
            "_model_module": "@jupyter-widgets/controls",
            "_model_module_version": "1.5.0",
            "_model_name": "DescriptionStyleModel",
            "_view_count": null,
            "_view_module": "@jupyter-widgets/base",
            "_view_module_version": "1.2.0",
            "_view_name": "StyleView",
            "description_width": ""
          }
        }
      }
    }
  },
  "nbformat": 4,
  "nbformat_minor": 5
}